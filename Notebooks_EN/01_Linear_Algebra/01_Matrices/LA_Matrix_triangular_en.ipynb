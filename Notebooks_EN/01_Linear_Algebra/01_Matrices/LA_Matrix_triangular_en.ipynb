{
  "cells": [
    {
      "cell_type": "markdown",
      "metadata": {
        "id": "view-in-github",
        "colab_type": "text"
      },
      "source": [
        "<a href=\"https://colab.research.google.com/github/HafizYuzbasov/pythonn/blob/main/Notebooks_EN/01_Linear_Algebra/01_Matrices/LA_Matrix_triangular_en.ipynb\" target=\"_parent\"><img src=\"https://colab.research.google.com/assets/colab-badge.svg\" alt=\"Open In Colab\"/></a>"
      ]
    },
    {
      "cell_type": "markdown",
      "metadata": {
        "id": "ikiF5OAHwtXR"
      },
      "source": [
        "# Triangular Matrices and determinant calculation"
      ]
    },
    {
      "cell_type": "code",
      "execution_count": null,
      "metadata": {
        "id": "8Gr7fRqUwtXU",
        "outputId": "ee083767-583f-48cf-bf93-815193046a5c"
      },
      "outputs": [
        {
          "data": {
            "text/markdown": [
              "**Initial Matrix:**"
            ],
            "text/plain": [
              "<IPython.core.display.Markdown object>"
            ]
          },
          "metadata": {},
          "output_type": "display_data"
        },
        {
          "data": {
            "text/latex": [
              "$\\displaystyle \\left[\\begin{matrix}1 & 2 & 3\\\\2 & 5 & 3\\\\3 & 2 & 1\\end{matrix}\\right]$"
            ],
            "text/plain": [
              "Matrix([\n",
              "[1, 2, 3],\n",
              "[2, 5, 3],\n",
              "[3, 2, 1]])"
            ]
          },
          "metadata": {},
          "output_type": "display_data"
        }
      ],
      "source": [
        "import sympy as sp\n",
        "from sympy import Matrix, symbols, Rational\n",
        "from IPython.display import display, Markdown\n",
        "\n",
        "class SymbolicMatrix:\n",
        "    def __init__(self, matrix):\n",
        "        self.matrix = Matrix(matrix).applyfunc(Rational)\n",
        "        self.operations = []\n",
        "        display(Markdown(\"**Initial Matrix:**\"))\n",
        "        display(self.matrix)  # Display the matrix upon initialization\n",
        "\n",
        "    def __repr__(self):\n",
        "        return repr(self.matrix)  # Use Matrix's repr\n",
        "\n",
        "    def __str__(self):\n",
        "        return str(self.matrix)  # Use Matrix's str\n",
        "\n",
        "    def _repr_latex_(self):\n",
        "        return self.matrix._repr_latex_()  # Delegate LaTeX display\n",
        "\n",
        "    def _validate_row_number(self, row):\n",
        "        if not isinstance(row, int):\n",
        "            raise TypeError(\"Row number must be an integer.\")\n",
        "        if row < 1 or row > self.matrix.rows:\n",
        "            raise IndexError(f\"Row number must be in the range from 1 to {self.matrix.rows}.\")\n",
        "        return row - 1\n",
        "\n",
        "    def _validate_col_number(self, col):\n",
        "        if not isinstance(col, int):\n",
        "            raise TypeError(\"Column number must be an integer.\")\n",
        "        if col < 1 or col > self.matrix.cols:\n",
        "            raise IndexError(f\"Column number must be in the range from 1 to {self.matrix.cols}.\")\n",
        "        return col - 1\n",
        "\n",
        "    # Row operations\n",
        "    def add_row(self, target_row, source_row, coefficient):\n",
        "        target_idx = self._validate_row_number(target_row)\n",
        "        source_idx = self._validate_row_number(source_row)\n",
        "        coefficient = Rational(coefficient)\n",
        "\n",
        "        self.matrix.row_op(target_idx, lambda v, j: v + coefficient * self.matrix[source_idx, j])\n",
        "        operation_str = f\"r{target_row} = r{target_row} + {coefficient}*r{source_row}\"\n",
        "        self.operations.append(operation_str)\n",
        "        display(Markdown(f\"**Operation:** {operation_str}\"))\n",
        "        display(self.matrix)\n",
        "\n",
        "    def multiply_row(self, row, coefficient):\n",
        "        row_idx = self._validate_row_number(row)\n",
        "        coefficient = Rational(coefficient)\n",
        "        self.matrix.row_op(row_idx, lambda v, _: coefficient * v)\n",
        "        operation_str = f\"r{row} = {coefficient}*r{row}\"\n",
        "        self.operations.append(operation_str)\n",
        "        display(Markdown(f\"**Operation:** {operation_str}\"))\n",
        "        display(self.matrix)\n",
        "\n",
        "    def swap_rows(self, row1, row2):\n",
        "        row1_idx = self._validate_row_number(row1)\n",
        "        row2_idx = self._validate_row_number(row2)\n",
        "        self.matrix.row_swap(row1_idx, row2_idx)\n",
        "        operation_str = f\"Swap r{row1} <-> r{row2}\"\n",
        "        self.operations.append(operation_str)\n",
        "        display(Markdown(f\"**Operation:** {operation_str}\"))\n",
        "        display(self.matrix)\n",
        "\n",
        "    # Column operations\n",
        "    def add_col(self, target_col, source_col, coefficient):\n",
        "        target_idx = self._validate_col_number(target_col)\n",
        "        source_idx = self._validate_col_number(source_col)\n",
        "        self.matrix.col_op(target_idx, lambda v, i: v + coefficient * self.matrix[i, source_idx])\n",
        "        operation_str = f\"c{target_col} = c{target_col} + {coefficient}*c{source_col}\"\n",
        "        self.operations.append(operation_str)\n",
        "        display(Markdown(f\"**Operation:** {operation_str}\"))\n",
        "        display(self.matrix)\n",
        "\n",
        "    def multiply_col(self, col, coefficient):\n",
        "        col_idx = self._validate_col_number(col)\n",
        "        self.matrix.col_op(col_idx, lambda v, _: coefficient * v)\n",
        "        operation_str = f\"c{col} = {coefficient}*c{col}\"\n",
        "        self.operations.append(operation_str)\n",
        "        display(Markdown(f\"**Operation:** {operation_str}\"))\n",
        "        display(self.matrix)\n",
        "\n",
        "    def swap_cols(self, col1, col2):\n",
        "        col1_idx = self._validate_col_number(col1)\n",
        "        col2_idx = self._validate_col_number(col2)\n",
        "        self.matrix.col_swap(col1_idx, col2_idx)\n",
        "        operation_str = f\"Swap c{col1} <-> c{col2}\"\n",
        "        self.operations.append(operation_str)\n",
        "        display(Markdown(f\"**Operation:** {operation_str}\"))\n",
        "        display(self.matrix)\n",
        "\n",
        "    # Display the operations performed\n",
        "    def print_operations(self):\n",
        "        display(Markdown(\"**Performed Operations:**\"))\n",
        "        for op in self.operations:\n",
        "            print(op)\n",
        "\n",
        "# Example usage\n",
        "mat = [[1, 2, 3], [2, 5, 3], [3, 2, 1]]\n",
        "\n",
        "m = SymbolicMatrix(mat) # instance of SymbolicMatrix class\n",
        "\n",
        "# define the same matrix for computation check\n",
        "original_matrix = sp.Matrix(mat)"
      ]
    },
    {
      "cell_type": "code",
      "execution_count": null,
      "metadata": {
        "id": "bDTPmSFHwtXY",
        "outputId": "35a1ae27-83e5-4a13-c3c5-a46f01e20248"
      },
      "outputs": [
        {
          "data": {
            "text/markdown": [
              "**Operation:** r2 = r2 + -2*r1"
            ],
            "text/plain": [
              "<IPython.core.display.Markdown object>"
            ]
          },
          "metadata": {},
          "output_type": "display_data"
        },
        {
          "data": {
            "text/latex": [
              "$\\displaystyle \\left[\\begin{matrix}1 & 2 & 3\\\\0 & 1 & -3\\\\3 & 2 & 1\\end{matrix}\\right]$"
            ],
            "text/plain": [
              "Matrix([\n",
              "[1, 2,  3],\n",
              "[0, 1, -3],\n",
              "[3, 2,  1]])"
            ]
          },
          "metadata": {},
          "output_type": "display_data"
        }
      ],
      "source": [
        "m.add_row(2, 1, -2)"
      ]
    },
    {
      "cell_type": "code",
      "execution_count": null,
      "metadata": {
        "id": "MU0KZfRDwtXZ",
        "outputId": "ec2c54a3-013a-4c09-a33c-0901f0c20491"
      },
      "outputs": [
        {
          "data": {
            "text/markdown": [
              "**Operation:** r3 = r3 + -3*r1"
            ],
            "text/plain": [
              "<IPython.core.display.Markdown object>"
            ]
          },
          "metadata": {},
          "output_type": "display_data"
        },
        {
          "data": {
            "text/latex": [
              "$\\displaystyle \\left[\\begin{matrix}1 & 2 & 3\\\\0 & 1 & -3\\\\0 & -4 & -8\\end{matrix}\\right]$"
            ],
            "text/plain": [
              "Matrix([\n",
              "[1,  2,  3],\n",
              "[0,  1, -3],\n",
              "[0, -4, -8]])"
            ]
          },
          "metadata": {},
          "output_type": "display_data"
        }
      ],
      "source": [
        "m.add_row(3, 1, -3)"
      ]
    },
    {
      "cell_type": "code",
      "execution_count": null,
      "metadata": {
        "id": "4XoJbfM6wtXa",
        "outputId": "2be95f98-60a7-418d-fd6b-011a3d1209af"
      },
      "outputs": [
        {
          "data": {
            "text/markdown": [
              "**Operation:** r3 = r3 + 4*r2"
            ],
            "text/plain": [
              "<IPython.core.display.Markdown object>"
            ]
          },
          "metadata": {},
          "output_type": "display_data"
        },
        {
          "data": {
            "text/latex": [
              "$\\displaystyle \\left[\\begin{matrix}1 & 2 & 3\\\\0 & 1 & -3\\\\0 & 0 & -20\\end{matrix}\\right]$"
            ],
            "text/plain": [
              "Matrix([\n",
              "[1, 2,   3],\n",
              "[0, 1,  -3],\n",
              "[0, 0, -20]])"
            ]
          },
          "metadata": {},
          "output_type": "display_data"
        }
      ],
      "source": [
        "m.add_row(3, 2, 4)"
      ]
    },
    {
      "cell_type": "markdown",
      "metadata": {
        "id": "JlRC29WlwtXb"
      },
      "source": [
        "The resulting matrix is an upper triangular matrix.\n",
        "\n",
        "### Determinant of a Triangular Matrix\n",
        "\n",
        "For a triangular matrix, the determinant is equal to the product of the elements on its diagonal."
      ]
    },
    {
      "cell_type": "code",
      "execution_count": null,
      "metadata": {
        "id": "Q9rRHIH_wtXb",
        "outputId": "2fd5221f-2af1-4f29-cf33-c63ec11bf72f"
      },
      "outputs": [
        {
          "data": {
            "text/plain": [
              "True"
            ]
          },
          "execution_count": 5,
          "metadata": {},
          "output_type": "execute_result"
        }
      ],
      "source": [
        "# The determinant of a triangular matrix is the product of the diagonal elements!\n",
        "original_matrix.det() == 1 * 1 * (-20)"
      ]
    },
    {
      "cell_type": "markdown",
      "metadata": {
        "id": "cqEP5dnVwtXc"
      },
      "source": [
        "---\n",
        "\n",
        "## Exercises for Students\n",
        "\n",
        "Perform row and column operations to reduce the following matrices to an upper triangular form and calculate their determinants by taking the product of the diagonal elements.\n",
        "\n",
        "1.\n",
        "$$\n",
        "A = \\begin{bmatrix}\n",
        "12 & 3 \\\\\n",
        "-18 & -4\n",
        "\\end{bmatrix}\n",
        "$$\n",
        "\n",
        "2.\n",
        "\n",
        "$$\n",
        "B = \\begin{bmatrix}\n",
        "1 & 2 & 3 \\\\\n",
        "4 & 5 & 6 \\\\\n",
        "7 & 8 & 9\n",
        "\\end{bmatrix}\n",
        "$$"
      ]
    },
    {
      "cell_type": "markdown",
      "metadata": {
        "id": "LmqM091TwtXc"
      },
      "source": [
        "To find the rank of the matrix\n",
        "\n",
        "$\n",
        "A = \\begin{pmatrix}\n",
        "1 & 2 \\\\\n",
        "-1 & 8 \\\\\n",
        "3 & -4\n",
        "\\end{pmatrix},\n",
        "$\n",
        "\n",
        "we can analyze its rows and check for linear independence.\n",
        "\n",
        "### Step 1: Form the Row Echelon Form\n",
        "\n",
        "We can use row operations to simplify the matrix.\n",
        "\n",
        "Starting with:\n",
        "\n",
        "$\n",
        "\\begin{pmatrix}\n",
        "1 & 2 \\\\\n",
        "-1 & 8 \\\\\n",
        "3 & -4\n",
        "\\end{pmatrix}\n",
        "$\n",
        "\n",
        "**Row Operations:**\n",
        "1. Replace Row 2 with Row 2 + Row 1:\n",
        "   $\n",
        "   R_2 = R_2 + R_1 \\implies \\begin{pmatrix}\n",
        "   1 & 2 \\\\\n",
        "   0 & 10 \\\\\n",
        "   3 & -4\n",
        "   \\end{pmatrix}\n",
        "   $\n",
        "\n",
        "2. Replace Row 3 with Row 3 - 3 * Row 1:\n",
        "   $\n",
        "   R_3 = R_3 - 3R_1 \\implies \\begin{pmatrix}\n",
        "   1 & 2 \\\\\n",
        "   0 & 10 \\\\\n",
        "   0 & -10\n",
        "   \\end{pmatrix}\n",
        "   $\n",
        "\n",
        "3. Now replace Row 3 with Row 3 + Row 2:\n",
        "   $\n",
        "   R_3 = R_3 + R_2 \\implies \\begin{pmatrix}\n",
        "   1 & 2 \\\\\n",
        "   0 & 10 \\\\\n",
        "   0 & 0\n",
        "   \\end{pmatrix}\n",
        "   $\n",
        "\n",
        "### Step 2: Count the Non-Zero Rows\n",
        "\n",
        "The row echelon form shows two non-zero rows:\n",
        "\n",
        "$\n",
        "\\begin{pmatrix}\n",
        "1 & 2 \\\\\n",
        "0 & 10 \\\\\n",
        "0 & 0\n",
        "\\end{pmatrix}\n",
        "$\n",
        "\n",
        "### Conclusion\n",
        "\n",
        "Since there are 2 non-zero rows, the rank of the matrix \\(A\\) is:\n",
        "\n",
        "$\n",
        "\\text{rank}(A) = 2.\n",
        "$"
      ]
    },
    {
      "cell_type": "code",
      "source": [
        "!pip install sympy\n",
        "from sympy import Matrix, Rational\n",
        "\n",
        "A = [[12, 3], [-18, -4]]\n",
        "matrix_A = Matrix(A)  # Create a Matrix object using sympy.Matrix\n",
        "matrix_A.row_op(1, lambda v, j: v + Rational(3, 2) * matrix_A[0, j])  # Perform row operation: R2 = R2 + (3/2)R1\n",
        "# In sympy, row operations"
      ],
      "metadata": {
        "id": "rIW90ITzxHtk",
        "outputId": "f1144187-2696-4677-dbc9-d39f730e46ab",
        "colab": {
          "base_uri": "https://localhost:8080/"
        }
      },
      "execution_count": 2,
      "outputs": [
        {
          "output_type": "stream",
          "name": "stdout",
          "text": [
            "Requirement already satisfied: sympy in /usr/local/lib/python3.10/dist-packages (1.13.3)\n",
            "Requirement already satisfied: mpmath<1.4,>=1.1.0 in /usr/local/lib/python3.10/dist-packages (from sympy) (1.3.0)\n"
          ]
        }
      ]
    },
    {
      "cell_type": "markdown",
      "source": [
        "To find the rank of the matrix\n",
        "\n",
        "$\n",
        "B = \\begin{pmatrix}\n",
        "1 & 4 & 7 \\\\\n",
        "2 & 5 & 8 \\\\\n",
        "3 & 6 & 9\n",
        "\\end{pmatrix},\n",
        "$\n",
        "\n",
        "we can use row operations to bring it to row echelon form and then count the number of non-zero rows.\n",
        "\n",
        "### Step 1: Form the Row Echelon Form\n",
        "\n",
        "Starting with:\n",
        "\n",
        "$\n",
        "B = \\begin{pmatrix}\n",
        "1 & 4 & 7 \\\\\n",
        "2 & 5 & 8 \\\\\n",
        "3 & 6 & 9\n",
        "\\end{pmatrix}\n",
        "$\n",
        "\n",
        "**Row Operations:**\n",
        "\n",
        "1. Replace Row 2 with Row 2 - 2 * Row 1:\n",
        "   $\n",
        "   R_2 = R_2 - 2R_1 \\implies \\begin{pmatrix}\n",
        "   1 & 4 & 7 \\\\\n",
        "   0 & -3 & -6 \\\\\n",
        "   3 & 6 & 9\n",
        "   \\end{pmatrix}\n",
        "   $\n",
        "\n",
        "2. Replace Row 3 with Row 3 - 3 * Row 1:\n",
        "   $\n",
        "   R_3 = R_3 - 3R_1 \\implies \\begin{pmatrix}\n",
        "   1 & 4 & 7 \\\\\n",
        "   0 & -3 & -6 \\\\\n",
        "   0 & -6 & -12\n",
        "   \\end{pmatrix}\n",
        "   $\n",
        "\n",
        "3. Now replace Row 3 with Row 3 - 2 * Row 2:\n",
        "   $\n",
        "   R_3 = R_3 - 2R_2 \\implies \\begin{pmatrix}\n",
        "   1 & 4 & 7 \\\\\n",
        "   0 & -3 & -6 \\\\\n",
        "   0 & 0 & 0\n",
        "   \\end{pmatrix}\n",
        "   $\n",
        "\n",
        "### Step 2: Count the Non-Zero Rows\n",
        "\n",
        "The row echelon form shows two non-zero rows:\n",
        "\n",
        "$\n",
        "\\begin{pmatrix}\n",
        "1 & 4 & 7 \\\\\n",
        "0 & -3 & -6 \\\\\n",
        "0 & 0 & 0\n",
        "\\end{pmatrix}\n",
        "$\n",
        "\n",
        "### Conclusion\n",
        "\n",
        "Since there are 2 non-zero rows, the rank of the matrix \\(B\\) is:\n",
        "\n",
        "$\n",
        "\\text{rank}(B) = 2.\n",
        "$"
      ],
      "metadata": {
        "id": "cHO7lPuAxbVI"
      }
    },
    {
      "cell_type": "code",
      "source": [
        "!pip install sympy\n",
        "from sympy import Matrix\n",
        "\n",
        "B = [[1, 4, 7], [2, 5, 8], [3, 6, 9]]  # Define the matrix B\n",
        "matrix_B = Matrix(B)  # Create a Matrix object using sympy.Matrix\n",
        "\n",
        "print(matrix_B)  # Print the matrix to verify\n",
        "print(matrix_B.det())  # Calculate and print the determinant"
      ],
      "metadata": {
        "id": "Z20_IuMExumX",
        "outputId": "dc1aaab8-4657-4269-8570-93b70863a4bf",
        "colab": {
          "base_uri": "https://localhost:8080/"
        }
      },
      "execution_count": 3,
      "outputs": [
        {
          "output_type": "stream",
          "name": "stdout",
          "text": [
            "Requirement already satisfied: sympy in /usr/local/lib/python3.10/dist-packages (1.13.3)\n",
            "Requirement already satisfied: mpmath<1.4,>=1.1.0 in /usr/local/lib/python3.10/dist-packages (from sympy) (1.3.0)\n",
            "Matrix([[1, 4, 7], [2, 5, 8], [3, 6, 9]])\n",
            "0\n"
          ]
        }
      ]
    }
  ],
  "metadata": {
    "kernelspec": {
      "display_name": "Python 3",
      "language": "python",
      "name": "python3"
    },
    "language_info": {
      "codemirror_mode": {
        "name": "ipython",
        "version": 3
      },
      "file_extension": ".py",
      "mimetype": "text/x-python",
      "name": "python",
      "nbconvert_exporter": "python",
      "pygments_lexer": "ipython3",
      "version": "3.11.9"
    },
    "colab": {
      "provenance": [],
      "include_colab_link": true
    }
  },
  "nbformat": 4,
  "nbformat_minor": 0
}