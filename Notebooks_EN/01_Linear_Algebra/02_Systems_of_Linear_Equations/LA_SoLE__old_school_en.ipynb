{
  "cells": [
    {
      "cell_type": "markdown",
      "metadata": {
        "id": "view-in-github",
        "colab_type": "text"
      },
      "source": [
        "<a href=\"https://colab.research.google.com/github/HafizYuzbasov/pythonn/blob/main/Notebooks_EN/01_Linear_Algebra/02_Systems_of_Linear_Equations/LA_SoLE__old_school_en.ipynb\" target=\"_parent\"><img src=\"https://colab.research.google.com/assets/colab-badge.svg\" alt=\"Open In Colab\"/></a>"
      ]
    },
    {
      "cell_type": "markdown",
      "metadata": {
        "id": "YIXyZDPeyTXj"
      },
      "source": [
        "# School Method for Solving Systems of Linear Equations"
      ]
    },
    {
      "cell_type": "code",
      "execution_count": null,
      "metadata": {
        "id": "ZMTFmZKXyTXm"
      },
      "outputs": [],
      "source": [
        "import sympy as sp\n",
        "from sympy import symbols, Eq, expand, solve\n",
        "\n",
        "class EnhancedEq(Eq):\n",
        "    def __add__(self, other):\n",
        "        return EnhancedEq(self.lhs + other.lhs, self.rhs + other.rhs)\n",
        "\n",
        "    def __sub__(self, other):\n",
        "        return EnhancedEq(self.lhs - other.lhs, self.rhs - other.rhs)\n",
        "\n",
        "    def __mul__(self, scalar):\n",
        "        return EnhancedEq(scalar * self.lhs, scalar * self.rhs)\n",
        "\n",
        "    def __rmul__(self, scalar):\n",
        "        return self.__mul__(scalar)\n",
        "\n",
        "    def simplify(self):\n",
        "        return EnhancedEq(expand(self.lhs), expand(self.rhs))\n",
        "\n",
        "    def substitute(self, *args, **kwargs):\n",
        "        return EnhancedEq(self.lhs.subs(*args, **kwargs), self.rhs.subs(*args, **kwargs))\n",
        "\n",
        "    def solve_for(self, symbol):\n",
        "        return solve(self, symbol)\n",
        "\n",
        "# Example usage:\n",
        "x, y = symbols('x y')\n",
        "\n",
        "# Define equations\n",
        "eq1 = EnhancedEq(2*x + y, 5)\n",
        "eq2 = EnhancedEq(x - y, 1)"
      ]
    },
    {
      "cell_type": "code",
      "execution_count": null,
      "metadata": {
        "id": "XdSGDYZCyTXo",
        "outputId": "dfad187a-0338-4c58-ab51-7e9a9774121a"
      },
      "outputs": [
        {
          "name": "stdout",
          "output_type": "stream",
          "text": [
            "First equation:\n"
          ]
        },
        {
          "data": {
            "text/latex": [
              "$\\displaystyle 2 x + y = 5$"
            ],
            "text/plain": [
              "Eq(2*x + y, 5)"
            ]
          },
          "execution_count": 2,
          "metadata": {},
          "output_type": "execute_result"
        }
      ],
      "source": [
        "print(\"First equation:\")\n",
        "eq1"
      ]
    },
    {
      "cell_type": "code",
      "execution_count": null,
      "metadata": {
        "id": "dT0GL840yTXp",
        "outputId": "85aacdc5-3a0d-4607-eec3-20e28ee7a930"
      },
      "outputs": [
        {
          "name": "stdout",
          "output_type": "stream",
          "text": [
            "Second equation:\n"
          ]
        },
        {
          "data": {
            "text/latex": [
              "$\\displaystyle x - y = 1$"
            ],
            "text/plain": [
              "Eq(x - y, 1)"
            ]
          },
          "execution_count": 3,
          "metadata": {},
          "output_type": "execute_result"
        }
      ],
      "source": [
        "print(\"Second equation:\")\n",
        "eq2"
      ]
    },
    {
      "cell_type": "code",
      "execution_count": null,
      "metadata": {
        "id": "T0b1xsG7yTXq",
        "outputId": "87f7da0d-babc-4df3-a4e8-2426ec7f321a"
      },
      "outputs": [
        {
          "data": {
            "text/latex": [
              "$\\displaystyle 3 x = 6$"
            ],
            "text/plain": [
              "Eq(3*x, 6)"
            ]
          },
          "execution_count": 4,
          "metadata": {},
          "output_type": "execute_result"
        }
      ],
      "source": [
        "# Add the equations\n",
        "eq3 = eq1 + eq2\n",
        "eq3"
      ]
    },
    {
      "cell_type": "code",
      "execution_count": null,
      "metadata": {
        "id": "0_CNb6zuyTXq",
        "outputId": "1a826431-bc38-48fb-c195-4567513726fb"
      },
      "outputs": [
        {
          "data": {
            "text/latex": [
              "$\\displaystyle 2$"
            ],
            "text/plain": [
              "2"
            ]
          },
          "execution_count": 5,
          "metadata": {},
          "output_type": "execute_result"
        }
      ],
      "source": [
        "# We have an equation with one unknown, so we can solve it\n",
        "sol_x = eq3.solve_for(x)[0]\n",
        "sol_x"
      ]
    },
    {
      "cell_type": "code",
      "execution_count": null,
      "metadata": {
        "id": "Q2JB0DXdyTXr",
        "outputId": "5303d23b-2286-44c3-bb9f-9aa60d58e68c"
      },
      "outputs": [
        {
          "data": {
            "text/latex": [
              "$\\displaystyle 2 - y = 1$"
            ],
            "text/plain": [
              "Eq(2 - y, 1)"
            ]
          },
          "execution_count": 6,
          "metadata": {},
          "output_type": "execute_result"
        }
      ],
      "source": [
        "# Substitute the solution into equation 2\n",
        "eq2 = eq2.substitute(x, sol_x)\n",
        "eq2"
      ]
    },
    {
      "cell_type": "code",
      "execution_count": null,
      "metadata": {
        "id": "T0_ZrtvbyTXr",
        "outputId": "79d3b1cd-e140-4dfd-ccc7-81b629ab3c06"
      },
      "outputs": [
        {
          "data": {
            "text/latex": [
              "$\\displaystyle 1$"
            ],
            "text/plain": [
              "1"
            ]
          },
          "execution_count": 7,
          "metadata": {},
          "output_type": "execute_result"
        }
      ],
      "source": [
        "# We get an equation with one unknown, so we can solve it\n",
        "eq2.solve_for(y)[0]"
      ]
    },
    {
      "cell_type": "code",
      "execution_count": null,
      "metadata": {
        "id": "jq6VzJpeyTXr",
        "outputId": "e4008fea-57e8-48f9-8a65-ace05395dccd"
      },
      "outputs": [
        {
          "data": {
            "text/plain": [
              "{x: 2, y: 1}"
            ]
          },
          "execution_count": 8,
          "metadata": {},
          "output_type": "execute_result"
        }
      ],
      "source": [
        "# Thus x=2, y=1\n",
        "# Verify with sympy\n",
        "sp.solve([eq1, eq2])"
      ]
    },
    {
      "cell_type": "markdown",
      "metadata": {
        "id": "3V2WZ9HqyTXs"
      },
      "source": [
        "---\n",
        "\n",
        "### Exercises for Students\n",
        "\n",
        "Solve the following systems of equations similarly to the example above:\n",
        "\n",
        "* $3x-2y=5, \\quad 2x+3y=7$,\n",
        "* $2x-3y=10, \\quad 4x+5y=20$,\n",
        "* $2x - y + z = 3, \\quad x + 2y - z = 1, \\quad 3x - y + 2z = 11$.\n",
        "* $2x-3y+4z+2t=2, \\quad 3x+2y-5z+3t=3, \\quad 4x-3y+2z-5t=4, \\quad 5x+4y-3z+2t=5$."
      ]
    },
    {
      "cell_type": "markdown",
      "source": [
        "\n",
        "\n",
        "### 1. **Slope-Intercept Form**\n",
        "\n",
        "To write the equation in slope-intercept form \\(y = mx + b\\), we can solve for \\(y\\):\n",
        "\n",
        "$\n",
        "3x - 2y = 5\n",
        "$\n",
        "\n",
        "Rearranging gives:\n",
        "\n",
        "$\n",
        "-2y = -3x + 5\n",
        "$\n",
        "\n",
        "Dividing by \\(-2\\):\n",
        "\n",
        "$\n",
        "y = \\frac{3}{2}x - \\frac{5}{2}\n",
        "$\n",
        "\n",
        "Here, the slope \\(m\\) is \\(\\frac{3}{2}\\) and the y-intercept \\(b\\) is \\(-\\frac{5}{2}\\).\n",
        "\n",
        "### 2. **Finding Intercepts**\n",
        "\n",
        "- **x-intercept:** Set \\(y = 0\\):\n",
        "  $\n",
        "  3x = 5 \\implies x = \\frac{5}{3}\n",
        "  $\n",
        "  So, the x-intercept is \\(\\left(\\frac{5}{3}, 0\\right)\\).\n",
        "\n",
        "- **y-intercept:** Set \\(x = 0\\):\n",
        "  $\n",
        "  -2y = 5 \\implies y = -\\frac{5}{2}\n",
        "  $\n",
        "  So, the y-intercept is \\(\\left(0, -\\frac{5}{2}\\right)\\).\n",
        "\n",
        "### 3. **Solutions**\n",
        "\n",
        "The equation \\(3x - 2y = 5\\) represents a straight line, and there are infinitely many solutions \\((x, y)\\) that satisfy it. You can find specific solutions by choosing values for \\(x\\) or \\(y\\) and solving for the other variable.\n",
        "\n",
        "For example:\n",
        "- If \\(x = 0\\), then \\(y = -\\frac{5}{2}\\).\n",
        "- If \\(y = 0\\), then \\(x = \\frac{5}{3}\\).\n",
        "\n"
      ],
      "metadata": {
        "id": "4G-rTahKypYm"
      }
    },
    {
      "cell_type": "code",
      "source": [
        "from sympy import symbols, Eq, solve\n",
        "\n",
        "class EnhancedEq:\n",
        "    def __init__(self, lhs, rhs):\n",
        "        self.equation = Eq(lhs, rhs)  # Use sympy.Eq to create an equation object\n",
        "\n",
        "    def solve_for(self, var):\n",
        "        return solve(self.equation, var)  # Use sympy.solve to solve the equation\n",
        "\n",
        "\n",
        "x, y = symbols('x y')\n",
        "eq = EnhancedEq(3*x - 2*y, 5)\n",
        "\n",
        "sol_x = eq.solve_for(x)[0]\n",
        "sol_y = eq.solve_for(y)[0]\n",
        "\n",
        "print(f\"x = {sol_x}\")  # Output: x = 2*y/3 + 5/3\n",
        "print(f\"y = {sol_y}\")  # Output: y = 3*x/2 - 5/2"
      ],
      "metadata": {
        "id": "GLnF1xpdy6UN",
        "outputId": "3a1dbfd2-812e-44b1-c3e9-29283425eb16",
        "colab": {
          "base_uri": "https://localhost:8080/"
        }
      },
      "execution_count": 4,
      "outputs": [
        {
          "output_type": "stream",
          "name": "stdout",
          "text": [
            "x = 2*y/3 + 5/3\n",
            "y = 3*x/2 - 5/2\n"
          ]
        }
      ]
    },
    {
      "cell_type": "markdown",
      "source": [
        "To analyze the equation \\(2x + 3y = 7\\), we can express it in different forms or find specific solutions. Here are a few options:\n",
        "\n",
        "### 1. **Slope-Intercept Form**\n",
        "\n",
        "We can rearrange the equation to the slope-intercept form \\(y = mx + b\\):\n",
        "\n",
        "$\n",
        "2x + 3y = 7\n",
        "$\n",
        "\n",
        "Rearranging gives:\n",
        "\n",
        "$\n",
        "3y = -2x + 7\n",
        "$\n",
        "\n",
        "Dividing by \\(3\\):\n",
        "\n",
        "$\n",
        "y = -\\frac{2}{3}x + \\frac{7}{3}\n",
        "$\n",
        "\n",
        "Here, the slope \\(m\\) is \\(-\\frac{2}{3}\\) and the y-intercept \\(b\\) is \\(\\frac{7}{3}\\).\n",
        "\n",
        "### 2. **Finding Intercepts**\n",
        "\n",
        "- **x-intercept:** Set \\(y = 0\\):\n",
        "  $\n",
        "  2x = 7 \\implies x = \\frac{7}{2}\n",
        "  $\n",
        "  So, the x-intercept is \\(\\left(\\frac{7}{2}, 0\\right)\\).\n",
        "\n",
        "- **y-intercept:** Set \\(x = 0\\):\n",
        "  $\n",
        "  3y = 7 \\implies y = \\frac{7}{3}\n",
        "  $\n",
        "  So, the y-intercept is \\(\\left(0, \\frac{7}{3}\\right)\\).\n",
        "\n",
        "### 3. **Finding Specific Solutions**\n",
        "\n",
        "You can find specific solutions \\((x, y)\\) by choosing values for \\(x\\) or \\(y\\) and solving for the other variable.\n",
        "\n",
        "For example:\n",
        "- If \\(x = 0\\), then \\(y = \\frac{7}{3}\\).\n",
        "- If \\(y = 0\\), then \\(x = \\frac{7}{2}\\)."
      ],
      "metadata": {
        "id": "wVV2AaO_GbD4"
      }
    },
    {
      "cell_type": "code",
      "source": [
        "from sympy import symbols, Eq, solve\n",
        "\n",
        "class EnhancedEq:\n",
        "    def __init__(self, lhs, rhs):\n",
        "        self.equation = Eq(lhs, rhs)\n",
        "\n",
        "    def solve_for(self, var):\n",
        "        return solve(self.equation, var)\n",
        "\n",
        "\n",
        "x, y = symbols('x y')\n",
        "\n",
        "# Create an EnhancedEq object for the equation 2x + 3y = 7\n",
        "eq = EnhancedEq(2*x + 3*y, 7)\n",
        "\n",
        "# Solve for x\n",
        "sol_x = eq.solve_for(x)[0]\n",
        "\n",
        "# Solve for y\n",
        "sol_y = eq.solve_for(y)[0]\n",
        "\n",
        "print(f\"x = {sol_x}\")  # Output: x = -3*y/2 + 7/2\n",
        "print(f\"y = {sol_y}\")  # Output: y = -2*x/3 + 7/3"
      ],
      "metadata": {
        "id": "c1nnKTI0GlDk",
        "outputId": "b7b4106d-c94d-4b14-80aa-a2046fefa4a1",
        "colab": {
          "base_uri": "https://localhost:8080/"
        }
      },
      "execution_count": 1,
      "outputs": [
        {
          "output_type": "stream",
          "name": "stdout",
          "text": [
            "x = 7/2 - 3*y/2\n",
            "y = 7/3 - 2*x/3\n"
          ]
        }
      ]
    },
    {
      "cell_type": "markdown",
      "source": [
        "To analyze the equation \\(2x - 3y = 10\\), we can express it in various forms or find specific solutions. Here are some options:\n",
        "\n",
        "### 1. **Slope-Intercept Form**\n",
        "\n",
        "We can rearrange the equation into the slope-intercept form \\(y = mx + b\\):\n",
        "\n",
        "$\n",
        "2x - 3y = 10\n",
        "$\n",
        "\n",
        "Rearranging gives:\n",
        "\n",
        "$\n",
        "-3y = -2x + 10\n",
        "$\n",
        "\n",
        "Dividing by \\(-3\\):\n",
        "\n",
        "$\n",
        "y = \\frac{2}{3}x - \\frac{10}{3}\n",
        "$\n",
        "\n",
        "Here, the slope \\(m\\) is \\(\\frac{2}{3}\\) and the y-intercept \\(b\\) is \\(-\\frac{10}{3}\\).\n",
        "\n",
        "### 2. **Finding Intercepts**\n",
        "\n",
        "- **x-intercept:** Set \\(y = 0\\):\n",
        "  $\n",
        "  2x = 10 \\implies x = 5\n",
        "  $\n",
        "  So, the x-intercept is \\((5, 0)\\).\n",
        "\n",
        "- **y-intercept:** Set \\(x = 0\\):\n",
        "  $\n",
        "  -3y = 10 \\implies y = -\\frac{10}{3}\n",
        "  $\n",
        "  So, the y-intercept is \\((0, -\\frac{10}{3})\\).\n",
        "\n",
        "### 3. **Finding Specific Solutions**\n",
        "\n",
        "You can find specific solutions \\((x, y)\\) by choosing values for \\(x\\) or \\(y\\) and solving for the other variable.\n",
        "\n",
        "For example:\n",
        "- If \\(x = 0\\), then \\(y = -\\frac{10}{3}\\).\n",
        "- If \\(y = 0\\), then \\(x = 5\\).\n"
      ],
      "metadata": {
        "id": "j2c1p7-JHaX5"
      }
    },
    {
      "cell_type": "code",
      "source": [
        "from sympy import symbols, Eq, solve\n",
        "\n",
        "class EnhancedEq:\n",
        "    def __init__(self, lhs, rhs):\n",
        "        self.equation = Eq(lhs, rhs)\n",
        "\n",
        "    def solve_for(self, var):\n",
        "        return solve(self.equation, var)\n",
        "\n",
        "\n",
        "x, y = symbols('x y')\n",
        "\n",
        "# Create an EnhancedEq object for the equation 2x - 3y = 10\n",
        "eq = EnhancedEq(2*x - 3*y, 10)\n",
        "\n",
        "# Solve for x\n",
        "sol_x = eq.solve_for(x)[0]\n",
        "\n",
        "# Solve for y\n",
        "sol_y = eq.solve_for(y)[0]\n",
        "\n",
        "print(f\"x = {sol_x}\")  # Output: x = 3*y/2 + 5\n",
        "print(f\"y = {sol_y}\")  # Output: y = 2*x/3 - 10/3"
      ],
      "metadata": {
        "id": "6B4IKzrWHd8H",
        "outputId": "1c41c918-31fd-45ae-c284-d4202f139100",
        "colab": {
          "base_uri": "https://localhost:8080/"
        }
      },
      "execution_count": 2,
      "outputs": [
        {
          "output_type": "stream",
          "name": "stdout",
          "text": [
            "x = 3*y/2 + 5\n",
            "y = 2*x/3 - 10/3\n"
          ]
        }
      ]
    },
    {
      "cell_type": "markdown",
      "source": [
        "To analyze the equation \\(4x + 5y = 20\\), we can express it in different forms or find specific solutions. Here are some key aspects:\n",
        "\n",
        "### 1. **Slope-Intercept Form**\n",
        "\n",
        "We can rearrange the equation into the slope-intercept form \\(y = mx + b\\):\n",
        "\n",
        "$\n",
        "4x + 5y = 20\n",
        "$\n",
        "\n",
        "Rearranging gives:\n",
        "\n",
        "$\n",
        "5y = -4x + 20\n",
        "$\n",
        "\n",
        "Dividing by \\(5\\):\n",
        "\n",
        "$\n",
        "y = -\\frac{4}{5}x + 4\n",
        "$\n",
        "\n",
        "Here, the slope \\(m\\) is \\(-\\frac{4}{5}\\) and the y-intercept \\(b\\) is \\(4\\).\n",
        "\n",
        "### 2. **Finding Intercepts**\n",
        "\n",
        "- **x-intercept:** Set \\(y = 0\\):\n",
        "  $\n",
        "  4x = 20 \\implies x = 5\n",
        "  $\n",
        "  So, the x-intercept is \\((5, 0)\\).\n",
        "\n",
        "- **y-intercept:** Set \\(x = 0\\):\n",
        "  $\n",
        "  5y = 20 \\implies y = 4\n",
        "  $\n",
        "  So, the y-intercept is \\((0, 4)\\).\n",
        "\n",
        "### 3. **Finding Specific Solutions**\n",
        "\n",
        "You can find specific solutions \\((x, y)\\) by choosing values for \\(x\\) or \\(y\\) and solving for the other variable.\n",
        "\n",
        "For example:\n",
        "- If \\(x = 0\\), then \\(y = 4\\).\n",
        "- If \\(y = 0\\), then \\(x = 5\\).\n"
      ],
      "metadata": {
        "id": "bYwq-P9aJP_X"
      }
    },
    {
      "cell_type": "code",
      "source": [
        "from sympy import symbols, Eq, solve\n",
        "\n",
        "class EnhancedEq:\n",
        "    def __init__(self, lhs, rhs):\n",
        "        self.equation = Eq(lhs, rhs)\n",
        "\n",
        "    def solve_for(self, var):\n",
        "        return solve(self.equation, var)\n",
        "\n",
        "\n",
        "x, y = symbols('x y')\n",
        "\n",
        "# Create an EnhancedEq object for the equation 4x + 5y = 20\n",
        "eq = EnhancedEq(4*x + 5*y, 20)\n",
        "\n",
        "# Solve for x\n",
        "sol_x = eq.solve_for(x)[0]\n",
        "\n",
        "# Solve for y\n",
        "sol_y = eq.solve_for(y)[0]\n",
        "\n",
        "print(f\"x = {sol_x}\")  # Output: x = -5*y/4 + 5\n",
        "print(f\"y = {sol_y}\")  # Output: y = -4*x/5 + 4"
      ],
      "metadata": {
        "id": "jI9JfmhUJa_8",
        "outputId": "498b94fe-8a74-457b-a39c-b0e1c7f8e0b4",
        "colab": {
          "base_uri": "https://localhost:8080/"
        }
      },
      "execution_count": 3,
      "outputs": [
        {
          "output_type": "stream",
          "name": "stdout",
          "text": [
            "x = 5 - 5*y/4\n",
            "y = 4 - 4*x/5\n"
          ]
        }
      ]
    },
    {
      "cell_type": "markdown",
      "source": [
        "To analyze the equation \\(2x - y + z = 3\\), we can express it in different forms or find specific solutions. Here are a few key aspects:\n",
        "\n",
        "### 1. **Rearranging the Equation**\n",
        "\n",
        "We can rearrange the equation to express \\(z\\) in terms of \\(x\\) and \\(y\\):\n",
        "\n",
        "$\n",
        "z = 3 - 2x + y\n",
        "$\n",
        "\n",
        "This representation shows that for any values of \\(x\\) and \\(y\\), you can compute \\(z\\).\n",
        "\n",
        "### 2. **Finding Specific Solutions**\n",
        "\n",
        "You can find specific solutions by choosing values for \\(x\\) and \\(y\\):\n",
        "\n",
        "- If \\(x = 0\\) and \\(y = 0\\):\n",
        "  $\n",
        "  z = 3 - 2(0) + 0 = 3 \\implies (0, 0, 3)\n",
        "  $\n",
        "\n",
        "- If \\(x = 1\\) and \\(y = 1\\):\n",
        "  $\n",
        "  z = 3 - 2(1) + 1 = 2 \\implies (1, 1, 2)\n",
        "  $\n",
        "\n",
        "- If \\(y = 0\\) and \\(z = 0\\):\n",
        "  $\n",
        "  2x - 0 + 0 = 3 \\implies x = \\frac{3}{2} \\implies \\left(\\frac{3}{2}, 0, 0\\right)\n",
        "  $\n",
        "\n",
        "### 3. **Interpreting the Equation**\n",
        "\n",
        "The equation \\(2x - y + z = 3\\) represents a plane in three-dimensional space. It can take an infinite number of solutions based on the values of \\(x\\) and \\(y\\)."
      ],
      "metadata": {
        "id": "5nj5-xuPJqpS"
      }
    },
    {
      "cell_type": "code",
      "source": [
        "from sympy import symbols\n",
        "\n",
        "x, y, z = symbols('x y z')\n",
        "eq = EnhancedEq(2*x - y + z, 3)\n",
        "\n",
        "sol_x = eq.solve_for(x)[0]\n",
        "sol_y = eq.solve_for(y)[0]\n",
        "sol_z = eq.solve_for(z)[0]\n",
        "\n",
        "print(f\"x = {sol_x}\")\n",
        "print(f\"y = {sol_y}\")\n",
        "print(f\"z = {sol_z}\")"
      ],
      "metadata": {
        "id": "dOdfEd4BJz8Q",
        "outputId": "0990c6f9-78e9-4cf3-aa14-4c4a341dbaa9",
        "colab": {
          "base_uri": "https://localhost:8080/"
        }
      },
      "execution_count": 10,
      "outputs": [
        {
          "output_type": "stream",
          "name": "stdout",
          "text": [
            "x = y/2 - z/2 + 3/2\n",
            "y = 2*x + z - 3\n",
            "z = -2*x + y + 3\n"
          ]
        }
      ]
    },
    {
      "cell_type": "markdown",
      "source": [
        "To analyze the equation \\(x + 2y - z = 1\\), we can express it in different forms or find specific solutions. Here are some key aspects:\n",
        "\n",
        "### 1. **Rearranging the Equation**\n",
        "\n",
        "We can rearrange the equation to express \\(z\\) in terms of \\(x\\) and \\(y\\):\n",
        "\n",
        "$\n",
        "z = x + 2y - 1\n",
        "$\n",
        "\n",
        "This form indicates that for any chosen values of \\(x\\) and \\(y\\), you can calculate the corresponding value of \\(z\\).\n",
        "\n",
        "### 2. **Finding Specific Solutions**\n",
        "\n",
        "You can find specific solutions by substituting different values for \\(x\\) and \\(y\\):\n",
        "\n",
        "- If \\(x = 0\\) and \\(y = 0\\):\n",
        "  $\n",
        "  z = 0 + 2(0) - 1 = -1 \\implies (0, 0, -1)\n",
        "  $\n",
        "\n",
        "- If \\(x = 1\\) and \\(y = 1\\):\n",
        "  $\n",
        "  z = 1 + 2(1) - 1 = 2 \\implies (1, 1, 2)\n",
        "  $\n",
        "\n",
        "- If \\(y = 0\\) and \\(z = 0\\):\n",
        "  $\n",
        "  x + 2(0) - 0 = 1 \\implies x = 1 \\implies (1, 0, 0)\n",
        "  $\n",
        "\n",
        "### 3. **Interpreting the Equation**\n",
        "\n",
        "The equation \\(x + 2y - z = 1\\) represents a plane in three-dimensional space, and it has infinitely many solutions based on the values of \\(x\\) and \\(y\\)."
      ],
      "metadata": {
        "id": "nVb_Ts90KEj6"
      }
    },
    {
      "cell_type": "code",
      "source": [
        "from sympy import symbols\n",
        "\n",
        "x, y, z = symbols('x y z')\n",
        "eq = EnhancedEq(x + 2*y - z, 1)\n",
        "\n",
        "sol_x = eq.solve_for(x)[0]\n",
        "sol_y = eq.solve_for(y)[0]\n",
        "sol_z = eq.solve_for(z)[0]\n",
        "\n",
        "print(f\"x = {sol_x}\")\n",
        "print(f\"y = {sol_y}\")\n",
        "print(f\"z = {sol_z}\")"
      ],
      "metadata": {
        "id": "eNw_JK3pKFrT",
        "outputId": "ec9e2740-fdac-4459-f4f0-23323a10e541",
        "colab": {
          "base_uri": "https://localhost:8080/"
        }
      },
      "execution_count": 9,
      "outputs": [
        {
          "output_type": "stream",
          "name": "stdout",
          "text": [
            "x = -2*y + z + 1\n",
            "y = -x/2 + z/2 + 1/2\n",
            "z = x + 2*y - 1\n"
          ]
        }
      ]
    },
    {
      "cell_type": "markdown",
      "source": [
        "To analyze the equation \\(3x - y + 2z = 11\\), we can express it in different forms or find specific solutions. Here are some key aspects:\n",
        "\n",
        "### 1. **Rearranging the Equation**\n",
        "\n",
        "We can rearrange the equation to express \\(z\\) in terms of \\(x\\) and \\(y\\):\n",
        "\n",
        "$\n",
        "2z = 11 - 3x + y\n",
        "$\n",
        "\n",
        "Dividing by \\(2\\):\n",
        "\n",
        "$\n",
        "z = \\frac{11 - 3x + y}{2}\n",
        "$\n",
        "\n",
        "This shows that for any chosen values of \\(x\\) and \\(y\\), you can compute \\(z\\).\n",
        "\n",
        "### 2. **Finding Specific Solutions**\n",
        "\n",
        "You can find specific solutions by substituting different values for \\(x\\) and \\(y\\):\n",
        "\n",
        "- If \\(x = 0\\) and \\(y = 0\\):\n",
        "  $\n",
        "  z = \\frac{11 - 3(0) + 0}{2} = \\frac{11}{2} \\implies (0, 0, \\frac{11}{2})\n",
        "  $\n",
        "\n",
        "- If \\(x = 1\\) and \\(y = 5\\):\n",
        "  $\n",
        "  z = \\frac{11 - 3(1) + 5}{2} = \\frac{13}{2} \\implies (1, 5, \\frac{13}{2})\n",
        "  $\n",
        "\n",
        "- If \\(y = 0\\) and \\(z = 0\\):\n",
        "  $\n",
        "  3x - 0 + 2(0) = 11 \\implies 3x = 11 \\implies x = \\frac{11}{3} \\implies \\left(\\frac{11}{3}, 0, 0\\right)\n",
        "  $\n",
        "\n",
        "### 3. **Interpreting the Equation**\n",
        "\n",
        "The equation \\(3x - y + 2z = 11\\) represents a plane in three-dimensional space, and it has infinitely many solutions based on the values of \\(x\\) and \\(y\\).\n"
      ],
      "metadata": {
        "id": "1MOzqUYIKdny"
      }
    },
    {
      "cell_type": "code",
      "source": [
        "from sympy import symbols\n",
        "\n",
        "x, y, z = symbols('x y z')\n",
        "eq = EnhancedEq(3*x - y + 2*z, 11)\n",
        "\n",
        "sol_x = eq.solve_for(x)[0]\n",
        "sol_y = eq.solve_for(y)[0]\n",
        "sol_z = eq.solve_for(z)[0]\n",
        "\n",
        "print(f\"x = {sol_x}\")\n",
        "print(f\"y = {sol_y}\")\n",
        "print(f\"z = {sol_z}\")"
      ],
      "metadata": {
        "id": "5qy5yjxfKe2c",
        "outputId": "d9e5d250-4557-4d97-9dae-a448a797d519",
        "colab": {
          "base_uri": "https://localhost:8080/"
        }
      },
      "execution_count": 8,
      "outputs": [
        {
          "output_type": "stream",
          "name": "stdout",
          "text": [
            "x = y/3 - 2*z/3 + 11/3\n",
            "y = 3*x + 2*z - 11\n",
            "z = -3*x/2 + y/2 + 11/2\n"
          ]
        }
      ]
    },
    {
      "cell_type": "markdown",
      "source": [
        "To analyze the equation\n",
        "\n",
        "$\n",
        "2x - 3y + 4z + 2t = 2,\n",
        "$\n",
        "\n",
        "we can express it in different forms or find specific solutions. Here are some key points:\n",
        "\n",
        "### 1. **Rearranging the Equation**\n",
        "\n",
        "We can rearrange the equation to express one variable in terms of the others. For example, solving for \\(t\\):\n",
        "\n",
        "$\n",
        "2t = 2 - 2x + 3y - 4z\n",
        "$\n",
        "\n",
        "Dividing by \\(2\\):\n",
        "\n",
        "$\n",
        "t = 1 - x + \\frac{3}{2}y - 2z\n",
        "$\n",
        "\n",
        "This shows that for any chosen values of \\(x\\), \\(y\\), and \\(z\\), you can compute \\(t\\).\n",
        "\n",
        "### 2. **Finding Specific Solutions**\n",
        "\n",
        "You can find specific solutions by substituting different values for \\(x\\), \\(y\\), and \\(z\\):\n",
        "\n",
        "- If \\(x = 0\\), \\(y = 0\\), and \\(z = 0\\):\n",
        "  $\n",
        "  t = 1 - 0 + \\frac{3}{2}(0) - 2(0) = 1 \\implies (0, 0, 0, 1)\n",
        "  $\n",
        "\n",
        "- If \\(x = 1\\), \\(y = 1\\), and \\(z = 1\\):\n",
        "  $\n",
        "  t = 1 - 1 + \\frac{3}{2}(1) - 2(1) = 1 - 1 + \\frac{3}{2} - 2 = -\\frac{1}{2} \\implies (1, 1, 1, -\\frac{1}{2})\n",
        "  $\n",
        "\n",
        "- If \\(y = 0\\), \\(z = 0\\), and \\(t = 0\\):\n",
        "  $\n",
        "  2x + 0 + 0 + 0 = 2 \\implies x = 1 \\implies (1, 0, 0, 0)\n",
        "  $\n",
        "\n",
        "### 3. **Interpreting the Equation**\n",
        "\n",
        "The equation \\(2x - 3y + 4z + 2t = 2\\) represents a hyperplane in four-dimensional space. This hyperplane has infinitely many solutions based on the values of the other variables."
      ],
      "metadata": {
        "id": "ZmI4WxCIOukL"
      }
    },
    {
      "cell_type": "code",
      "source": [
        "from sympy import symbols, solve, Eq\n",
        "\n",
        "x, y, z, t = symbols('x y z t')\n",
        "\n",
        "# Define the equations using Eq instead of EnhancedEq\n",
        "eq1 = Eq(2*x - 3*y + 4*z + 2*t, 2)\n",
        "eq2 = Eq(3*x + 2*y - 5*z + 3*t, 3)\n",
        "eq3 = Eq(4*x - 3*y + 2*z - 5*t, 4)\n",
        "eq4 = Eq(5*x + 4*y - 3*z + 2*t, 5)\n",
        "\n",
        "# Solve the system of equations\n",
        "solution = solve([eq1, eq2, eq3, eq4], (x, y, z, t))\n",
        "\n",
        "# Print the solution\n",
        "print(solution)"
      ],
      "metadata": {
        "id": "xZA8rOAaOxx9",
        "outputId": "6484e674-000d-4feb-d370-2d33d3474c4a",
        "colab": {
          "base_uri": "https://localhost:8080/"
        }
      },
      "execution_count": 13,
      "outputs": [
        {
          "output_type": "stream",
          "name": "stdout",
          "text": [
            "{t: 0, x: 1, y: 0, z: 0}\n"
          ]
        }
      ]
    }
  ],
  "metadata": {
    "kernelspec": {
      "display_name": "Python 3",
      "language": "python",
      "name": "python3"
    },
    "language_info": {
      "codemirror_mode": {
        "name": "ipython",
        "version": 3
      },
      "file_extension": ".py",
      "mimetype": "text/x-python",
      "name": "python",
      "nbconvert_exporter": "python",
      "pygments_lexer": "ipython3",
      "version": "3.11.9"
    },
    "colab": {
      "provenance": [],
      "include_colab_link": true
    }
  },
  "nbformat": 4,
  "nbformat_minor": 0
}