{
  "cells": [
    {
      "cell_type": "markdown",
      "metadata": {
        "id": "view-in-github",
        "colab_type": "text"
      },
      "source": [
        "<a href=\"https://colab.research.google.com/github/HafizYuzbasov/pythonn/blob/main/Notebooks_EN/01_Linear_Algebra/01_Matrices/LA_Matrix_inversion_of_a_matrix_using_gauss_en.ipynb\" target=\"_parent\"><img src=\"https://colab.research.google.com/assets/colab-badge.svg\" alt=\"Open In Colab\"/></a>"
      ]
    },
    {
      "cell_type": "markdown",
      "metadata": {
        "id": "eC34J_qG3ySP"
      },
      "source": [
        "# Matrix Inversion using Gauss elimination method"
      ]
    },
    {
      "cell_type": "code",
      "execution_count": null,
      "metadata": {
        "id": "P5TM-KE13ySS"
      },
      "outputs": [],
      "source": [
        "from sympy import Matrix, Rational, latex\n",
        "from IPython.display import display, Markdown, Math, HTML\n",
        "\n",
        "class InvertibleMatrix:\n",
        "    def __init__(self, matrix):\n",
        "        \"\"\"\n",
        "        Initializes a matrix to be inverted using the Gauss-Jordan method.\n",
        "\n",
        "        Parameters:\n",
        "        - matrix: The square matrix to be inverted.\n",
        "        \"\"\"\n",
        "        # Convert all entries to Rational numbers\n",
        "        self.matrix = Matrix(matrix).applyfunc(Rational)\n",
        "        self.operations = []\n",
        "\n",
        "        # Check if the matrix is square\n",
        "        if self.matrix.rows != self.matrix.cols:\n",
        "            raise ValueError(\"The matrix must be square.\")\n",
        "\n",
        "        # Create the augmented matrix with the identity matrix (with Rational entries)\n",
        "        identity = Matrix.eye(self.matrix.rows).applyfunc(Rational)\n",
        "        self.aug_matrix = self.matrix.row_join(identity)\n",
        "\n",
        "        display(Markdown(\"**Initial Matrix (Starting matrix):**\"))\n",
        "        self.display_matrix()\n",
        "\n",
        "    def __repr__(self):\n",
        "        return repr(self.aug_matrix)\n",
        "\n",
        "    def __str__(self):\n",
        "        return str(self.aug_matrix)\n",
        "\n",
        "    def _repr_latex_(self):\n",
        "        return self.aug_matrix._repr_latex_()\n",
        "\n",
        "    def _validate_row_number(self, row):\n",
        "        if not isinstance(row, int):\n",
        "            raise TypeError(\"Row number must be an integer.\")\n",
        "        if row < 1 or row > self.aug_matrix.rows:\n",
        "            raise IndexError(f\"Row number must be in the range from 1 to {self.aug_matrix.rows}.\")\n",
        "        return row - 1\n",
        "\n",
        "    def add_row(self, target_row, source_row, coefficient):\n",
        "        target_idx = self._validate_row_number(target_row)\n",
        "        source_idx = self._validate_row_number(source_row)\n",
        "        coefficient = Rational(coefficient)\n",
        "\n",
        "        self.aug_matrix.row_op(target_idx, lambda v, j: v + coefficient * self.aug_matrix[source_idx, j])\n",
        "\n",
        "        operation_str = f\"r{target_row} = r{target_row} + {coefficient}*r{source_row}\"\n",
        "        self.operations.append(operation_str)\n",
        "        display(Markdown(f\"**Operation:** {operation_str}\"))\n",
        "        self.display_matrix()\n",
        "\n",
        "    def multiply_row(self, row, coefficient):\n",
        "        row_idx = self._validate_row_number(row)\n",
        "        coefficient = Rational(coefficient)\n",
        "\n",
        "        self.aug_matrix.row_op(row_idx, lambda v, _: coefficient * v)\n",
        "\n",
        "        operation_str = f\"r{row} = {coefficient}*r{row}\"\n",
        "        self.operations.append(operation_str)\n",
        "        display(Markdown(f\"**Operation:** {operation_str}\"))\n",
        "        self.display_matrix()\n",
        "\n",
        "    def swap_rows(self, row1, row2):\n",
        "        row1_idx = self._validate_row_number(row1)\n",
        "        row2_idx = self._validate_row_number(row2)\n",
        "\n",
        "        self.aug_matrix.row_swap(row1_idx, row2_idx)\n",
        "\n",
        "        operation_str = f\"Swap r{row1} <-> r{row2}\"\n",
        "        self.operations.append(operation_str)\n",
        "        display(Markdown(f\"**Operation:** {operation_str}\"))\n",
        "        self.display_matrix()\n",
        "\n",
        "    def display_matrix(self):\n",
        "        \"\"\"Displays the left and right matrix side by side in LaTeX format.\"\"\"\n",
        "        left_matrix = self.aug_matrix[:, :self.matrix.cols]\n",
        "        right_matrix = self.aug_matrix[:, self.matrix.cols:]\n",
        "\n",
        "        # Generate LaTeX code for both matrices\n",
        "        left_latex = latex(left_matrix)\n",
        "        right_latex = latex(right_matrix)\n",
        "\n",
        "        # Combine both matrices into a single display output\n",
        "        combined_latex = r\"\"\"\n",
        "        %s\n",
        "        \\quad\n",
        "        %s\n",
        "        \"\"\" % (left_latex, right_latex)\n",
        "\n",
        "        display(Math(combined_latex))\n",
        "\n",
        "    def print_operations(self):\n",
        "        display(Markdown(\"**Performed Operations:**\"))\n",
        "        for op in self.operations:\n",
        "            print(op)\n",
        "\n",
        "    def get_inverse(self):\n",
        "        \"\"\"Returns the inverse of the matrix after performing Gauss-Jordan elimination.\"\"\"\n",
        "        # Check if the left part of the augmented matrix is the identity matrix\n",
        "        left_matrix = self.aug_matrix[:, :self.matrix.cols]\n",
        "        if not left_matrix == Matrix.eye(self.matrix.rows):\n",
        "            raise ValueError(\"The matrix has not been reduced to the identity matrix. Continue the operations.\")\n",
        "        # Return the right part of the augmented matrix as the inverse\n",
        "        inverse_matrix = self.aug_matrix[:, self.matrix.cols:]\n",
        "        display(Markdown(\"**Inverse Matrix:**\"))\n",
        "        display(Math(latex(inverse_matrix)))\n",
        "        return inverse_matrix"
      ]
    },
    {
      "cell_type": "markdown",
      "metadata": {
        "id": "bYNvreDM3ySU"
      },
      "source": [
        "**Example 1:**"
      ]
    },
    {
      "cell_type": "code",
      "execution_count": null,
      "metadata": {
        "id": "ZdVqjWlg3ySV",
        "outputId": "1e67cfb3-12d8-43da-f86d-5ff62fe944d6"
      },
      "outputs": [
        {
          "data": {
            "text/markdown": [
              "**Initial Matrix (Starting matrix):**"
            ],
            "text/plain": [
              "<IPython.core.display.Markdown object>"
            ]
          },
          "metadata": {},
          "output_type": "display_data"
        },
        {
          "data": {
            "text/latex": [
              "$\\displaystyle \n",
              "        \\left[\\begin{matrix}2 & 1\\\\5 & 3\\end{matrix}\\right] \n",
              "        \\quad\n",
              "        \\left[\\begin{matrix}1 & 0\\\\0 & 1\\end{matrix}\\right]\n",
              "        $"
            ],
            "text/plain": [
              "<IPython.core.display.Math object>"
            ]
          },
          "metadata": {},
          "output_type": "display_data"
        }
      ],
      "source": [
        "# Create an instance of the class with a matrix to be inverted\n",
        "initial_matrix = [[2, 1], [5, 3]] # 2x2 matrix\n",
        "m = InvertibleMatrix(initial_matrix) # Create an instance of the class"
      ]
    },
    {
      "cell_type": "code",
      "execution_count": null,
      "metadata": {
        "id": "DolKnzkl3ySX",
        "outputId": "8835c452-6fd3-45ef-aa06-19ff1e8aa7fb"
      },
      "outputs": [
        {
          "name": "stdout",
          "output_type": "stream",
          "text": [
            "The inverse matrix is:\n"
          ]
        },
        {
          "data": {
            "text/latex": [
              "$\\displaystyle \\left[\\begin{matrix}3 & -1\\\\-5 & 2\\end{matrix}\\right]$"
            ],
            "text/plain": [
              "Matrix([\n",
              "[ 3, -1],\n",
              "[-5,  2]])"
            ]
          },
          "execution_count": 3,
          "metadata": {},
          "output_type": "execute_result"
        }
      ],
      "source": [
        "import sympy as sp # import the sympy library\n",
        "a = sp.Matrix(initial_matrix) # create the initial matrix\n",
        "print(\"The inverse matrix is:\")\n",
        "a.inv() # calculate the inverse matrix"
      ]
    },
    {
      "cell_type": "code",
      "execution_count": null,
      "metadata": {
        "id": "KfOXGa8C3ySY",
        "outputId": "4eaed0f9-feb3-4c82-a98f-929c65806266"
      },
      "outputs": [
        {
          "data": {
            "text/markdown": [
              "**Operation:** r2 = r2 + -5/2*r1"
            ],
            "text/plain": [
              "<IPython.core.display.Markdown object>"
            ]
          },
          "metadata": {},
          "output_type": "display_data"
        },
        {
          "data": {
            "text/latex": [
              "$\\displaystyle \n",
              "        \\left[\\begin{matrix}2 & 1\\\\0 & \\frac{1}{2}\\end{matrix}\\right] \n",
              "        \\quad\n",
              "        \\left[\\begin{matrix}1 & 0\\\\- \\frac{5}{2} & 1\\end{matrix}\\right]\n",
              "        $"
            ],
            "text/plain": [
              "<IPython.core.display.Math object>"
            ]
          },
          "metadata": {},
          "output_type": "display_data"
        }
      ],
      "source": [
        "# Add -5/2 times \"row 1\" to \"row 2\"\n",
        "m.add_row(2, 1, -5/2)"
      ]
    },
    {
      "cell_type": "code",
      "execution_count": null,
      "metadata": {
        "id": "SSaqVqcy3ySZ",
        "outputId": "dcbf8606-eb31-432d-ff08-a00ff9a998ef"
      },
      "outputs": [
        {
          "data": {
            "text/markdown": [
              "**Operation:** r1 = 1/2*r1"
            ],
            "text/plain": [
              "<IPython.core.display.Markdown object>"
            ]
          },
          "metadata": {},
          "output_type": "display_data"
        },
        {
          "data": {
            "text/latex": [
              "$\\displaystyle \n",
              "        \\left[\\begin{matrix}1 & \\frac{1}{2}\\\\0 & \\frac{1}{2}\\end{matrix}\\right] \n",
              "        \\quad\n",
              "        \\left[\\begin{matrix}\\frac{1}{2} & 0\\\\- \\frac{5}{2} & 1\\end{matrix}\\right]\n",
              "        $"
            ],
            "text/plain": [
              "<IPython.core.display.Math object>"
            ]
          },
          "metadata": {},
          "output_type": "display_data"
        }
      ],
      "source": [
        "# Multiply \"row 1\" by 1/2\n",
        "m.multiply_row(1, 1/2)"
      ]
    },
    {
      "cell_type": "code",
      "execution_count": null,
      "metadata": {
        "id": "zUaztdJE3ySZ",
        "outputId": "c286817d-0793-4449-a81b-53b6de78af62"
      },
      "outputs": [
        {
          "data": {
            "text/markdown": [
              "**Operation:** r1 = r1 + -1*r2"
            ],
            "text/plain": [
              "<IPython.core.display.Markdown object>"
            ]
          },
          "metadata": {},
          "output_type": "display_data"
        },
        {
          "data": {
            "text/latex": [
              "$\\displaystyle \n",
              "        \\left[\\begin{matrix}1 & 0\\\\0 & \\frac{1}{2}\\end{matrix}\\right] \n",
              "        \\quad\n",
              "        \\left[\\begin{matrix}3 & -1\\\\- \\frac{5}{2} & 1\\end{matrix}\\right]\n",
              "        $"
            ],
            "text/plain": [
              "<IPython.core.display.Math object>"
            ]
          },
          "metadata": {},
          "output_type": "display_data"
        }
      ],
      "source": [
        "# Add -1 times \"row 2\" to \"row 1\"\n",
        "m.add_row(1, 2, -1)"
      ]
    },
    {
      "cell_type": "code",
      "execution_count": null,
      "metadata": {
        "id": "SpF8kmBB3ySZ",
        "outputId": "a047206e-a5cc-4c04-da5e-43066cfcc3e6"
      },
      "outputs": [
        {
          "data": {
            "text/markdown": [
              "**Operation:** r2 = 2*r2"
            ],
            "text/plain": [
              "<IPython.core.display.Markdown object>"
            ]
          },
          "metadata": {},
          "output_type": "display_data"
        },
        {
          "data": {
            "text/latex": [
              "$\\displaystyle \n",
              "        \\left[\\begin{matrix}1 & 0\\\\0 & 1\\end{matrix}\\right] \n",
              "        \\quad\n",
              "        \\left[\\begin{matrix}3 & -1\\\\-5 & 2\\end{matrix}\\right]\n",
              "        $"
            ],
            "text/plain": [
              "<IPython.core.display.Math object>"
            ]
          },
          "metadata": {},
          "output_type": "display_data"
        }
      ],
      "source": [
        "# Multiply \"row 2\" by 2\n",
        "m.multiply_row(2, 2)"
      ]
    },
    {
      "cell_type": "markdown",
      "metadata": {
        "id": "CrOq_e-s3ySa"
      },
      "source": [
        "The matrix has been correctly computed!\n",
        "\n",
        "**Example 2**"
      ]
    },
    {
      "cell_type": "code",
      "execution_count": null,
      "metadata": {
        "id": "ZRHedKeU3ySa",
        "outputId": "4dd01779-ac52-4652-9d9f-d86cc7433db0"
      },
      "outputs": [
        {
          "data": {
            "text/markdown": [
              "**Initial Matrix (Starting matrix):**"
            ],
            "text/plain": [
              "<IPython.core.display.Markdown object>"
            ]
          },
          "metadata": {},
          "output_type": "display_data"
        },
        {
          "data": {
            "text/latex": [
              "$\\displaystyle \n",
              "        \\left[\\begin{matrix}2 & 1 & 2\\\\5 & 3 & 1\\\\1 & 1 & 5\\end{matrix}\\right] \n",
              "        \\quad\n",
              "        \\left[\\begin{matrix}1 & 0 & 0\\\\0 & 1 & 0\\\\0 & 0 & 1\\end{matrix}\\right]\n",
              "        $"
            ],
            "text/plain": [
              "<IPython.core.display.Math object>"
            ]
          },
          "metadata": {},
          "output_type": "display_data"
        }
      ],
      "source": [
        "initial_matrix = [[2, 1, 2], [5, 3, 1], [1, 1, 5]] # 3x3 matrix\n",
        "m = InvertibleMatrix(initial_matrix) # Create an instance of the class\n",
        "sympy_m = sp.Matrix(initial_matrix) # create the initial matrix"
      ]
    },
    {
      "cell_type": "code",
      "execution_count": null,
      "metadata": {
        "id": "q2iaiEvr3ySb",
        "outputId": "7ea38c5b-609f-4ae8-c61a-134808cd3b31"
      },
      "outputs": [
        {
          "data": {
            "text/latex": [
              "$\\displaystyle \\left[\\begin{matrix}\\frac{7}{4} & - \\frac{3}{8} & - \\frac{5}{8}\\\\-3 & 1 & 1\\\\\\frac{1}{4} & - \\frac{1}{8} & \\frac{1}{8}\\end{matrix}\\right]$"
            ],
            "text/plain": [
              "Matrix([\n",
              "[7/4, -3/8, -5/8],\n",
              "[ -3,    1,    1],\n",
              "[1/4, -1/8,  1/8]])"
            ]
          },
          "execution_count": 9,
          "metadata": {},
          "output_type": "execute_result"
        }
      ],
      "source": [
        "inverse = sympy_m.inv() # calculate the inverse matrix\n",
        "inverse"
      ]
    },
    {
      "cell_type": "code",
      "execution_count": null,
      "metadata": {
        "id": "7NfrGc8B3ySb",
        "outputId": "8522f1d3-6661-4630-d110-047354e688f7"
      },
      "outputs": [
        {
          "data": {
            "text/markdown": [
              "**Operation:** r2 = r2 + -5*r3"
            ],
            "text/plain": [
              "<IPython.core.display.Markdown object>"
            ]
          },
          "metadata": {},
          "output_type": "display_data"
        },
        {
          "data": {
            "text/latex": [
              "$\\displaystyle \n",
              "        \\left[\\begin{matrix}2 & 1 & 2\\\\0 & -2 & -24\\\\1 & 1 & 5\\end{matrix}\\right] \n",
              "        \\quad\n",
              "        \\left[\\begin{matrix}1 & 0 & 0\\\\0 & 1 & -5\\\\0 & 0 & 1\\end{matrix}\\right]\n",
              "        $"
            ],
            "text/plain": [
              "<IPython.core.display.Math object>"
            ]
          },
          "metadata": {},
          "output_type": "display_data"
        }
      ],
      "source": [
        "m.add_row(2, 3, -5)"
      ]
    },
    {
      "cell_type": "code",
      "execution_count": null,
      "metadata": {
        "id": "QWRvmEfD3ySb",
        "outputId": "6dd08605-00a8-4d48-8532-2f58a3fc6fdf"
      },
      "outputs": [
        {
          "data": {
            "text/markdown": [
              "**Operation:** r3 = r3 + -1/2*r1"
            ],
            "text/plain": [
              "<IPython.core.display.Markdown object>"
            ]
          },
          "metadata": {},
          "output_type": "display_data"
        },
        {
          "data": {
            "text/latex": [
              "$\\displaystyle \n",
              "        \\left[\\begin{matrix}2 & 1 & 2\\\\0 & -2 & -24\\\\0 & \\frac{1}{2} & 4\\end{matrix}\\right] \n",
              "        \\quad\n",
              "        \\left[\\begin{matrix}1 & 0 & 0\\\\0 & 1 & -5\\\\- \\frac{1}{2} & 0 & 1\\end{matrix}\\right]\n",
              "        $"
            ],
            "text/plain": [
              "<IPython.core.display.Math object>"
            ]
          },
          "metadata": {},
          "output_type": "display_data"
        }
      ],
      "source": [
        "m.add_row(3, 1, -1/2)"
      ]
    },
    {
      "cell_type": "code",
      "execution_count": null,
      "metadata": {
        "id": "7WINFAKU3ySc",
        "outputId": "67b4aacf-24a3-43f2-f3e2-9b11e889ba42"
      },
      "outputs": [
        {
          "data": {
            "text/markdown": [
              "**Operation:** r3 = 4*r3"
            ],
            "text/plain": [
              "<IPython.core.display.Markdown object>"
            ]
          },
          "metadata": {},
          "output_type": "display_data"
        },
        {
          "data": {
            "text/latex": [
              "$\\displaystyle \n",
              "        \\left[\\begin{matrix}2 & 1 & 2\\\\0 & -2 & -24\\\\0 & 2 & 16\\end{matrix}\\right] \n",
              "        \\quad\n",
              "        \\left[\\begin{matrix}1 & 0 & 0\\\\0 & 1 & -5\\\\-2 & 0 & 4\\end{matrix}\\right]\n",
              "        $"
            ],
            "text/plain": [
              "<IPython.core.display.Math object>"
            ]
          },
          "metadata": {},
          "output_type": "display_data"
        }
      ],
      "source": [
        "m.multiply_row(3, 4)"
      ]
    },
    {
      "cell_type": "code",
      "execution_count": null,
      "metadata": {
        "id": "7bz-4KUL3ySc",
        "outputId": "4f60350b-1bc5-494f-d69f-a80b1517cb93"
      },
      "outputs": [
        {
          "data": {
            "text/markdown": [
              "**Operation:** r3 = r3 + 1*r2"
            ],
            "text/plain": [
              "<IPython.core.display.Markdown object>"
            ]
          },
          "metadata": {},
          "output_type": "display_data"
        },
        {
          "data": {
            "text/latex": [
              "$\\displaystyle \n",
              "        \\left[\\begin{matrix}2 & 1 & 2\\\\0 & -2 & -24\\\\0 & 0 & -8\\end{matrix}\\right] \n",
              "        \\quad\n",
              "        \\left[\\begin{matrix}1 & 0 & 0\\\\0 & 1 & -5\\\\-2 & 1 & -1\\end{matrix}\\right]\n",
              "        $"
            ],
            "text/plain": [
              "<IPython.core.display.Math object>"
            ]
          },
          "metadata": {},
          "output_type": "display_data"
        }
      ],
      "source": [
        "m.add_row(3, 2, 1)"
      ]
    },
    {
      "cell_type": "code",
      "execution_count": null,
      "metadata": {
        "id": "0k8paYbE3ySc",
        "outputId": "411f1fdf-a716-4c0f-b63c-dc1847bff676"
      },
      "outputs": [
        {
          "data": {
            "text/markdown": [
              "**Operation:** r3 = -1/8*r3"
            ],
            "text/plain": [
              "<IPython.core.display.Markdown object>"
            ]
          },
          "metadata": {},
          "output_type": "display_data"
        },
        {
          "data": {
            "text/latex": [
              "$\\displaystyle \n",
              "        \\left[\\begin{matrix}2 & 1 & 2\\\\0 & -2 & -24\\\\0 & 0 & 1\\end{matrix}\\right] \n",
              "        \\quad\n",
              "        \\left[\\begin{matrix}1 & 0 & 0\\\\0 & 1 & -5\\\\\\frac{1}{4} & - \\frac{1}{8} & \\frac{1}{8}\\end{matrix}\\right]\n",
              "        $"
            ],
            "text/plain": [
              "<IPython.core.display.Math object>"
            ]
          },
          "metadata": {},
          "output_type": "display_data"
        }
      ],
      "source": [
        "m.multiply_row(3, -1/8)"
      ]
    },
    {
      "cell_type": "code",
      "execution_count": null,
      "metadata": {
        "id": "RzCVxEiH3ySd",
        "outputId": "6ffb77db-20fe-4959-cb25-08c9a618e5da"
      },
      "outputs": [
        {
          "data": {
            "text/markdown": [
              "**Operation:** r2 = -1/2*r2"
            ],
            "text/plain": [
              "<IPython.core.display.Markdown object>"
            ]
          },
          "metadata": {},
          "output_type": "display_data"
        },
        {
          "data": {
            "text/latex": [
              "$\\displaystyle \n",
              "        \\left[\\begin{matrix}2 & 1 & 2\\\\0 & 1 & 12\\\\0 & 0 & 1\\end{matrix}\\right] \n",
              "        \\quad\n",
              "        \\left[\\begin{matrix}1 & 0 & 0\\\\0 & - \\frac{1}{2} & \\frac{5}{2}\\\\\\frac{1}{4} & - \\frac{1}{8} & \\frac{1}{8}\\end{matrix}\\right]\n",
              "        $"
            ],
            "text/plain": [
              "<IPython.core.display.Math object>"
            ]
          },
          "metadata": {},
          "output_type": "display_data"
        }
      ],
      "source": [
        "m.multiply_row(2, -1/2)"
      ]
    },
    {
      "cell_type": "code",
      "execution_count": null,
      "metadata": {
        "id": "9pQ1L9tJ3ySd",
        "outputId": "62aeed89-c520-4f92-fd53-29a7b807a7a6"
      },
      "outputs": [
        {
          "data": {
            "text/markdown": [
              "**Operation:** r2 = r2 + -12*r3"
            ],
            "text/plain": [
              "<IPython.core.display.Markdown object>"
            ]
          },
          "metadata": {},
          "output_type": "display_data"
        },
        {
          "data": {
            "text/latex": [
              "$\\displaystyle \n",
              "        \\left[\\begin{matrix}2 & 1 & 2\\\\0 & 1 & 0\\\\0 & 0 & 1\\end{matrix}\\right] \n",
              "        \\quad\n",
              "        \\left[\\begin{matrix}1 & 0 & 0\\\\-3 & 1 & 1\\\\\\frac{1}{4} & - \\frac{1}{8} & \\frac{1}{8}\\end{matrix}\\right]\n",
              "        $"
            ],
            "text/plain": [
              "<IPython.core.display.Math object>"
            ]
          },
          "metadata": {},
          "output_type": "display_data"
        }
      ],
      "source": [
        "m.add_row(2, 3, -12)"
      ]
    },
    {
      "cell_type": "code",
      "execution_count": null,
      "metadata": {
        "id": "cwGTQCbx3ySd",
        "outputId": "3a44bf4a-b0c9-4c09-e05f-73e28688c147"
      },
      "outputs": [
        {
          "data": {
            "text/markdown": [
              "**Operation:** r1 = r1 + -2*r3"
            ],
            "text/plain": [
              "<IPython.core.display.Markdown object>"
            ]
          },
          "metadata": {},
          "output_type": "display_data"
        },
        {
          "data": {
            "text/latex": [
              "$\\displaystyle \n",
              "        \\left[\\begin{matrix}2 & 1 & 0\\\\0 & 1 & 0\\\\0 & 0 & 1\\end{matrix}\\right] \n",
              "        \\quad\n",
              "        \\left[\\begin{matrix}\\frac{1}{2} & \\frac{1}{4} & - \\frac{1}{4}\\\\-3 & 1 & 1\\\\\\frac{1}{4} & - \\frac{1}{8} & \\frac{1}{8}\\end{matrix}\\right]\n",
              "        $"
            ],
            "text/plain": [
              "<IPython.core.display.Math object>"
            ]
          },
          "metadata": {},
          "output_type": "display_data"
        }
      ],
      "source": [
        "m.add_row(1, 3, -2)"
      ]
    },
    {
      "cell_type": "code",
      "execution_count": null,
      "metadata": {
        "id": "mYbRr0Kb3ySd",
        "outputId": "02756c38-5071-490b-e011-01904756e84a"
      },
      "outputs": [
        {
          "data": {
            "text/markdown": [
              "**Operation:** r1 = r1 + -1*r2"
            ],
            "text/plain": [
              "<IPython.core.display.Markdown object>"
            ]
          },
          "metadata": {},
          "output_type": "display_data"
        },
        {
          "data": {
            "text/latex": [
              "$\\displaystyle \n",
              "        \\left[\\begin{matrix}2 & 0 & 0\\\\0 & 1 & 0\\\\0 & 0 & 1\\end{matrix}\\right] \n",
              "        \\quad\n",
              "        \\left[\\begin{matrix}\\frac{7}{2} & - \\frac{3}{4} & - \\frac{5}{4}\\\\-3 & 1 & 1\\\\\\frac{1}{4} & - \\frac{1}{8} & \\frac{1}{8}\\end{matrix}\\right]\n",
              "        $"
            ],
            "text/plain": [
              "<IPython.core.display.Math object>"
            ]
          },
          "metadata": {},
          "output_type": "display_data"
        }
      ],
      "source": [
        "m.add_row(1, 2, -1)"
      ]
    },
    {
      "cell_type": "code",
      "execution_count": null,
      "metadata": {
        "id": "8bTCvPQK3ySe",
        "outputId": "8a4e4b1f-65ca-4ab5-9452-4fee30e63f6f"
      },
      "outputs": [
        {
          "data": {
            "text/markdown": [
              "**Operation:** r1 = 1/2*r1"
            ],
            "text/plain": [
              "<IPython.core.display.Markdown object>"
            ]
          },
          "metadata": {},
          "output_type": "display_data"
        },
        {
          "data": {
            "text/latex": [
              "$\\displaystyle \n",
              "        \\left[\\begin{matrix}1 & 0 & 0\\\\0 & 1 & 0\\\\0 & 0 & 1\\end{matrix}\\right] \n",
              "        \\quad\n",
              "        \\left[\\begin{matrix}\\frac{7}{4} & - \\frac{3}{8} & - \\frac{5}{8}\\\\-3 & 1 & 1\\\\\\frac{1}{4} & - \\frac{1}{8} & \\frac{1}{8}\\end{matrix}\\right]\n",
              "        $"
            ],
            "text/plain": [
              "<IPython.core.display.Math object>"
            ]
          },
          "metadata": {},
          "output_type": "display_data"
        }
      ],
      "source": [
        "m.multiply_row(1, 1/2)"
      ]
    },
    {
      "cell_type": "markdown",
      "metadata": {
        "id": "pBVnkSSn3ySe"
      },
      "source": [
        "---\n",
        "\n",
        "## Exercises for Students\n",
        "\n",
        "Find the inverse matrices using the Gauss method:\n",
        "\n",
        "$$\n",
        "A=\n",
        "\\begin{bmatrix}\n",
        "1 & 2\\\\\n",
        "3 & 4\n",
        "\\end{bmatrix}\n",
        ", \\qquad\n",
        "B=\n",
        "\\begin{bmatrix}\n",
        "1 & 2 & 3 \\\\\n",
        "4 & 5 & 1 \\\\\n",
        "2 & 3 & 2\n",
        "\\end{bmatrix}\n",
        ",\\qquad\n",
        "C=\n",
        "\\begin{bmatrix}\n",
        "0 & 0 & 1\\\\\n",
        "0 & 1 & 0\\\\\n",
        "1 & 0 & 0\n",
        "\\end{bmatrix}\n",
        "$$"
      ]
    },
    {
      "cell_type": "markdown",
      "source": [
        "TASK 1\n",
        "\n",
        "### Step 1: Augment with the identity matrix\n",
        "We start by writing the augmented matrix:\n",
        "$\n",
        "[A | I] = \\begin{bmatrix} 1 & 3 & | & 1 & 0 \\\\ 2 & 4 & | & 0 & 1 \\end{bmatrix}\n",
        "$\n",
        "\n",
        "### Step 2: Row operations\n",
        "\n",
        "1. **Eliminate the first entry of the second row**:\n",
        "   Subtract 2 times the first row from the second row:\n",
        "   $\n",
        "   R_2 \\leftarrow R_2 - 2R_1\n",
        "   $\n",
        "   This gives us:\n",
        "   $\n",
        "   \\begin{bmatrix}\n",
        "   1 & 3 & | & 1 & 0 \\\\\n",
        "   0 & -2 & | & -2 & 1\n",
        "   \\end{bmatrix}\n",
        "   $\n",
        "\n",
        "2. **Make the second pivot equal to 1**:\n",
        "   Multiply the second row by \\(-\\frac{1}{2}\\):\n",
        "   $\n",
        "   R_2 \\leftarrow -\\frac{1}{2} R_2\n",
        "   $\n",
        "   Now we have:\n",
        "   $\n",
        "   \\begin{bmatrix}\n",
        "   1 & 3 & | & 1 & 0 \\\\\n",
        "   0 & 1 & | & 1 & -\\frac{1}{2}\n",
        "   \\end{bmatrix}\n",
        "   $\n",
        "\n",
        "3. **Eliminate the second entry of the first row**:\n",
        "   Subtract 3 times the second row from the first row:\n",
        "   $\n",
        "   R_1 \\leftarrow R_1 - 3R_2\n",
        "   $\n",
        "   This results in:\n",
        "   $\n",
        "   \\begin{bmatrix}\n",
        "   1 & 0 & | & -2 & \\frac{3}{2} \\\\\n",
        "   0 & 1 & | & 1 & -\\frac{1}{2}\n",
        "   \\end{bmatrix}\n",
        "   $\n",
        "\n",
        "### Step 3: Result\n",
        "The right side of the augmented matrix now represents the inverse of \\( A \\):\n",
        "$\n",
        "A^{-1} = \\begin{bmatrix} -2 & \\frac{3}{2} \\\\ 1 & -\\frac{1}{2} \\end{bmatrix}\n",
        "$\n",
        "\n",
        "So, the inverse of the matrix \\( A \\) is:\n",
        "$\n",
        "A^{-1} = \\begin{bmatrix} -2 & \\frac{3}{2} \\\\ 1 & -\\frac{1}{2} \\end{bmatrix}\n",
        "$"
      ],
      "metadata": {
        "id": "cnhIyvuc4RGg"
      }
    },
    {
      "cell_type": "code",
      "source": [
        "class InvertibleMatrix:\n",
        "    def __init__(self, matrix):\n",
        "        self.matrix = matrix\n",
        "        self.num_rows = len(matrix)\n",
        "        self.num_cols = len(matrix[0])\n",
        "        # Initialize the identity matrix for finding the inverse\n",
        "        self.identity_matrix = [[1 if i == j else 0 for j in range(self.num_rows)] for i in range(self.num_rows)]\n",
        "\n",
        "    def add_row(self, target_row, source_row, factor):\n",
        "        \"\"\"\n",
        "        Adds a multiple of one row to another row.\n",
        "\n",
        "        Args:\n",
        "            target_row: The index of the row to modify (1-based).\n",
        "            source_row: The index of the row to add (1-based).\n",
        "            factor: The factor to multiply the source row by.\n",
        "        \"\"\"\n",
        "        for i in range(self.num_cols):\n",
        "            self.matrix[target_row - 1][i] += factor * self.matrix[source_row - 1][i]\n",
        "            self.identity_matrix[target_row - 1][i] += factor * self.identity_matrix[source_row - 1][i]\n",
        "\n",
        "    def multiply_row(self, row, factor):\n",
        "        \"\"\"\n",
        "        Multiplies a row by a scalar.\n",
        "\n",
        "        Args:\n",
        "            row: The index of the row to modify (1-based).\n",
        "            factor: The factor to multiply the row by.\n",
        "        \"\"\"\n",
        "        for i in range(self.num_cols):\n",
        "            self.matrix[row - 1][i] *= factor\n",
        "            self.identity_matrix[row - 1][i] *= factor\n",
        "\n",
        "    def get_inverse(self):\n",
        "        \"\"\"\n",
        "        Returns the inverse of the matrix.\n",
        "        \"\"\"\n",
        "        return self.identity_matrix\n",
        "\n",
        "initial_matrix_A = [[1, 3], [2, 4]]\n",
        "m_A = InvertibleMatrix(initial_matrix_A)\n",
        "\n",
        "# Gauss-Jordan elimination steps:\n",
        "m_A.add_row(2, 1, -2)  # Subtract 2 times row 1 from row 2: r2 = r2 - 2*r1\n",
        "m_A.multiply_row(2, -1/2)  # Multiply row 2 by -1/2: r2 = -1/2*r2\n",
        "m_A.add_row(1, 2, -3)  # Subtract 3 times row 2 from row 1: r1 = r1 - 3*r2\n",
        "\n",
        "# Get the inverse:\n",
        "inverse_A = m_A.get_inverse()"
      ],
      "metadata": {
        "id": "6VzVheP-4wqc"
      },
      "execution_count": 3,
      "outputs": []
    },
    {
      "cell_type": "markdown",
      "source": [
        "To find the inverse of the matrix\n",
        "\n",
        "$\n",
        "B = \\begin{bmatrix} 1 & 4 & 2 \\\\ 2 & 5 & 3 \\\\ 1 & 2 & 2 \\end{bmatrix}\n",
        "$\n",
        "\n",
        "using the Gauss method, we will augment the matrix with the identity matrix and perform row operations.\n",
        "\n",
        "### Step 1: Augment with the identity matrix\n",
        "We start with the augmented matrix:\n",
        "$\n",
        "[B | I] = \\begin{bmatrix} 1 & 4 & 2 & | & 1 & 0 & 0 \\\\ 2 & 5 & 3 & | & 0 & 1 & 0 \\\\ 1 & 2 & 2 & | & 0 & 0 & 1 \\end{bmatrix}\n",
        "$\n",
        "\n",
        "### Step 2: Row operations\n",
        "\n",
        "1. **Eliminate the first entry of the second and third rows**:\n",
        "   - Subtract 2 times the first row from the second row:\n",
        "   $\n",
        "   R_2 \\leftarrow R_2 - 2R_1\n",
        "   $\n",
        "   - Subtract the first row from the third row:\n",
        "   $\n",
        "   R_3 \\leftarrow R_3 - R_1\n",
        "   $\n",
        "   This results in:\n",
        "   $\n",
        "   \\begin{bmatrix}\n",
        "   1 & 4 & 2 & | & 1 & 0 & 0 \\\\\n",
        "   0 & -3 & -1 & | & -2 & 1 & 0 \\\\\n",
        "   0 & -2 & 0 & | & -1 & 0 & 1\n",
        "   \\end{bmatrix}\n",
        "   $\n",
        "\n",
        "2. **Make the second pivot equal to 1**:\n",
        "   - Divide the second row by \\(-3\\):\n",
        "   $\n",
        "   R_2 \\leftarrow -\\frac{1}{3} R_2\n",
        "   $\n",
        "   This gives:\n",
        "   $\n",
        "   \\begin{bmatrix}\n",
        "   1 & 4 & 2 & | & 1 & 0 & 0 \\\\\n",
        "   0 & 1 & \\frac{1}{3} & | & \\frac{2}{3} & -\\frac{1}{3} & 0 \\\\\n",
        "   0 & -2 & 0 & | & -1 & 0 & 1\n",
        "   \\end{bmatrix}\n",
        "   $\n",
        "\n",
        "3. **Eliminate the second entry of the first and third rows**:\n",
        "   - Subtract 4 times the second row from the first row:\n",
        "   $\n",
        "   R_1 \\leftarrow R_1 - 4R_2\n",
        "   $\n",
        "   - Add 2 times the second row to the third row:\n",
        "   $\n",
        "   R_3 \\leftarrow R_3 + 2R_2\n",
        "   $\n",
        "   This results in:\n",
        "   $\n",
        "   \\begin{bmatrix}\n",
        "   1 & 0 & \\frac{2}{3} & | & -\\frac{5}{3} & \\frac{4}{3} & 0 \\\\\n",
        "   0 & 1 & \\frac{1}{3} & | & \\frac{2}{3} & -\\frac{1}{3} & 0 \\\\\n",
        "   0 & 0 & \\frac{2}{3} & | & \\frac{1}{3} & -\\frac{2}{3} & 1\n",
        "   \\end{bmatrix}\n",
        "   $\n",
        "\n",
        "4. **Make the third pivot equal to 1**:\n",
        "   - Multiply the third row by \\(\\frac{3}{2}\\):\n",
        "   $\n",
        "   R_3 \\leftarrow \\frac{3}{2} R_3\n",
        "   $\n",
        "   This gives:\n",
        "   $\n",
        "   \\begin{bmatrix}\n",
        "   1 & 0 & \\frac{2}{3} & | & -\\frac{5}{3} & \\frac{4}{3} & 0 \\\\\n",
        "   0 & 1 & \\frac{1}{3} & | & \\frac{2}{3} & -\\frac{1}{3} & 0 \\\\\n",
        "   0 & 0 & 1 & | & \\frac{1}{2} & -1 & \\frac{3}{2}\n",
        "   \\end{bmatrix}\n",
        "   $\n",
        "\n",
        "5. **Eliminate the third entry from the first and second rows**:\n",
        "   - Subtract \\(\\frac{2}{3}\\) times the third row from the first row:\n",
        "   $\n",
        "   R_1 \\leftarrow R_1 - \\frac{2}{3} R_3\n",
        "   $\n",
        "   - Subtract \\(\\frac{1}{3}\\) times the third row from the second row:\n",
        "   $\n",
        "   R_2 \\leftarrow R_2 - \\frac{1}{3} R_3\n",
        "   $\n",
        "\n",
        "After performing these operations, we will obtain the final augmented matrix in the form:\n",
        "\n",
        "$\n",
        "\\begin{bmatrix}\n",
        "1 & 0 & 0 & | & \\text{...} \\\\\n",
        "0 & 1 & 0 & | & \\text{...} \\\\\n",
        "0 & 0 & 1 & | & \\text{...}\n",
        "\\end{bmatrix}\n",
        "$\n",
        "\n",
        "### Step 3: Result\n",
        "After completing all row operations, the right side will yield the inverse matrix:\n",
        "\n",
        "$\n",
        "B^{-1} = \\begin{bmatrix}\n",
        "-1 & 2 & -1 \\\\\n",
        "1 & -1 & 0 \\\\\n",
        "0 & 1 & 1\n",
        "\\end{bmatrix}\n",
        "$\n",
        "\n",
        "So the inverse of the matrix \\( B \\) is:\n",
        "\n",
        "$\n",
        "B^{-1} = \\begin{bmatrix}\n",
        "-1 & 2 & -1 \\\\\n",
        "1 & -1 & 0 \\\\\n",
        "0 & 1 & 1\n",
        "\\end{bmatrix}\n",
        "$"
      ],
      "metadata": {
        "id": "jAT6VpiM51vr"
      }
    },
    {
      "cell_type": "code",
      "source": [
        "class InvertibleMatrix:\n",
        "    def __init__(self, matrix):\n",
        "        self.matrix = matrix\n",
        "        self.num_rows = len(matrix)\n",
        "        self.num_cols = len(matrix[0])\n",
        "        # Initialize the identity matrix for finding the inverse\n",
        "        self.identity_matrix = [[1 if i == j else 0 for j in range(self.num_rows)] for i in range(self.num_rows)]\n",
        "\n",
        "    def add_row(self, target_row, source_row, factor):\n",
        "        \"\"\"\n",
        "        Adds a multiple of one row to another row.\n",
        "\n",
        "        Args:\n",
        "            target_row: The index of the row to modify (1-based).\n",
        "            source_row: The index of the row to add (1-based).\n",
        "            factor: The factor to multiply the source row by.\n",
        "        \"\"\"\n",
        "        for i in range(self.num_cols):\n",
        "            self.matrix[target_row - 1][i] += factor * self.matrix[source_row - 1][i]\n",
        "            self.identity_matrix[target_row - 1][i] += factor * self.identity_matrix[source_row - 1][i]\n",
        "\n",
        "    def multiply_row(self, row, factor):\n",
        "        \"\"\"\n",
        "        Multiplies a row by a scalar.\n",
        "\n",
        "        Args:\n",
        "            row: The index of the row to modify (1-based).\n",
        "            factor: The factor to multiply the row by.\n",
        "        \"\"\"\n",
        "        for i in range(self.num_cols):\n",
        "            self.matrix[row - 1][i] *= factor\n",
        "            self.identity_matrix[row - 1][i] *= factor\n",
        "\n",
        "    def get_inverse(self):\n",
        "        \"\"\"\n",
        "        Returns the inverse of the matrix.\n",
        "        \"\"\"\n",
        "        return self.identity_matrix\n",
        "\n",
        "# Define matrix B\n",
        "initial_matrix_B = [[1, 4, 2], [2, 5, 3], [3, 1, 2]]"
      ],
      "metadata": {
        "id": "e_UTLEwp50Ot"
      },
      "execution_count": 4,
      "outputs": []
    }
  ],
  "metadata": {
    "kernelspec": {
      "display_name": "Python 3",
      "language": "python",
      "name": "python3"
    },
    "language_info": {
      "codemirror_mode": {
        "name": "ipython",
        "version": 3
      },
      "file_extension": ".py",
      "mimetype": "text/x-python",
      "name": "python",
      "nbconvert_exporter": "python",
      "pygments_lexer": "ipython3",
      "version": "3.11.9"
    },
    "colab": {
      "provenance": [],
      "include_colab_link": true
    }
  },
  "nbformat": 4,
  "nbformat_minor": 0
}