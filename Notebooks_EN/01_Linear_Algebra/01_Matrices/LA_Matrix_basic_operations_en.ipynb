{
  "cells": [
    {
      "cell_type": "markdown",
      "metadata": {
        "id": "view-in-github",
        "colab_type": "text"
      },
      "source": [
        "<a href=\"https://colab.research.google.com/github/HafizYuzbasov/pythonn/blob/main/Notebooks_EN/01_Linear_Algebra/01_Matrices/LA_Matrix_basic_operations_en.ipynb\" target=\"_parent\"><img src=\"https://colab.research.google.com/assets/colab-badge.svg\" alt=\"Open In Colab\"/></a>"
      ]
    },
    {
      "cell_type": "markdown",
      "metadata": {
        "id": "DF1uKL5gNzQ-"
      },
      "source": [
        "# Basic Matrix Operations\n",
        "\n",
        "### Matrix Addition\n",
        "\n",
        "Let $A=[a_{ij}]$ and $B=[b_{ij}]$ be two matrices of dimensions $m \\times n$. Then the sum of matrices $A$ and $B$ is the matrix $C=[c_{ij}]$ of dimensions $m \\times n$, where $c_{ij}=a_{ij}+b_{ij}$.\n",
        "\n",
        "### Matrix Scalar Multiplication\n",
        "\n",
        "Let $A=[a_{ij}]$ be a matrix of dimensions $m \\times n$, and let $k$ be a scalar. Then the product of matrix $A$ and scalar $k$ is the matrix $B=[b_{ij}]$ of dimensions $m \\times n$, where $b_{ij}=k \\cdot a_{ij}$.\n",
        "\n",
        "### Matrix Multiplication\n",
        "\n",
        "Let $A=[a_{ij}]$ be a matrix of dimensions $m \\times n$, and $B=[b_{ij}]$ be a matrix of dimensions $n \\times p$. Then the product of matrices $A$ and $B$ is the matrix $C=[c_{ij}]$ of dimensions $m \\times p$, where $c_{ij}=\\sum_{k=1}^{n} a_{ik} \\cdot b_{kj}$.\n",
        "\n",
        "\n",
        "### Example 1\n",
        "\n",
        "Let $A=\\begin{bmatrix} 1 & 2 \\\\ 3 & 4 \\end{bmatrix}$ and $B=\\begin{bmatrix} 5 & 6 \\\\ 7 & 8 \\end{bmatrix}$.\n",
        "Then the sum of matrices $A$ and $B$ is\n",
        "\n",
        "$$\n",
        "C=\n",
        "A+B=\\begin{bmatrix} 1+5 & 2+6 \\\\ 3+7 & 4+8 \\end{bmatrix}=\\begin{bmatrix} 6 & 8 \\\\ 10 & 12 \\end{bmatrix}.\n",
        "$$\n",
        "\n",
        "### Example 2\n",
        "\n",
        "Let $A=\\begin{bmatrix} 1 & 2 \\\\ 3 & 4 \\end{bmatrix}$ and $k=2$.\n",
        "\n",
        "Then the product of matrix $A$ and scalar $k$ is\n",
        "\n",
        "$$\n",
        "B=\n",
        "k \\cdot A=2 \\cdot \\begin{bmatrix} 1 & 2 \\\\ 3 & 4 \\end{bmatrix}=\\begin{bmatrix} 2*1 & 2*2 \\\\ 2*3 & 2*4 \\end{bmatrix}=\\begin{bmatrix} 2 & 4 \\\\ 6 & 8 \\end{bmatrix}.\n",
        "$$\n",
        "\n",
        "### Example 3\n",
        "\n",
        "Let\n",
        "$A=\\begin{bmatrix} 1 & 2 \\\\ 3 & 4 \\end{bmatrix}$\n",
        "and\n",
        "$B=\\begin{bmatrix} 5 & 6 \\\\ 7 & 8 \\end{bmatrix}$.\n",
        "\n",
        "Then the product of matrices $A$ and $B$ is\n",
        "\n",
        "$$\n",
        "C=\n",
        "A \\cdot B=\\begin{bmatrix} 1*5+2*7 & 1*6+2*8 \\\\ 3*5+4*7 & 3*6+4*8 \\end{bmatrix}=\\begin{bmatrix} 19 & 22 \\\\ 43 & 50 \\end{bmatrix}.\n",
        "$$"
      ]
    },
    {
      "cell_type": "code",
      "execution_count": null,
      "metadata": {
        "id": "59rBw1nTNzRA"
      },
      "outputs": [],
      "source": [
        "# Example 1: Matrix addition in sympy\n",
        "import sympy as sp\n",
        "\n",
        "A=sp.Matrix([[1,2],[3,4]])\n",
        "B=sp.Matrix([[5,6],[7,8]])\n",
        "A # display matrix A"
      ]
    },
    {
      "cell_type": "code",
      "execution_count": null,
      "metadata": {
        "id": "TqekfaZMNzRB"
      },
      "outputs": [],
      "source": [
        "B # display matrix B"
      ]
    },
    {
      "cell_type": "code",
      "execution_count": null,
      "metadata": {
        "id": "lWfYGi_rNzRB"
      },
      "outputs": [],
      "source": [
        "sp.Matrix([[6,8],[10,12]])==A+B # verify matrix addition"
      ]
    },
    {
      "cell_type": "code",
      "execution_count": null,
      "metadata": {
        "id": "BUsGZxiKNzRB"
      },
      "outputs": [],
      "source": [
        "# Example 2: Scalar multiplication\n",
        "A=sp.Matrix([[1,2],[3,4]]) # define matrix A\n",
        "\n",
        "sp.Matrix([[2,4],[6,8]])==2*A # verify scalar multiplication"
      ]
    },
    {
      "cell_type": "code",
      "execution_count": null,
      "metadata": {
        "id": "AT_WcRZkNzRB"
      },
      "outputs": [],
      "source": [
        "# Example 3: Multiplication of two matrices\n",
        "\n",
        "A=sp.Matrix([[1,2],[3,4]]) # define matrix A\n",
        "B=sp.Matrix([[5,6],[7,8]]) # define matrix B\n",
        "\n",
        "sp.Matrix([[19,22],[43,50]])==A*B # verify matrix multiplication"
      ]
    },
    {
      "cell_type": "markdown",
      "metadata": {
        "id": "g6fsIBrMNzRC"
      },
      "source": [
        "### Necessary Condition for Matrix Multiplication\n",
        "\n",
        "Remember that matrices can have different numbers of rows and columns.\n",
        "\n",
        "To multiply two matrices $A_{m \\times n}$ and $B_{n \\times k}$, where $A$ has dimensions $m \\times n$ and $B$ has dimensions $n \\times k$, the number of columns of matrix $A$ must equal the number of rows of matrix $B$. Otherwise, matrix multiplication is not possible.\n",
        "\n",
        "$$\n",
        "A_{m \\times n} \\cdot B_{n \\times k} = C_{m \\times k}\n",
        "$$\n",
        "\n",
        "For example, if $A_{3 \\times 3}$ and $B_{3 \\times 3}$, then the resulting matrix $C_{3 \\times 3}$.\n",
        "\n",
        "<img src=\"https://www.mscroggs.co.uk/img/full/multiply_matrices.gif\" alt=\"Matrix Multiplication GIF\" width=\"400\">\n",
        "\n",
        "### Matrix Multiplication is Not Commutative\n",
        "\n",
        "Matrix multiplication is not commutative, i.e., in general $A \\cdot B \\neq B \\cdot A$."
      ]
    },
    {
      "cell_type": "code",
      "execution_count": null,
      "metadata": {
        "id": "FR7xm7e9NzRC"
      },
      "outputs": [],
      "source": [
        "# Example of multiplying rectangular matrices\n",
        "import sympy as sp\n",
        "A=sp.Matrix([[1,2],[3,4],[5,6]]) # define matrix A_{3 x 2}\n",
        "B=sp.Matrix([[1,2,3],[4,5,6]]) # define matrix B_{2 x 3}\n",
        "C=sp.Matrix([[9,12,15],[19,26,33],[29,40,51]]) # define matrix C_{3 x 3}\n",
        "\n",
        "A*B # multiply matrices A and B to get a 3x3 matrix"
      ]
    },
    {
      "cell_type": "code",
      "execution_count": null,
      "metadata": {
        "id": "chMbYMUPNzRC"
      },
      "outputs": [],
      "source": [
        "B*A # multiply matrices B and A to get a 2x2 matrix"
      ]
    },
    {
      "cell_type": "code",
      "execution_count": null,
      "metadata": {
        "id": "yExvam4ENzRC"
      },
      "outputs": [],
      "source": [
        "B*C # multiply matrices B and C to get a 2x3 matrix"
      ]
    },
    {
      "cell_type": "markdown",
      "metadata": {
        "id": "95cNZHMRNzRC"
      },
      "source": [
        "---\n",
        "## Exercises for Students\n",
        "\n",
        "1. Calculate the sum of matrices $A=\\begin{bmatrix} 1 & 2 \\\\ 3 & 4 \\end{bmatrix}$ and $B=\\begin{bmatrix} 5 & 6 \\\\ 7 & 8 \\end{bmatrix}$.\n",
        "\n",
        "2. Calculate the product of matrix $A=\\begin{bmatrix} 4 & 2 \\\\ 12 & 4 \\end{bmatrix}$ and scalar $k=\\frac{1}{4}$.\n",
        "\n",
        "3. Calculate the products $A\\cdot B$ and $B \\cdot A$ for matrices $A=\\begin{bmatrix} 3 & 2 \\\\ 2 & 4 \\end{bmatrix}$ and $B=\\begin{bmatrix} 4 & 1 \\\\ 6 & 4 \\end{bmatrix}$."
      ]
    },
    {
      "cell_type": "markdown",
      "source": [
        "To find the sum of the matrices \\( A \\) and \\( B \\), we first need to clarify their structures. It seems that \\( A \\) and \\( B \\) are both \\( 2 \\times 2 \\) matrices. Here are the matrices:\n",
        "\n",
        "$\n",
        "A = \\begin{pmatrix} 1 & 3 \\\\ 2 & 4 \\end{pmatrix}, \\quad B = \\begin{pmatrix} 5 & 7 \\\\ 6 & 8 \\end{pmatrix}\n",
        "$\n",
        "\n",
        "### Matrix Addition\n",
        "\n",
        "The sum of two matrices is obtained by adding their corresponding elements:\n",
        "\n",
        "$\n",
        "A + B = \\begin{pmatrix} 1 + 5 & 3 + 7 \\\\ 2 + 6 & 4 + 8 \\end{pmatrix}\n",
        "$\n",
        "\n",
        "Calculating each element:\n",
        "\n",
        "- First row, first column: \\(1 + 5 = 6\\)\n",
        "- First row, second column: \\(3 + 7 = 10\\)\n",
        "- Second row, first column: \\(2 + 6 = 8\\)\n",
        "- Second row, second column: \\(4 + 8 = 12\\)\n",
        "\n",
        "### Result\n",
        "\n",
        "The sum of the matrices \\( A \\) and \\( B \\) is:\n",
        "\n",
        "$\n",
        "A + B = \\begin{pmatrix} 6 & 10 \\\\ 8 & 12 \\end{pmatrix}\n",
        "$\n",
        "\n"
      ],
      "metadata": {
        "id": "Wl0j_FUiXqFd"
      }
    },
    {
      "cell_type": "code",
      "source": [
        "import sympy as sp\n",
        "\n",
        "A = sp.Matrix([[1, 2], [3, 4]])\n",
        "B = sp.Matrix([[5, 6], [7, 8]])\n",
        "\n",
        "A_plus_B = A + B\n",
        "print(A_plus_B)"
      ],
      "metadata": {
        "id": "RIseN3QqOOVa",
        "outputId": "b260ce16-23c5-48d9-fb43-a75992dff88f",
        "colab": {
          "base_uri": "https://localhost:8080/"
        }
      },
      "execution_count": 5,
      "outputs": [
        {
          "output_type": "stream",
          "name": "stdout",
          "text": [
            "Matrix([[6, 8], [10, 12]])\n"
          ]
        }
      ]
    },
    {
      "cell_type": "markdown",
      "source": [
        "To calculate the product of the matrix \\( A \\) and the scalar \\( k \\), we will multiply each element of the matrix by the scalar.\n",
        "\n",
        "Given:\n",
        "\n",
        "$\n",
        "A = \\begin{pmatrix} 4 & 1 \\\\ 2 & 2 \\end{pmatrix}, \\quad k = 14\n",
        "$\n",
        "\n",
        "### Scalar Multiplication\n",
        "\n",
        "The product \\( kA \\) is calculated as follows:\n",
        "\n",
        "$\n",
        "kA = 14 \\cdot A = 14 \\cdot \\begin{pmatrix} 4 & 1 \\\\ 2 & 2 \\end{pmatrix} = \\begin{pmatrix} 14 \\cdot 4 & 14 \\cdot 1 \\\\ 14 \\cdot 2 & 14 \\cdot 2 \\end{pmatrix}\n",
        "$\n",
        "\n",
        "Now, calculate each element:\n",
        "\n",
        "- First row, first column: \\(14 \\cdot 4 = 56\\)\n",
        "- First row, second column: \\(14 \\cdot 1 = 14\\)\n",
        "- Second row, first column: \\(14 \\cdot 2 = 28\\)\n",
        "- Second row, second column: \\(14 \\cdot 2 = 28\\)\n",
        "\n",
        "### Result\n",
        "\n",
        "The product of the matrix \\( A \\) and the scalar \\( k \\) is:\n",
        "\n",
        "$\n",
        "kA = \\begin{pmatrix} 56 & 14 \\\\ 28 & 28 \\end{pmatrix}\n",
        "$\n",
        "\n"
      ],
      "metadata": {
        "id": "j4Q4J58Beopz"
      }
    },
    {
      "cell_type": "code",
      "source": [
        "import sympy as sp\n",
        "\n",
        "A = sp.Matrix([[4, 2], [12, 4]])\n",
        "k = 1/4  # Note: Assuming k = 1/4 as mentioned in the exercises\n",
        "\n",
        "A_times_k = k * A\n",
        "print(A_times_k)"
      ],
      "metadata": {
        "id": "U_9oFGdmOqdx",
        "outputId": "978bb5c7-12f2-484f-8878-a8f287d9f7b7",
        "colab": {
          "base_uri": "https://localhost:8080/"
        }
      },
      "execution_count": 3,
      "outputs": [
        {
          "output_type": "stream",
          "name": "stdout",
          "text": [
            "Matrix([[1.00000000000000, 0.500000000000000], [3.00000000000000, 1.00000000000000]])\n"
          ]
        }
      ]
    },
    {
      "cell_type": "markdown",
      "source": [
        "To calculate the products \\( A \\cdot B \\) and \\( B \\cdot A \\) for the matrices\n",
        "\n",
        "$\n",
        "A = \\begin{pmatrix} 3 & 2 \\\\ 2 & 4 \\end{pmatrix}, \\quad B = \\begin{pmatrix} 4 & 6 \\\\ 1 & 4 \\end{pmatrix}\n",
        "$\n",
        "\n",
        "we need to perform matrix multiplication.\n",
        "\n",
        "### Matrix Multiplication\n",
        "\n",
        "#### 1. Calculating \\( A \\cdot B \\)\n",
        "\n",
        "The product \\( A \\cdot B \\) is calculated as follows:\n",
        "\n",
        "$\n",
        "A \\cdot B = \\begin{pmatrix} 3 & 2 \\\\ 2 & 4 \\end{pmatrix} \\cdot \\begin{pmatrix} 4 & 6 \\\\ 1 & 4 \\end{pmatrix}\n",
        "$\n",
        "\n",
        "Calculating each element:\n",
        "\n",
        "- First row, first column:\n",
        "  $\n",
        "  (3 \\cdot 4) + (2 \\cdot 1) = 12 + 2 = 14\n",
        "  $\n",
        "  \n",
        "- First row, second column:\n",
        "  $\n",
        "  (3 \\cdot 6) + (2 \\cdot 4) = 18 + 8 = 26\n",
        "  $\n",
        "\n",
        "- Second row, first column:\n",
        "  $\n",
        "  (2 \\cdot 4) + (4 \\cdot 1) = 8 + 4 = 12\n",
        "  $\n",
        "\n",
        "- Second row, second column:\n",
        "  $\n",
        "  (2 \\cdot 6) + (4 \\cdot 4) = 12 + 16 = 28\n",
        "  $\n",
        "\n",
        "So,\n",
        "\n",
        "$\n",
        "A \\cdot B = \\begin{pmatrix} 14 & 26 \\\\ 12 & 28 \\end{pmatrix}\n",
        "$\n",
        "\n",
        "#### 2. Calculating \\( B \\cdot A \\)\n",
        "\n",
        "Now, we calculate \\( B \\cdot A \\):\n",
        "\n",
        "$\n",
        "B \\cdot A = \\begin{pmatrix} 4 & 6 \\\\ 1 & 4 \\end{pmatrix} \\cdot \\begin{pmatrix} 3 & 2 \\\\ 2 & 4 \\end{pmatrix}\n",
        "$\n",
        "\n",
        "Calculating each element:\n",
        "\n",
        "- First row, first column:\n",
        "  $\n",
        "  (4 \\cdot 3) + (6 \\cdot 2) = 12 + 12 = 24\n",
        "  $\n",
        "\n",
        "- First row, second column:\n",
        "  $\n",
        "  (4 \\cdot 2) + (6 \\cdot 4) = 8 + 24 = 32\n",
        "  $\n",
        "\n",
        "- Second row, first column:\n",
        "  $\n",
        "  (1 \\cdot 3) + (4 \\cdot 2) = 3 + 8 = 11\n",
        "  $\n",
        "\n",
        "- Second row, second column:\n",
        "  $\n",
        "  (1 \\cdot 2) + (4 \\cdot 4) = 2 + 16 = 18\n",
        "  $\n",
        "\n",
        "So,\n",
        "\n",
        "$\n",
        "B \\cdot A = \\begin{pmatrix} 24 & 32 \\\\ 11 & 18 \\end{pmatrix}\n",
        "$\n",
        "\n",
        "### Summary of Results\n",
        "\n",
        "1. $ A \\cdot B = \\begin{pmatrix} 14 & 26 \\\\ 12 & 28 \\end{pmatrix} $\n",
        "\n",
        "2. $ B \\cdot A = \\begin{pmatrix} 24 & 32 \\\\ 11 & 18 \\end{pmatrix} $\n",
        "\n"
      ],
      "metadata": {
        "id": "m2oeJwO8fEsb"
      }
    },
    {
      "cell_type": "code",
      "source": [
        "import sympy as sp\n",
        "\n",
        "A = sp.Matrix([[3, 2], [2, 4]])\n",
        "B = sp.Matrix([[4, 1], [6, 4]])\n",
        "\n",
        "A_times_B = A * B\n",
        "B_times_A = B * A\n",
        "\n",
        "print(\"A⋅B =\", A_times_B)\n",
        "print(\"B⋅A =\", B_times_A)"
      ],
      "metadata": {
        "id": "-qaoPnaWOwsA",
        "outputId": "3f9f7dd1-d343-4882-f87f-0aa2a60083f3",
        "colab": {
          "base_uri": "https://localhost:8080/"
        }
      },
      "execution_count": 4,
      "outputs": [
        {
          "output_type": "stream",
          "name": "stdout",
          "text": [
            "A⋅B = Matrix([[24, 11], [32, 18]])\n",
            "B⋅A = Matrix([[14, 12], [26, 28]])\n"
          ]
        }
      ]
    }
  ],
  "metadata": {
    "kernelspec": {
      "display_name": "Python 3",
      "language": "python",
      "name": "python3"
    },
    "language_info": {
      "name": "python",
      "version": "3.11.9"
    },
    "colab": {
      "provenance": [],
      "include_colab_link": true
    }
  },
  "nbformat": 4,
  "nbformat_minor": 0
}