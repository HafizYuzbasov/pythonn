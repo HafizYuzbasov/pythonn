{
  "cells": [
    {
      "cell_type": "markdown",
      "metadata": {
        "id": "view-in-github",
        "colab_type": "text"
      },
      "source": [
        "<a href=\"https://colab.research.google.com/github/HafizYuzbasov/pythonn/blob/main/Notebooks_EN/01_Linear_Algebra/01_Matrices/LA_Matrix_inversion_by_formula_en.ipynb\" target=\"_parent\"><img src=\"https://colab.research.google.com/assets/colab-badge.svg\" alt=\"Open In Colab\"/></a>"
      ]
    },
    {
      "cell_type": "markdown",
      "metadata": {
        "id": "02RXvZ4cup5o"
      },
      "source": [
        "# Matrix Inversion\n",
        "\n",
        "The inverse of a matrix $A$ is a matrix $A^{-1}$ such that $A \\cdot A^{-1} = A^{-1} \\cdot A = I$, where $I$ is the identity matrix.\n",
        "\n",
        "**Example 1:**"
      ]
    },
    {
      "cell_type": "code",
      "execution_count": null,
      "metadata": {
        "id": "-jR0YCftup5u",
        "outputId": "e49cecc4-458d-467c-fa85-e11d731e34b5"
      },
      "outputs": [
        {
          "data": {
            "text/latex": [
              "$\\displaystyle \\left[\\begin{matrix}2 & 1 & 2\\\\5 & 3 & 1\\\\1 & 1 & 5\\end{matrix}\\right]$"
            ],
            "text/plain": [
              "Matrix([\n",
              "[2, 1, 2],\n",
              "[5, 3, 1],\n",
              "[1, 1, 5]])"
            ]
          },
          "execution_count": 1,
          "metadata": {},
          "output_type": "execute_result"
        }
      ],
      "source": [
        "import sympy as sp # import sympy library\n",
        "k1 = sp.Matrix([[2, 1, 2], [5, 3, 1], [1, 1, 5]]) # create matrix k1\n",
        "k1"
      ]
    },
    {
      "cell_type": "code",
      "execution_count": null,
      "metadata": {
        "id": "4MuohEqYup5z",
        "outputId": "6c61bb7e-d739-4b36-eb99-fdb505a72449"
      },
      "outputs": [
        {
          "data": {
            "text/latex": [
              "$\\displaystyle \\left[\\begin{matrix}\\frac{7}{4} & - \\frac{3}{8} & - \\frac{5}{8}\\\\-3 & 1 & 1\\\\\\frac{1}{4} & - \\frac{1}{8} & \\frac{1}{8}\\end{matrix}\\right]$"
            ],
            "text/plain": [
              "Matrix([\n",
              "[7/4, -3/8, -5/8],\n",
              "[ -3,    1,    1],\n",
              "[1/4, -1/8,  1/8]])"
            ]
          },
          "execution_count": 2,
          "metadata": {},
          "output_type": "execute_result"
        }
      ],
      "source": [
        "inverse_k1 = k1.inv() # calculate the inverse of matrix k1\n",
        "inverse_k1"
      ]
    },
    {
      "cell_type": "code",
      "execution_count": null,
      "metadata": {
        "id": "6qZJYQr6up51",
        "outputId": "a9c98d75-00a3-46f2-d913-e95e9f43016c"
      },
      "outputs": [
        {
          "data": {
            "text/latex": [
              "$\\displaystyle \\left[\\begin{matrix}1 & 0 & 0\\\\0 & 1 & 0\\\\0 & 0 & 1\\end{matrix}\\right]$"
            ],
            "text/plain": [
              "Matrix([\n",
              "[1, 0, 0],\n",
              "[0, 1, 0],\n",
              "[0, 0, 1]])"
            ]
          },
          "execution_count": 3,
          "metadata": {},
          "output_type": "execute_result"
        }
      ],
      "source": [
        "k1 * inverse_k1 # verify if multiplying the matrix by its inverse yields the identity matrix"
      ]
    },
    {
      "cell_type": "markdown",
      "metadata": {
        "id": "J76uRpB0up53"
      },
      "source": [
        "**Example 2:**"
      ]
    },
    {
      "cell_type": "code",
      "execution_count": null,
      "metadata": {
        "id": "HeJPpXs1up54",
        "outputId": "a0d82280-60a2-41d0-ee88-0c34b8c51edd"
      },
      "outputs": [
        {
          "data": {
            "text/latex": [
              "$\\displaystyle \\left[\\begin{matrix}\\frac{e i - f h}{a e i - a f h - b d i + b f g + c d h - c e g} & \\frac{- b i + c h}{a e i - a f h - b d i + b f g + c d h - c e g} & \\frac{b f - c e}{a e i - a f h - b d i + b f g + c d h - c e g}\\\\\\frac{- d i + f g}{a e i - a f h - b d i + b f g + c d h - c e g} & \\frac{a i - c g}{a e i - a f h - b d i + b f g + c d h - c e g} & \\frac{- a f + c d}{a e i - a f h - b d i + b f g + c d h - c e g}\\\\\\frac{d h - e g}{a e i - a f h - b d i + b f g + c d h - c e g} & \\frac{- a h + b g}{a e i - a f h - b d i + b f g + c d h - c e g} & \\frac{a e - b d}{a e i - a f h - b d i + b f g + c d h - c e g}\\end{matrix}\\right]$"
            ],
            "text/plain": [
              "Matrix([\n",
              "[ (e*i - f*h)/(a*e*i - a*f*h - b*d*i + b*f*g + c*d*h - c*e*g), (-b*i + c*h)/(a*e*i - a*f*h - b*d*i + b*f*g + c*d*h - c*e*g),  (b*f - c*e)/(a*e*i - a*f*h - b*d*i + b*f*g + c*d*h - c*e*g)],\n",
              "[(-d*i + f*g)/(a*e*i - a*f*h - b*d*i + b*f*g + c*d*h - c*e*g),  (a*i - c*g)/(a*e*i - a*f*h - b*d*i + b*f*g + c*d*h - c*e*g), (-a*f + c*d)/(a*e*i - a*f*h - b*d*i + b*f*g + c*d*h - c*e*g)],\n",
              "[ (d*h - e*g)/(a*e*i - a*f*h - b*d*i + b*f*g + c*d*h - c*e*g), (-a*h + b*g)/(a*e*i - a*f*h - b*d*i + b*f*g + c*d*h - c*e*g),  (a*e - b*d)/(a*e*i - a*f*h - b*d*i + b*f*g + c*d*h - c*e*g)]])"
            ]
          },
          "execution_count": 4,
          "metadata": {},
          "output_type": "execute_result"
        }
      ],
      "source": [
        "import sympy as sp\n",
        "a, b, c, d, e, f, g, h, i = sp.symbols('a b c d e f g h i') # define variables a-i\n",
        "k = sp.Matrix([[a, b, c], [d, e, f], [g, h, i]]) # create matrix k\n",
        "inverse_k = k.inv()\n",
        "inverse_k"
      ]
    },
    {
      "cell_type": "markdown",
      "metadata": {
        "id": "BlguNKzSup55"
      },
      "source": [
        "This complex form results from the formula that allows for the calculation of the elements of the inverse matrix. Before we proceed, let's define a few concepts.\n",
        "\n",
        "**Matrix Transposition** is an operation that swaps rows with columns. The transpose of a matrix $A$ is a matrix $A^T$ such that $A^T_{ij} = A_{ji}$."
      ]
    },
    {
      "cell_type": "code",
      "execution_count": null,
      "metadata": {
        "id": "MOvEmOBiup56",
        "outputId": "18b6c2b3-0696-470a-df9a-d674c8702864"
      },
      "outputs": [
        {
          "data": {
            "text/latex": [
              "$\\displaystyle \\left[\\begin{matrix}a & b & c\\\\d & e & f\\\\g & h & i\\end{matrix}\\right]$"
            ],
            "text/plain": [
              "Matrix([\n",
              "[a, b, c],\n",
              "[d, e, f],\n",
              "[g, h, i]])"
            ]
          },
          "execution_count": 5,
          "metadata": {},
          "output_type": "execute_result"
        }
      ],
      "source": [
        "k"
      ]
    },
    {
      "cell_type": "code",
      "execution_count": null,
      "metadata": {
        "id": "AEpY0RoAup57",
        "outputId": "803d49c5-d72e-48fa-b9ee-7a57e20300a4"
      },
      "outputs": [
        {
          "data": {
            "text/latex": [
              "$\\displaystyle \\left[\\begin{matrix}a & d & g\\\\b & e & h\\\\c & f & i\\end{matrix}\\right]$"
            ],
            "text/plain": [
              "Matrix([\n",
              "[a, d, g],\n",
              "[b, e, h],\n",
              "[c, f, i]])"
            ]
          },
          "execution_count": 6,
          "metadata": {},
          "output_type": "execute_result"
        }
      ],
      "source": [
        "k.transpose() # transpose matrix k"
      ]
    },
    {
      "cell_type": "markdown",
      "metadata": {
        "id": "JvRrryrmup58"
      },
      "source": [
        "**Minor** of a matrix $A$ is the determinant of the matrix obtained by removing the $i$-th row and $j$-th column. We denote it by $M_{ij}$."
      ]
    },
    {
      "cell_type": "code",
      "execution_count": null,
      "metadata": {
        "id": "D1WiteCXup58",
        "outputId": "e0259725-3f60-4992-f8aa-16c69cff2ba5"
      },
      "outputs": [
        {
          "data": {
            "text/latex": [
              "$\\displaystyle \\left[\\begin{matrix}1 & 2 & 3\\\\4 & 5 & 6\\\\7 & 8 & 9\\end{matrix}\\right]$"
            ],
            "text/plain": [
              "Matrix([\n",
              "[1, 2, 3],\n",
              "[4, 5, 6],\n",
              "[7, 8, 9]])"
            ]
          },
          "execution_count": 7,
          "metadata": {},
          "output_type": "execute_result"
        }
      ],
      "source": [
        "# Minor of matrix $A$ is the determinant of the matrix obtained by removing the $i$-th row and $j$-th column. We denote it by $M_{ij}$.\n",
        "k2 = sp.Matrix([[1, 2, 3], [4, 5, 6], [7, 8, 9]])\n",
        "k2"
      ]
    },
    {
      "cell_type": "code",
      "execution_count": null,
      "metadata": {
        "id": "ZcowMNh9up59",
        "outputId": "eb5fd138-7d3f-4bb5-e331-778cfc2adf17"
      },
      "outputs": [
        {
          "data": {
            "text/latex": [
              "$\\displaystyle \\left[\\begin{matrix}4 & 6\\\\7 & 9\\end{matrix}\\right]$"
            ],
            "text/plain": [
              "Matrix([\n",
              "[4, 6],\n",
              "[7, 9]])"
            ]
          },
          "execution_count": 8,
          "metadata": {},
          "output_type": "execute_result"
        }
      ],
      "source": [
        "M01 = k2.minor_submatrix(0, 1) # calculate minor M01\n",
        "M01"
      ]
    },
    {
      "cell_type": "code",
      "execution_count": null,
      "metadata": {
        "id": "I9axMqGiup5-",
        "outputId": "aeb4d474-1b50-4fdd-abfc-254977c63062"
      },
      "outputs": [
        {
          "data": {
            "text/latex": [
              "$\\displaystyle \\left[\\begin{matrix}1 & 2\\\\4 & 5\\end{matrix}\\right]$"
            ],
            "text/plain": [
              "Matrix([\n",
              "[1, 2],\n",
              "[4, 5]])"
            ]
          },
          "execution_count": 9,
          "metadata": {},
          "output_type": "execute_result"
        }
      ],
      "source": [
        "M22 = k2.minor_submatrix(2, 2) # calculate minor M22\n",
        "M22"
      ]
    },
    {
      "cell_type": "markdown",
      "metadata": {
        "id": "Y1VO3g4lup6A"
      },
      "source": [
        "**Cofactor** of element $a_{ij} = (-1)^{i+j} \\, M_{ij}$, which is the minor multiplied by $(-1)^{i+j}$.\n",
        "\n",
        "**Rank of a Matrix** is the largest degree of a non-zero minor of the matrix. The rank of a matrix is equal to the number of linearly independent rows or columns in the matrix."
      ]
    },
    {
      "cell_type": "code",
      "execution_count": null,
      "metadata": {
        "id": "z3s1qZIuup6A",
        "outputId": "8a99e722-9ef2-49e7-94b8-dec81cd0d400"
      },
      "outputs": [
        {
          "data": {
            "text/plain": [
              "2"
            ]
          },
          "execution_count": 10,
          "metadata": {},
          "output_type": "execute_result"
        }
      ],
      "source": [
        "k2.rank() # calculate the rank of matrix k2"
      ]
    },
    {
      "cell_type": "markdown",
      "metadata": {
        "id": "WJ1IvWjOup6B"
      },
      "source": [
        "### Inverse of a 3x3 Matrix\n",
        "\n",
        "Using the transpose of the cofactor matrix (minors):\n",
        "\n",
        "$$K^{-1} =\n",
        "\\begin{bmatrix}\n",
        "a & b & c \\\\\n",
        "d & e & f \\\\\n",
        "g & h & i\n",
        "\\end{bmatrix}^{-1}\n",
        "= \\frac{1}{\\det(\\mathbf{K})}\n",
        "\\begin{bmatrix}\n",
        "A & B & C \\\\\n",
        "D & E & F \\\\\n",
        "G & H & I\n",
        "\\end{bmatrix}^T\n",
        "= \\frac{1}{\\det(\\mathbf{A})}\n",
        "\\begin{bmatrix}\n",
        "A & D & G \\\\\n",
        "B & E & H \\\\\n",
        "C & F & I\n",
        "\\end{bmatrix}\n",
        "$$\n",
        "\n",
        "If the determinant is non-zero, the matrix is invertible, and the elements of the intermediate matrix on the right-hand side of the above formula are determined by:\n",
        "\n",
        "$$\n",
        "\\begin{aligned}\n",
        "A &= \\text{det} \\left( \\begin{bmatrix} e & f \\\\ h & i \\end{bmatrix} \\right) & B &= -\\text{det} \\left( \\begin{bmatrix} d & f \\\\ g & i \\end{bmatrix} \\right) & C &= \\text{det} \\left( \\begin{bmatrix} d & e \\\\ g & h \\end{bmatrix} \\right) \\\\\n",
        "D &= -\\text{det} \\left( \\begin{bmatrix} b & c \\\\ h & i \\end{bmatrix} \\right) & E &= \\text{det} \\left( \\begin{bmatrix} a & c \\\\ g & i \\end{bmatrix} \\right) & F &= -\\text{det} \\left( \\begin{bmatrix} a & b \\\\ g & h \\end{bmatrix} \\right) \\\\\n",
        "G &= \\text{det} \\left( \\begin{bmatrix} b & c \\\\ e & f \\end{bmatrix} \\right) & H &= -\\text{det} \\left( \\begin{bmatrix} a & c \\\\ d & f \\end{bmatrix} \\right) & I &= \\text{det} \\left( \\begin{bmatrix} a & b \\\\ d & e \\end{bmatrix} \\right)\n",
        "\\end{aligned}\n",
        "$$\n",
        "\n",
        "These are the determinants of 2x2 matrices formed by removing the appropriate rows and columns and taking into account the sign $(-1)^{i+j}$.\n",
        "\n",
        "### Inverse of a 2x2 Matrix\n",
        "\n",
        "Similarly, for a 2x2 matrix, the inverse can be calculated using the cofactor matrix:\n",
        "\n",
        "$$\n",
        "\\mathbf{L}^{-1} =\n",
        "\\begin{bmatrix}\n",
        "a & b \\\\\n",
        "c & d\n",
        "\\end{bmatrix}^{-1}\n",
        "= \\frac{1}{\\det(\\mathbf{L})}\n",
        "\\begin{bmatrix}\n",
        "D & C \\\\\n",
        "B & A\n",
        "\\end{bmatrix}^T\n",
        "= \\frac{1}{\\det(\\mathbf{L})}\n",
        "\\begin{bmatrix}\n",
        "D & B \\\\\n",
        "C & A\n",
        "\\end{bmatrix}\n",
        "$$\n",
        "\n",
        "where $\\det(\\mathbf{L}) = ad - bc$\n",
        "\n",
        "If the determinant is non-zero, the matrix is invertible, and the elements of the intermediate matrix are given as:\n",
        "\n",
        "$$\n",
        "\\begin{aligned}\n",
        "A &= \\text{det} \\begin{bmatrix} d \\end{bmatrix} = d, & B &= -\\text{det} \\begin{bmatrix} b \\end{bmatrix} = -b, & C &= -\\text{det} \\begin{bmatrix} c \\end{bmatrix} = -c, &\n",
        "D &= \\text{det} \\begin{bmatrix} a \\end{bmatrix} = a.\n",
        "\\end{aligned}\n",
        "$$\n",
        "\n",
        "These elements are determined by calculating the determinants of 1x1 matrices formed by removing the appropriate rows and columns from the original 2x2 matrix and applying the corresponding signs $(-1)^{i+j}$."
      ]
    },
    {
      "cell_type": "markdown",
      "metadata": {
        "id": "TsxGtBGxup6B"
      },
      "source": [
        "---\n",
        "\n",
        "## Exercises for Students\n",
        "\n",
        "1. Find the inverse matrix for\n",
        "\n",
        "$$\n",
        "\\begin{bmatrix}\n",
        "2 & 0 & 1 \\\\\n",
        "0 & 1 & 0 \\\\\n",
        "1 & 2 & 0\n",
        "\\end{bmatrix}\n",
        "$$\n",
        "\n",
        "and verify if the result is correct.\n",
        "\n",
        "2. Using the `det()` command, determine the rank of the matrix below\n",
        "$$\n",
        "A =\n",
        "\\begin{bmatrix}\n",
        "4 & -3 & 7 \\\\\n",
        "-1 & 6 & 3 \\\\\n",
        "2 & 9 & 1\n",
        "\\end{bmatrix}\n",
        "$$"
      ]
    },
    {
      "cell_type": "markdown",
      "source": [
        "TASK 1\n",
        "\n",
        "To find the inverse of the matrix\n",
        "\n",
        "$\n",
        "A = \\begin{pmatrix}\n",
        "2 & 0 & 1 \\\\\n",
        "0 & 1 & 2 \\\\\n",
        "1 & 0 & 0\n",
        "\\end{pmatrix},\n",
        "$\n",
        "\n",
        "we can use the formula for the inverse of a \\(3 \\times 3\\) matrix, given by\n",
        "\n",
        "$\n",
        "A^{-1} = \\frac{1}{\\text{det}(A)} \\text{adj}(A),\n",
        "$\n",
        "\n",
        "where \\(\\text{det}(A)\\) is the determinant of \\(A\\) and \\(\\text{adj}(A)\\) is the adjugate of \\(A\\).\n",
        "\n",
        "### Step 1: Calculate the determinant of \\(A\\)\n",
        "\n",
        "The determinant of a \\(3 \\times 3\\) matrix\n",
        "\n",
        "$\n",
        "A = \\begin{pmatrix}\n",
        "a & b & c \\\\\n",
        "d & e & f \\\\\n",
        "g & h & i\n",
        "\\end{pmatrix}\n",
        "$\n",
        "\n",
        "is given by\n",
        "\n",
        "$\n",
        "\\text{det}(A) = a(ei - fh) - b(di - fg) + c(dh - eg).\n",
        "$\n",
        "\n",
        "For our matrix \\(A\\):\n",
        "\n",
        "$\n",
        "\\text{det}(A) = 2(1 \\cdot 0 - 2 \\cdot 0) - 0(0 \\cdot 0 - 2 \\cdot 1) + 1(0 \\cdot 0 - 1 \\cdot 1) = 0 - 0 - 1 = -1.\n",
        "$\n",
        "\n",
        "### Step 2: Find the adjugate of \\(A\\)\n",
        "\n",
        "The adjugate is calculated using the cofactor matrix. The cofactor \\(C_{ij}\\) of an entry \\(a_{ij}\\) is given by\n",
        "\n",
        "$\n",
        "C_{ij} = (-1)^{i+j} M_{ij},\n",
        "$\n",
        "\n",
        "where \\(M_{ij}\\) is the determinant of the submatrix formed by deleting the \\(i\\)-th row and \\(j\\)-th column.\n",
        "\n",
        "Calculating the cofactors:\n",
        "\n",
        "1. \\(C_{11} = \\text{det} \\begin{pmatrix} 1 & 2 \\\\ 0 & 0 \\end{pmatrix} = 0\\)\n",
        "2. \\(C_{12} = -\\text{det} \\begin{pmatrix} 0 & 2 \\\\ 1 & 0 \\end{pmatrix} = -(-2) = 2\\)\n",
        "3. \\(C_{13} = \\text{det} \\begin{pmatrix} 0 & 1 \\\\ 1 & 0 \\end{pmatrix} = -1\\)\n",
        "\n",
        "4. \\(C_{21} = -\\text{det} \\begin{pmatrix} 0 & 1 \\\\ 1 & 0 \\end{pmatrix} = 1\\)\n",
        "5. \\(C_{22} = \\text{det} \\begin{pmatrix} 2 & 1 \\\\ 1 & 0 \\end{pmatrix} = -1\\)\n",
        "6. \\(C_{23} = -\\text{det} \\begin{pmatrix} 2 & 0 \\\\ 1 & 0 \\end{pmatrix} = 0\\)\n",
        "\n",
        "7. \\(C_{31} = \\text{det} \\begin{pmatrix} 0 & 1 \\\\ 1 & 2 \\end{pmatrix} = 0 - 1 = -1\\)\n",
        "8. \\(C_{32} = -\\text{det} \\begin{pmatrix} 2 & 1 \\\\ 0 & 2 \\end{pmatrix} = -4\\)\n",
        "9. \\(C_{33} = \\text{det} \\begin{pmatrix} 2 & 0 \\\\ 0 & 1 \\end{pmatrix} = 2\\)\n",
        "\n",
        "Thus, the cofactor matrix \\(C\\) is\n",
        "\n",
        "$\n",
        "C = \\begin{pmatrix}\n",
        "0 & 2 & -1 \\\\\n",
        "1 & -1 & 0 \\\\\n",
        "-1 & -4 & 2\n",
        "\\end{pmatrix}.\n",
        "$\n",
        "\n",
        "Now, the adjugate \\(\\text{adj}(A)\\) is the transpose of the cofactor matrix:\n",
        "\n",
        "$\n",
        "\\text{adj}(A) = \\begin{pmatrix}\n",
        "0 & 1 & -1 \\\\\n",
        "2 & -1 & -4 \\\\\n",
        "-1 & 0 & 2\n",
        "\\end{pmatrix}.\n",
        "$\n",
        "\n",
        "### Step 3: Calculate the inverse\n",
        "\n",
        "Finally, the inverse is given by\n",
        "\n",
        "$\n",
        "A^{-1} = \\frac{1}{\\text{det}(A)} \\text{adj}(A) = -\\text{adj}(A) = -\\begin{pmatrix}\n",
        "0 & 1 & -1 \\\\\n",
        "2 & -1 & -4 \\\\\n",
        "-1 & 0 & 2\n",
        "\\end{pmatrix} = \\begin{pmatrix}\n",
        "0 & -1 & 1 \\\\\n",
        "-2 & 1 & 4 \\\\\n",
        "1 & 0 & -2\n",
        "\\end{pmatrix}.\n",
        "$\n",
        "\n",
        "Thus, the inverse of the matrix \\(A\\) is\n",
        "\n",
        "$\n",
        "A^{-1} = \\begin{pmatrix}\n",
        "0 & -1 & 1 \\\\\n",
        "-2 & 1 & 4 \\\\\n",
        "1 & 0 & -2\n",
        "\\end{pmatrix}.\n",
        "$"
      ],
      "metadata": {
        "id": "3HqzFqAsu2rZ"
      }
    },
    {
      "cell_type": "code",
      "source": [
        "import sympy as sp\n",
        "\n",
        "# Define the matrix\n",
        "A = sp.Matrix([[2, 0, 1], [0, 1, 2], [1, 0, 0]])\n",
        "\n",
        "# Calculate the inverse\n",
        "A_inv = A.inv()\n",
        "\n",
        "# Print the inverse\n",
        "print(A_inv)"
      ],
      "metadata": {
        "id": "swlOi_ukvcG4",
        "outputId": "db885d9c-21fd-4195-f27d-b6f17317c4c4",
        "colab": {
          "base_uri": "https://localhost:8080/"
        }
      },
      "execution_count": 1,
      "outputs": [
        {
          "output_type": "stream",
          "name": "stdout",
          "text": [
            "Matrix([[0, 0, 1], [-2, 1, 4], [1, 0, -2]])\n"
          ]
        }
      ]
    },
    {
      "cell_type": "markdown",
      "source": [
        "TASK 2\n",
        "\n",
        "To determine the rank of the matrix\n",
        "\n",
        "$\n",
        "A = \\begin{pmatrix}\n",
        "4 & -1 & 2 \\\\\n",
        "-3 & 6 & 9 \\\\\n",
        "7 & 3 & 1\n",
        "\\end{pmatrix},\n",
        "$\n",
        "\n",
        "we can use the determinant and perform row operations.\n",
        "\n",
        "### Step 1: Calculate the determinant\n",
        "\n",
        "The determinant of a \\(3 \\times 3\\) matrix\n",
        "\n",
        "$\n",
        "\\begin{pmatrix}\n",
        "a & b & c \\\\\n",
        "d & e & f \\\\\n",
        "g & h & i\n",
        "\\end{pmatrix}\n",
        "$\n",
        "\n",
        "is calculated as:\n",
        "\n",
        "$\n",
        "\\text{det}(A) = a(ei - fh) - b(di - fg) + c(dh - eg).\n",
        "$\n",
        "\n",
        "Applying this to matrix \\(A\\):\n",
        "\n",
        "$\n",
        "\\text{det}(A) = 4(6 \\cdot 1 - 9 \\cdot 3) - (-1)(-3 \\cdot 1 - 9 \\cdot 7) + 2(-3 \\cdot 3 - 6 \\cdot 7).\n",
        "$\n",
        "\n",
        "Calculating each term:\n",
        "\n",
        "1. \\(6 \\cdot 1 - 9 \\cdot 3 = 6 - 27 = -21\\)\n",
        "2. \\(-3 \\cdot 1 - 9 \\cdot 7 = -3 - 63 = -66\\)\n",
        "3. \\(-3 \\cdot 3 - 6 \\cdot 7 = -9 - 42 = -51\\)\n",
        "\n",
        "Now substituting back:\n",
        "\n",
        "$\n",
        "\\text{det}(A) = 4(-21) - (-1)(-66) + 2(-51) = -84 - 66 - 102 = -252.\n",
        "$\n",
        "\n",
        "### Step 2: Determine the rank\n",
        "\n",
        "The rank of a matrix is the number of linearly independent rows (or columns). If the determinant is non-zero, the rank is equal to the size of the matrix (3 in this case).\n",
        "\n",
        "Since \\(\\text{det}(A) \\neq 0\\) (specifically, it is \\(-252\\)), the rank of matrix \\(A\\) is:\n",
        "\n",
        "$\n",
        "\\text{rank}(A) = 3.\n",
        "$\n",
        "\n",
        "Thus, the rank of the matrix \\(A\\) is 3."
      ],
      "metadata": {
        "id": "uHSPFm49vf1m"
      }
    },
    {
      "cell_type": "code",
      "source": [
        "import sympy as sp\n",
        "\n",
        "# Define the matrix\n",
        "A = sp.Matrix([[4, -3, 7], [-1, 6, 3], [2, 9, 1]])\n",
        "\n",
        "# Calculate the determinant\n",
        "det_A = A.det()\n",
        "\n",
        "# Determine the rank\n",
        "if det_A != 0:\n",
        "  rank_A = 3  # If determinant is non-zero, rank is 3\n",
        "else:\n",
        "  rank_A = A.rank()  # Otherwise, calculate rank using .rank()\n",
        "\n",
        "# Print the rank\n",
        "print(rank_A)"
      ],
      "metadata": {
        "id": "g8IeBsYmv8Gm",
        "outputId": "ec3a55cf-0da2-4163-b189-ac108680f98f",
        "colab": {
          "base_uri": "https://localhost:8080/"
        }
      },
      "execution_count": 2,
      "outputs": [
        {
          "output_type": "stream",
          "name": "stdout",
          "text": [
            "3\n"
          ]
        }
      ]
    }
  ],
  "metadata": {
    "kernelspec": {
      "display_name": "Python 3",
      "language": "python",
      "name": "python3"
    },
    "language_info": {
      "codemirror_mode": {
        "name": "ipython",
        "version": 3
      },
      "file_extension": ".py",
      "mimetype": "text/x-python",
      "name": "python",
      "nbconvert_exporter": "python",
      "pygments_lexer": "ipython3",
      "version": "3.11.9"
    },
    "colab": {
      "provenance": [],
      "include_colab_link": true
    }
  },
  "nbformat": 4,
  "nbformat_minor": 0
}