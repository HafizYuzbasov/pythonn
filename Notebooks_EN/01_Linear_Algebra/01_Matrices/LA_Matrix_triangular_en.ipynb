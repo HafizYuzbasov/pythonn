{
  "cells": [
    {
      "cell_type": "markdown",
      "metadata": {
        "id": "view-in-github",
        "colab_type": "text"
      },
      "source": [
        "<a href=\"https://colab.research.google.com/github/HafizYuzbasov/pythonn/blob/main/Notebooks_EN/01_Linear_Algebra/01_Matrices/LA_Matrix_triangular_en.ipynb\" target=\"_parent\"><img src=\"https://colab.research.google.com/assets/colab-badge.svg\" alt=\"Open In Colab\"/></a>"
      ]
    },
    {
      "cell_type": "markdown",
      "metadata": {
        "id": "ikiF5OAHwtXR"
      },
      "source": [
        "# Triangular Matrices and determinant calculation"
      ]
    },
    {
      "cell_type": "code",
      "execution_count": null,
      "metadata": {
        "id": "8Gr7fRqUwtXU",
        "outputId": "ee083767-583f-48cf-bf93-815193046a5c"
      },
      "outputs": [
        {
          "data": {
            "text/markdown": [
              "**Initial Matrix:**"
            ],
            "text/plain": [
              "<IPython.core.display.Markdown object>"
            ]
          },
          "metadata": {},
          "output_type": "display_data"
        },
        {
          "data": {
            "text/latex": [
              "$\\displaystyle \\left[\\begin{matrix}1 & 2 & 3\\\\2 & 5 & 3\\\\3 & 2 & 1\\end{matrix}\\right]$"
            ],
            "text/plain": [
              "Matrix([\n",
              "[1, 2, 3],\n",
              "[2, 5, 3],\n",
              "[3, 2, 1]])"
            ]
          },
          "metadata": {},
          "output_type": "display_data"
        }
      ],
      "source": [
        "import sympy as sp\n",
        "from sympy import Matrix, symbols, Rational\n",
        "from IPython.display import display, Markdown\n",
        "\n",
        "class SymbolicMatrix:\n",
        "    def __init__(self, matrix):\n",
        "        self.matrix = Matrix(matrix).applyfunc(Rational)\n",
        "        self.operations = []\n",
        "        display(Markdown(\"**Initial Matrix:**\"))\n",
        "        display(self.matrix)  # Display the matrix upon initialization\n",
        "\n",
        "    def __repr__(self):\n",
        "        return repr(self.matrix)  # Use Matrix's repr\n",
        "\n",
        "    def __str__(self):\n",
        "        return str(self.matrix)  # Use Matrix's str\n",
        "\n",
        "    def _repr_latex_(self):\n",
        "        return self.matrix._repr_latex_()  # Delegate LaTeX display\n",
        "\n",
        "    def _validate_row_number(self, row):\n",
        "        if not isinstance(row, int):\n",
        "            raise TypeError(\"Row number must be an integer.\")\n",
        "        if row < 1 or row > self.matrix.rows:\n",
        "            raise IndexError(f\"Row number must be in the range from 1 to {self.matrix.rows}.\")\n",
        "        return row - 1\n",
        "\n",
        "    def _validate_col_number(self, col):\n",
        "        if not isinstance(col, int):\n",
        "            raise TypeError(\"Column number must be an integer.\")\n",
        "        if col < 1 or col > self.matrix.cols:\n",
        "            raise IndexError(f\"Column number must be in the range from 1 to {self.matrix.cols}.\")\n",
        "        return col - 1\n",
        "\n",
        "    # Row operations\n",
        "    def add_row(self, target_row, source_row, coefficient):\n",
        "        target_idx = self._validate_row_number(target_row)\n",
        "        source_idx = self._validate_row_number(source_row)\n",
        "        coefficient = Rational(coefficient)\n",
        "\n",
        "        self.matrix.row_op(target_idx, lambda v, j: v + coefficient * self.matrix[source_idx, j])\n",
        "        operation_str = f\"r{target_row} = r{target_row} + {coefficient}*r{source_row}\"\n",
        "        self.operations.append(operation_str)\n",
        "        display(Markdown(f\"**Operation:** {operation_str}\"))\n",
        "        display(self.matrix)\n",
        "\n",
        "    def multiply_row(self, row, coefficient):\n",
        "        row_idx = self._validate_row_number(row)\n",
        "        coefficient = Rational(coefficient)\n",
        "        self.matrix.row_op(row_idx, lambda v, _: coefficient * v)\n",
        "        operation_str = f\"r{row} = {coefficient}*r{row}\"\n",
        "        self.operations.append(operation_str)\n",
        "        display(Markdown(f\"**Operation:** {operation_str}\"))\n",
        "        display(self.matrix)\n",
        "\n",
        "    def swap_rows(self, row1, row2):\n",
        "        row1_idx = self._validate_row_number(row1)\n",
        "        row2_idx = self._validate_row_number(row2)\n",
        "        self.matrix.row_swap(row1_idx, row2_idx)\n",
        "        operation_str = f\"Swap r{row1} <-> r{row2}\"\n",
        "        self.operations.append(operation_str)\n",
        "        display(Markdown(f\"**Operation:** {operation_str}\"))\n",
        "        display(self.matrix)\n",
        "\n",
        "    # Column operations\n",
        "    def add_col(self, target_col, source_col, coefficient):\n",
        "        target_idx = self._validate_col_number(target_col)\n",
        "        source_idx = self._validate_col_number(source_col)\n",
        "        self.matrix.col_op(target_idx, lambda v, i: v + coefficient * self.matrix[i, source_idx])\n",
        "        operation_str = f\"c{target_col} = c{target_col} + {coefficient}*c{source_col}\"\n",
        "        self.operations.append(operation_str)\n",
        "        display(Markdown(f\"**Operation:** {operation_str}\"))\n",
        "        display(self.matrix)\n",
        "\n",
        "    def multiply_col(self, col, coefficient):\n",
        "        col_idx = self._validate_col_number(col)\n",
        "        self.matrix.col_op(col_idx, lambda v, _: coefficient * v)\n",
        "        operation_str = f\"c{col} = {coefficient}*c{col}\"\n",
        "        self.operations.append(operation_str)\n",
        "        display(Markdown(f\"**Operation:** {operation_str}\"))\n",
        "        display(self.matrix)\n",
        "\n",
        "    def swap_cols(self, col1, col2):\n",
        "        col1_idx = self._validate_col_number(col1)\n",
        "        col2_idx = self._validate_col_number(col2)\n",
        "        self.matrix.col_swap(col1_idx, col2_idx)\n",
        "        operation_str = f\"Swap c{col1} <-> c{col2}\"\n",
        "        self.operations.append(operation_str)\n",
        "        display(Markdown(f\"**Operation:** {operation_str}\"))\n",
        "        display(self.matrix)\n",
        "\n",
        "    # Display the operations performed\n",
        "    def print_operations(self):\n",
        "        display(Markdown(\"**Performed Operations:**\"))\n",
        "        for op in self.operations:\n",
        "            print(op)\n",
        "\n",
        "# Example usage\n",
        "mat = [[1, 2, 3], [2, 5, 3], [3, 2, 1]]\n",
        "\n",
        "m = SymbolicMatrix(mat) # instance of SymbolicMatrix class\n",
        "\n",
        "# define the same matrix for computation check\n",
        "original_matrix = sp.Matrix(mat)"
      ]
    },
    {
      "cell_type": "code",
      "execution_count": null,
      "metadata": {
        "id": "bDTPmSFHwtXY",
        "outputId": "35a1ae27-83e5-4a13-c3c5-a46f01e20248"
      },
      "outputs": [
        {
          "data": {
            "text/markdown": [
              "**Operation:** r2 = r2 + -2*r1"
            ],
            "text/plain": [
              "<IPython.core.display.Markdown object>"
            ]
          },
          "metadata": {},
          "output_type": "display_data"
        },
        {
          "data": {
            "text/latex": [
              "$\\displaystyle \\left[\\begin{matrix}1 & 2 & 3\\\\0 & 1 & -3\\\\3 & 2 & 1\\end{matrix}\\right]$"
            ],
            "text/plain": [
              "Matrix([\n",
              "[1, 2,  3],\n",
              "[0, 1, -3],\n",
              "[3, 2,  1]])"
            ]
          },
          "metadata": {},
          "output_type": "display_data"
        }
      ],
      "source": [
        "m.add_row(2, 1, -2)"
      ]
    },
    {
      "cell_type": "code",
      "execution_count": null,
      "metadata": {
        "id": "MU0KZfRDwtXZ",
        "outputId": "ec2c54a3-013a-4c09-a33c-0901f0c20491"
      },
      "outputs": [
        {
          "data": {
            "text/markdown": [
              "**Operation:** r3 = r3 + -3*r1"
            ],
            "text/plain": [
              "<IPython.core.display.Markdown object>"
            ]
          },
          "metadata": {},
          "output_type": "display_data"
        },
        {
          "data": {
            "text/latex": [
              "$\\displaystyle \\left[\\begin{matrix}1 & 2 & 3\\\\0 & 1 & -3\\\\0 & -4 & -8\\end{matrix}\\right]$"
            ],
            "text/plain": [
              "Matrix([\n",
              "[1,  2,  3],\n",
              "[0,  1, -3],\n",
              "[0, -4, -8]])"
            ]
          },
          "metadata": {},
          "output_type": "display_data"
        }
      ],
      "source": [
        "m.add_row(3, 1, -3)"
      ]
    },
    {
      "cell_type": "code",
      "execution_count": null,
      "metadata": {
        "id": "4XoJbfM6wtXa",
        "outputId": "2be95f98-60a7-418d-fd6b-011a3d1209af"
      },
      "outputs": [
        {
          "data": {
            "text/markdown": [
              "**Operation:** r3 = r3 + 4*r2"
            ],
            "text/plain": [
              "<IPython.core.display.Markdown object>"
            ]
          },
          "metadata": {},
          "output_type": "display_data"
        },
        {
          "data": {
            "text/latex": [
              "$\\displaystyle \\left[\\begin{matrix}1 & 2 & 3\\\\0 & 1 & -3\\\\0 & 0 & -20\\end{matrix}\\right]$"
            ],
            "text/plain": [
              "Matrix([\n",
              "[1, 2,   3],\n",
              "[0, 1,  -3],\n",
              "[0, 0, -20]])"
            ]
          },
          "metadata": {},
          "output_type": "display_data"
        }
      ],
      "source": [
        "m.add_row(3, 2, 4)"
      ]
    },
    {
      "cell_type": "markdown",
      "metadata": {
        "id": "JlRC29WlwtXb"
      },
      "source": [
        "The resulting matrix is an upper triangular matrix.\n",
        "\n",
        "### Determinant of a Triangular Matrix\n",
        "\n",
        "For a triangular matrix, the determinant is equal to the product of the elements on its diagonal."
      ]
    },
    {
      "cell_type": "code",
      "execution_count": null,
      "metadata": {
        "id": "Q9rRHIH_wtXb",
        "outputId": "2fd5221f-2af1-4f29-cf33-c63ec11bf72f"
      },
      "outputs": [
        {
          "data": {
            "text/plain": [
              "True"
            ]
          },
          "execution_count": 5,
          "metadata": {},
          "output_type": "execute_result"
        }
      ],
      "source": [
        "# The determinant of a triangular matrix is the product of the diagonal elements!\n",
        "original_matrix.det() == 1 * 1 * (-20)"
      ]
    },
    {
      "cell_type": "markdown",
      "metadata": {
        "id": "cqEP5dnVwtXc"
      },
      "source": [
        "---\n",
        "\n",
        "## Exercises for Students\n",
        "\n",
        "Perform row and column operations to reduce the following matrices to an upper triangular form and calculate their determinants by taking the product of the diagonal elements.\n",
        "\n",
        "1.\n",
        "$$\n",
        "A = \\begin{bmatrix}\n",
        "12 & 3 \\\\\n",
        "-18 & -4\n",
        "\\end{bmatrix}\n",
        "$$\n",
        "\n",
        "2.\n",
        "\n",
        "$$\n",
        "B = \\begin{bmatrix}\n",
        "1 & 2 & 3 \\\\\n",
        "4 & 5 & 6 \\\\\n",
        "7 & 8 & 9\n",
        "\\end{bmatrix}\n",
        "$$"
      ]
    },
    {
      "cell_type": "markdown",
      "source": [
        "To reduce the matrix\n",
        "\n",
        "$\n",
        "A = \\begin{pmatrix}\n",
        "12 & 3 \\\\\n",
        "-18 & -4\n",
        "\\end{pmatrix}\n",
        "$\n",
        "\n",
        "to upper triangular form using row operations, we can follow these steps:\n",
        "\n",
        "### Step 1: Row Operations\n",
        "\n",
        "1. **Start with the original matrix:**\n",
        "   $\n",
        "   A = \\begin{pmatrix}\n",
        "   12 & 3 \\\\\n",
        "   -18 & -4\n",
        "   \\end{pmatrix}\n",
        "   $\n",
        "\n",
        "2. **Eliminate the entry in the first column of the second row.** We can add \\(\\frac{3}{2}\\) times Row 1 (R1) to Row 2 (R2):\n",
        "   $\n",
        "   R2 \\rightarrow R2 + \\frac{3}{2} R1\n",
        "   $\n",
        "   So:\n",
        "   $\n",
        "   R2 \\rightarrow \\begin{pmatrix} -18 & -4 \\end{pmatrix} + \\frac{3}{2} \\begin{pmatrix} 12 & 3 \\end{pmatrix}\n",
        "   $\n",
        "   Calculate:\n",
        "   $\n",
        "   R2 \\rightarrow \\begin{pmatrix} -18 + 18 & -4 + \\frac{9}{2} \\end{pmatrix} = \\begin{pmatrix} 0 & -4 + 4.5 \\end{pmatrix} = \\begin{pmatrix} 0 & 0.5 \\end{pmatrix}\n",
        "   $\n",
        "\n",
        "Now the matrix looks like:\n",
        "\n",
        "$\n",
        "A = \\begin{pmatrix}\n",
        "12 & 3 \\\\\n",
        "0 & 0.5\n",
        "\\end{pmatrix}\n",
        "$\n",
        "\n",
        "### Step 2: Upper Triangular Form\n",
        "\n",
        "The matrix is now in upper triangular form.\n",
        "\n",
        "### Step 3: Determinant Calculation\n",
        "\n",
        "To find the determinant of the matrix \\( A \\), we multiply the diagonal elements:\n",
        "\n",
        "$\n",
        "\\text{det}(A) = 12 \\times 0.5 = 6\n",
        "$\n",
        "\n",
        "Thus, the determinant of the matrix \\( A \\) is **6**."
      ],
      "metadata": {
        "id": "K08zIMJcx9Xw"
      }
    },
    {
      "cell_type": "code",
      "source": [
        "from sympy import Matrix\n",
        "\n",
        "A = Matrix([[12, 3], [-18, -4]])\n",
        "\n",
        "# Calculate the determinant of A\n",
        "determinant_A = A.det()\n",
        "\n",
        "print(f\"Determinant of A: {determinant_A}\")"
      ],
      "metadata": {
        "id": "rIW90ITzxHtk",
        "outputId": "ce36926b-aac9-4664-ae9f-91b5d1b0e78d",
        "colab": {
          "base_uri": "https://localhost:8080/"
        }
      },
      "execution_count": 6,
      "outputs": [
        {
          "output_type": "stream",
          "name": "stdout",
          "text": [
            "Determinant of A: 6\n"
          ]
        }
      ]
    },
    {
      "cell_type": "markdown",
      "source": [
        "To reduce the matrix\n",
        "\n",
        "$\n",
        "B = \\begin{pmatrix}\n",
        "1 & 2 & 3 \\\\\n",
        "4 & 5 & 6 \\\\\n",
        "7 & 8 & 9\n",
        "\\end{pmatrix}\n",
        "$\n",
        "\n",
        "to upper triangular form and calculate its determinant, we can perform row operations.\n",
        "\n",
        "### Step 1: Row Operations\n",
        "\n",
        "1. **Start with the original matrix:**\n",
        "   $\n",
        "   B = \\begin{pmatrix}\n",
        "   1 & 2 & 3 \\\\\n",
        "   4 & 5 & 6 \\\\\n",
        "   7 & 8 & 9\n",
        "   \\end{pmatrix}\n",
        "   $\n",
        "\n",
        "2. **Eliminate the entries below the first column:**\n",
        "   - For Row 2 (R2), replace it with \\( R2 - 4R1 \\):\n",
        "   $\n",
        "   R2 \\rightarrow R2 - 4R1 = \\begin{pmatrix} 4 & 5 & 6 \\end{pmatrix} - 4 \\begin{pmatrix} 1 & 2 & 3 \\end{pmatrix} = \\begin{pmatrix} 0 & -3 & -6 \\end{pmatrix}\n",
        "   $\n",
        "   - For Row 3 (R3), replace it with \\( R3 - 7R1 \\):\n",
        "   $\n",
        "   R3 \\rightarrow R3 - 7R1 = \\begin{pmatrix} 7 & 8 & 9 \\end{pmatrix} - 7 \\begin{pmatrix} 1 & 2 & 3 \\end{pmatrix} = \\begin{pmatrix} 0 & -6 & -12 \\end{pmatrix}\n",
        "   $\n",
        "\n",
        "Now the matrix looks like:\n",
        "\n",
        "$\n",
        "B = \\begin{pmatrix}\n",
        "1 & 2 & 3 \\\\\n",
        "0 & -3 & -6 \\\\\n",
        "0 & -6 & -12\n",
        "\\end{pmatrix}\n",
        "$\n",
        "\n",
        "3. **Eliminate the second column entry in Row 3 (R3):**\n",
        "   - Replace R3 with \\( R3 - 2R2 \\):\n",
        "   $\n",
        "   R3 \\rightarrow R3 - 2R2 = \\begin{pmatrix} 0 & -6 & -12 \\end{pmatrix} - 2 \\begin{pmatrix} 0 & -3 & -6 \\end{pmatrix} = \\begin{pmatrix} 0 & 0 & 0 \\end{pmatrix}\n",
        "   $\n",
        "\n",
        "Now the matrix looks like:\n",
        "\n",
        "$\n",
        "B = \\begin{pmatrix}\n",
        "1 & 2 & 3 \\\\\n",
        "0 & -3 & -6 \\\\\n",
        "0 & 0 & 0\n",
        "\\end{pmatrix}\n",
        "$\n",
        "\n",
        "### Step 2: Upper Triangular Form\n",
        "\n",
        "The matrix is now in upper triangular form.\n",
        "\n",
        "### Step 3: Determinant Calculation\n",
        "\n",
        "To find the determinant of the matrix \\( B \\), we take the product of the diagonal elements:\n",
        "\n",
        "$\n",
        "\\text{det}(B) = 1 \\times (-3) \\times 0 = 0\n",
        "$\n",
        "\n",
        "Thus, the determinant of the matrix \\( B \\) is **0**."
      ],
      "metadata": {
        "id": "bUATLSBzyj9K"
      }
    },
    {
      "cell_type": "code",
      "source": [
        "from sympy import Matrix\n",
        "\n",
        "B = Matrix([[1, 2, 3], [4, 5, 6], [7, 8, 9]])\n",
        "\n",
        "# Calculate the determinant of B\n",
        "determinant_B = B.det()\n",
        "\n",
        "print(f\"Determinant of B: {determinant_B}\")"
      ],
      "metadata": {
        "id": "5jo2f46bzEiv",
        "outputId": "6ab00e08-2915-423f-a89c-0a6629ab93f6",
        "colab": {
          "base_uri": "https://localhost:8080/"
        }
      },
      "execution_count": 5,
      "outputs": [
        {
          "output_type": "stream",
          "name": "stdout",
          "text": [
            "Determinant of B: 0\n"
          ]
        }
      ]
    }
  ],
  "metadata": {
    "kernelspec": {
      "display_name": "Python 3",
      "language": "python",
      "name": "python3"
    },
    "language_info": {
      "codemirror_mode": {
        "name": "ipython",
        "version": 3
      },
      "file_extension": ".py",
      "mimetype": "text/x-python",
      "name": "python",
      "nbconvert_exporter": "python",
      "pygments_lexer": "ipython3",
      "version": "3.11.9"
    },
    "colab": {
      "provenance": [],
      "include_colab_link": true
    }
  },
  "nbformat": 4,
  "nbformat_minor": 0
}