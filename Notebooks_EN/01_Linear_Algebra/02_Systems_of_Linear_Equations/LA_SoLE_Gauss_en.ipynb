{
  "cells": [
    {
      "cell_type": "markdown",
      "metadata": {
        "id": "view-in-github",
        "colab_type": "text"
      },
      "source": [
        "<a href=\"https://colab.research.google.com/github/HafizYuzbasov/pythonn/blob/main/Notebooks_EN/01_Linear_Algebra/02_Systems_of_Linear_Equations/LA_SoLE_Gauss_en.ipynb\" target=\"_parent\"><img src=\"https://colab.research.google.com/assets/colab-badge.svg\" alt=\"Open In Colab\"/></a>"
      ]
    },
    {
      "cell_type": "markdown",
      "metadata": {
        "id": "fSQ-5QNpE-H5"
      },
      "source": [
        "# Gaussian Elimination Method\n",
        "\n",
        "Solving a system of linear equations using the Gaussian elimination method involves transforming the coefficient matrix of the system into an upper triangular matrix, followed by solving the system using back substitution.\n",
        "\n",
        "This is one of the most fundamental methods for solving systems of linear equations, especially in cases where the number of unknowns is different from the number of equations."
      ]
    },
    {
      "cell_type": "code",
      "execution_count": null,
      "metadata": {
        "id": "1-zw35GlE-H7",
        "outputId": "eb4f088e-ac47-431b-b040-3f2f542049c7"
      },
      "outputs": [
        {
          "data": {
            "text/markdown": [
              "**Initial equations:**"
            ],
            "text/plain": [
              "<IPython.core.display.Markdown object>"
            ]
          },
          "metadata": {},
          "output_type": "display_data"
        },
        {
          "data": {
            "text/markdown": [
              "System of equations:"
            ],
            "text/plain": [
              "<IPython.core.display.Markdown object>"
            ]
          },
          "metadata": {},
          "output_type": "display_data"
        },
        {
          "data": {
            "text/markdown": [
              "$$\\begin{aligned} 1 x_{1} + 2 x_{2} + 3 x_{3} = 10 \\\\ 4 x_{1} + 5 x_{2} + 6 x_{3} = 11 \\\\ 7 x_{1} + 8 x_{2} + 12 x_{3} = 18 \\end{aligned}$$"
            ],
            "text/plain": [
              "<IPython.core.display.Markdown object>"
            ]
          },
          "metadata": {},
          "output_type": "display_data"
        }
      ],
      "source": [
        "from sympy import Matrix, symbols, Eq, latex\n",
        "from IPython.display import display, Markdown\n",
        "import sympy as sp\n",
        "\n",
        "class SymbolicMatrix:\n",
        "    def __init__(self, matrix, column_labels=None, free_terms=None, display_mode=\"table\"):\n",
        "        self.matrix = Matrix(matrix)\n",
        "        self.operations = []\n",
        "        self.display_mode = display_mode\n",
        "\n",
        "        if column_labels:\n",
        "            if len(column_labels) != self.matrix.cols:\n",
        "                raise ValueError(\"The number of column labels must be equal to the number of columns in the matrix.\")\n",
        "            self.column_labels = column_labels\n",
        "        else:\n",
        "            self.column_labels = [f\"x{i+1}\" for i in range(self.matrix.cols)]\n",
        "\n",
        "        if free_terms:\n",
        "            if len(free_terms) != self.matrix.rows:\n",
        "                raise ValueError(\"The number of free terms must be equal to the number of rows in the matrix.\")\n",
        "            self.free_terms = free_terms\n",
        "        else:\n",
        "            self.free_terms = [0 for _ in range(self.matrix.rows)]\n",
        "\n",
        "        display(Markdown(\"**Initial equations:**\"))\n",
        "        self.display_matrix()\n",
        "\n",
        "    def set_display_mode(self, mode):\n",
        "        if mode not in [\"table\", \"equations\"]:\n",
        "            raise ValueError(\"Display mode must be 'table' or 'equations'.\")\n",
        "        self.display_mode = mode\n",
        "\n",
        "    def display_matrix(self):\n",
        "        if self.display_mode == \"table\":\n",
        "            self._display_table()\n",
        "        elif self.display_mode == \"equations\":\n",
        "            self._display_equations()\n",
        "\n",
        "    def _display_table(self):\n",
        "        matrix_with_free_terms = self.matrix.row_join(Matrix(self.free_terms))\n",
        "        headers = self.column_labels + [\"Free term\"]\n",
        "        display(Markdown(self._matrix_to_markdown(matrix_with_free_terms, headers)))\n",
        "\n",
        "    def _matrix_to_markdown(self, matrix, headers):\n",
        "        markdown_str = \"| \" + \" | \".join(headers) + \" |\\n\"\n",
        "        markdown_str += \"| \" + \" | \".join([\"---\"] * len(headers)) + \" |\\n\"\n",
        "        for i in range(matrix.rows):\n",
        "            row = [str(matrix[i, j]) for j in range(matrix.cols)]\n",
        "            markdown_str += \"| \" + \" | \".join(row) + \" |\\n\"\n",
        "        return markdown_str\n",
        "\n",
        "    def _display_equations(self):\n",
        "        equations = []\n",
        "        for i in range(self.matrix.rows):\n",
        "            terms = []\n",
        "            for j in range(self.matrix.cols):\n",
        "                coef = self.matrix[i, j]\n",
        "                var = symbols(self.column_labels[j])\n",
        "\n",
        "                # Check if the coefficient is positive, negative, or zero\n",
        "                if coef > 0:\n",
        "                    if j == 0:\n",
        "                        terms.append(f\"{latex(coef)} {latex(var)}\")\n",
        "                    else:\n",
        "                        terms.append(f\"+ {latex(coef)} {latex(var)}\")\n",
        "                elif coef < 0:\n",
        "                    terms.append(f\"- {latex(abs(coef))} {latex(var)}\")\n",
        "                elif coef == 0:\n",
        "                    if j == 0:\n",
        "                        terms.append(f\"0 {latex(var)}\")\n",
        "                    else:\n",
        "                        terms.append(f\"+0 {latex(var)}\")\n",
        "\n",
        "            lhs = \" \".join(terms)\n",
        "            rhs = latex(self.free_terms[i])\n",
        "\n",
        "            equation = f\"{lhs} = {rhs}\"\n",
        "            equations.append(equation)\n",
        "\n",
        "        display(Markdown(\"System of equations:\"))\n",
        "        display(Markdown(f\"$$\\\\begin{{aligned}} {self._equations_to_latex(equations)} \\\\end{{aligned}}$$\"))\n",
        "\n",
        "    def _equations_to_latex(self, equations):\n",
        "        return \" \\\\\\\\ \".join(equations)\n",
        "\n",
        "    def add_row(self, target_row, source_row, coefficient):\n",
        "        target_idx = self._validate_row_number(target_row)\n",
        "        source_idx = self._validate_row_number(source_row)\n",
        "\n",
        "        # Operation on the matrix\n",
        "        self.matrix.row_op(target_idx, lambda v, j: v + coefficient * self.matrix[source_idx, j])\n",
        "\n",
        "        # Operation on the free terms\n",
        "        self.free_terms[target_idx] += coefficient * self.free_terms[source_idx]\n",
        "\n",
        "        operation_str = f\"r{target_row} = r{target_row} + {coefficient}*r{source_row}\"\n",
        "        self.operations.append(operation_str)\n",
        "        display(Markdown(f\"**Operation:** {operation_str}\"))\n",
        "        self.display_matrix()\n",
        "\n",
        "    def multiply_row(self, row, coefficient):\n",
        "        row_idx = self._validate_row_number(row)\n",
        "\n",
        "        # Operation on the matrix\n",
        "        self.matrix.row_op(row_idx, lambda v, _: coefficient * v)\n",
        "\n",
        "        # Operation on the free terms\n",
        "        self.free_terms[row_idx] *= coefficient\n",
        "\n",
        "        operation_str = f\"r{row} = {coefficient}*r{row}\"\n",
        "        self.operations.append(operation_str)\n",
        "        display(Markdown(f\"**Operation:** {operation_str}\"))\n",
        "        self.display_matrix()\n",
        "\n",
        "    def swap_rows(self, row1, row2):\n",
        "        row1_idx = self._validate_row_number(row1)\n",
        "        row2_idx = self._validate_row_number(row2)\n",
        "\n",
        "        self.matrix.row_swap(row1_idx, row2_idx)\n",
        "        self.free_terms[row1_idx], self.free_terms[row2_idx] = self.free_terms[row2_idx], self.free_terms[row1_idx]\n",
        "\n",
        "        operation_str = f\"Swap r{row1} <-> r{row2}\"\n",
        "        self.operations.append(operation_str)\n",
        "        display(Markdown(f\"**Operation:** {operation_str}\"))\n",
        "        self.display_matrix()\n",
        "\n",
        "    def swap_columns(self, col1, col2):\n",
        "        col1_idx = self._validate_col_number(col1)\n",
        "        col2_idx = self._validate_col_number(col2)\n",
        "\n",
        "        self.matrix.col_swap(col1_idx, col2_idx)\n",
        "        self.column_labels[col1_idx], self.column_labels[col2_idx] = self.column_labels[col2_idx], self.column_labels[col1_idx]\n",
        "\n",
        "        operation_str = f\"Swap col{col1} <-> col{col2}\"\n",
        "        self.operations.append(operation_str)\n",
        "        display(Markdown(f\"**Operation:** {operation_str}\"))\n",
        "        self.display_matrix()\n",
        "\n",
        "    def _validate_row_number(self, row):\n",
        "        if not isinstance(row, int):\n",
        "            raise TypeError(\"Row number must be an integer.\")\n",
        "        if row < 1 or row > self.matrix.rows:\n",
        "            raise IndexError(f\"Row number must be between 1 and {self.matrix.rows}.\")\n",
        "        return row - 1\n",
        "\n",
        "    def _validate_col_number(self, col):\n",
        "        if not isinstance(col, int):\n",
        "            raise TypeError(\"Column number must be an integer.\")\n",
        "        if col < 1 or col > self.matrix.cols:\n",
        "            raise IndexError(f\"Column number must be between 1 and {self.matrix.cols}.\")\n",
        "        return col - 1\n",
        "\n",
        "    def print_operations(self):\n",
        "        display(Markdown(\"**Performed operations:**\"))\n",
        "        for op in self.operations:\n",
        "            print(op)\n",
        "\n",
        "# Example usage:\n",
        "m = SymbolicMatrix([[1,2,3], [4,5,6], [7,8,12]], column_labels=[\"x1\", \"x2\", \"x3\"], free_terms=[10, 11, 18], display_mode=\"equations\")\n"
      ]
    },
    {
      "cell_type": "code",
      "execution_count": null,
      "metadata": {
        "id": "VWw-UINRE-H_",
        "outputId": "d324c8d6-77b2-4edb-e2ba-57d7595f2daf",
        "colab": {
          "base_uri": "https://localhost:8080/",
          "height": 141
        }
      },
      "outputs": [
        {
          "output_type": "error",
          "ename": "NameError",
          "evalue": "name 'm' is not defined",
          "traceback": [
            "\u001b[0;31m---------------------------------------------------------------------------\u001b[0m",
            "\u001b[0;31mNameError\u001b[0m                                 Traceback (most recent call last)",
            "\u001b[0;32m<ipython-input-4-0fd448be47a4>\u001b[0m in \u001b[0;36m<cell line: 1>\u001b[0;34m()\u001b[0m\n\u001b[0;32m----> 1\u001b[0;31m \u001b[0mm\u001b[0m\u001b[0;34m.\u001b[0m\u001b[0madd_row\u001b[0m\u001b[0;34m(\u001b[0m\u001b[0;36m2\u001b[0m\u001b[0;34m,\u001b[0m \u001b[0;36m1\u001b[0m\u001b[0;34m,\u001b[0m \u001b[0;34m-\u001b[0m\u001b[0;36m4\u001b[0m\u001b[0;34m)\u001b[0m\u001b[0;34m\u001b[0m\u001b[0;34m\u001b[0m\u001b[0m\n\u001b[0m",
            "\u001b[0;31mNameError\u001b[0m: name 'm' is not defined"
          ]
        }
      ],
      "source": [
        "m.add_row(2, 1, -4)"
      ]
    },
    {
      "cell_type": "code",
      "execution_count": null,
      "metadata": {
        "id": "dlkxvbXNE-H_",
        "outputId": "149c50d1-649f-48fd-cc43-1508a2747daf",
        "colab": {
          "base_uri": "https://localhost:8080/",
          "height": 141
        }
      },
      "outputs": [
        {
          "output_type": "error",
          "ename": "NameError",
          "evalue": "name 'm' is not defined",
          "traceback": [
            "\u001b[0;31m---------------------------------------------------------------------------\u001b[0m",
            "\u001b[0;31mNameError\u001b[0m                                 Traceback (most recent call last)",
            "\u001b[0;32m<ipython-input-2-4afb502943cf>\u001b[0m in \u001b[0;36m<cell line: 1>\u001b[0;34m()\u001b[0m\n\u001b[0;32m----> 1\u001b[0;31m \u001b[0mm\u001b[0m\u001b[0;34m.\u001b[0m\u001b[0madd_row\u001b[0m\u001b[0;34m(\u001b[0m\u001b[0;36m3\u001b[0m\u001b[0;34m,\u001b[0m \u001b[0;36m1\u001b[0m\u001b[0;34m,\u001b[0m \u001b[0;34m-\u001b[0m\u001b[0;36m7\u001b[0m\u001b[0;34m)\u001b[0m\u001b[0;34m\u001b[0m\u001b[0;34m\u001b[0m\u001b[0m\n\u001b[0m",
            "\u001b[0;31mNameError\u001b[0m: name 'm' is not defined"
          ]
        }
      ],
      "source": [
        "m.add_row(3, 1, -7)"
      ]
    },
    {
      "cell_type": "code",
      "execution_count": null,
      "metadata": {
        "id": "2VVDVR_jE-IA",
        "outputId": "f0c1f39a-1afe-4a8f-dba7-7a6152d5abad",
        "colab": {
          "base_uri": "https://localhost:8080/",
          "height": 141
        }
      },
      "outputs": [
        {
          "output_type": "error",
          "ename": "NameError",
          "evalue": "name 'm' is not defined",
          "traceback": [
            "\u001b[0;31m---------------------------------------------------------------------------\u001b[0m",
            "\u001b[0;31mNameError\u001b[0m                                 Traceback (most recent call last)",
            "\u001b[0;32m<ipython-input-3-460566e8c9cf>\u001b[0m in \u001b[0;36m<cell line: 1>\u001b[0;34m()\u001b[0m\n\u001b[0;32m----> 1\u001b[0;31m \u001b[0mm\u001b[0m\u001b[0;34m.\u001b[0m\u001b[0madd_row\u001b[0m\u001b[0;34m(\u001b[0m\u001b[0;36m3\u001b[0m\u001b[0;34m,\u001b[0m \u001b[0;36m2\u001b[0m\u001b[0;34m,\u001b[0m \u001b[0;34m-\u001b[0m\u001b[0;36m2\u001b[0m\u001b[0;34m)\u001b[0m\u001b[0;34m\u001b[0m\u001b[0;34m\u001b[0m\u001b[0m\n\u001b[0m",
            "\u001b[0;31mNameError\u001b[0m: name 'm' is not defined"
          ]
        }
      ],
      "source": [
        "m.add_row(3, 2, -2)"
      ]
    },
    {
      "cell_type": "code",
      "execution_count": null,
      "metadata": {
        "id": "L8ZfmosWE-IA"
      },
      "outputs": [],
      "source": [
        "# We have 3 equations, so we end the operation\n",
        "# Define symbols\n",
        "x1, x2, x3 = symbols('x1 x2 x3')\n",
        "# Define equations\n",
        "eq1 = Eq(x1 + 2*x2 + 3*x3, 10)\n",
        "eq2 = Eq(-3*x2 - 6*x3, -29)\n",
        "eq3 = Eq(3*x3, 6)"
      ]
    },
    {
      "cell_type": "code",
      "execution_count": null,
      "metadata": {
        "id": "8_OHVbARE-IA",
        "outputId": "69588fe0-b5b0-454e-9e6f-0b1806f91b83"
      },
      "outputs": [
        {
          "data": {
            "text/latex": [
              "$\\displaystyle 2$"
            ],
            "text/plain": [
              "2"
            ]
          },
          "execution_count": 14,
          "metadata": {},
          "output_type": "execute_result"
        }
      ],
      "source": [
        "sol_x3 = sp.solve(eq3, x3)[0]\n",
        "sol_x3"
      ]
    },
    {
      "cell_type": "code",
      "execution_count": null,
      "metadata": {
        "id": "hYkIaw_vE-IB",
        "outputId": "c13c11e6-c4cd-43ca-996c-029adf57f6d9"
      },
      "outputs": [
        {
          "data": {
            "text/latex": [
              "$\\displaystyle \\frac{17}{3}$"
            ],
            "text/plain": [
              "17/3"
            ]
          },
          "execution_count": 15,
          "metadata": {},
          "output_type": "execute_result"
        }
      ],
      "source": [
        "# Substitute solution x3 into equation 2\n",
        "eq2 = eq2.subs(x3, sol_x3)\n",
        "# Solve equation 2\n",
        "sol_x2 = sp.solve(eq2, x2)[0]\n",
        "sol_x2"
      ]
    },
    {
      "cell_type": "code",
      "execution_count": null,
      "metadata": {
        "id": "OWOmnHxvE-IB",
        "outputId": "79ec4424-7697-44c1-9b44-83ea240a5b25"
      },
      "outputs": [
        {
          "data": {
            "text/latex": [
              "$\\displaystyle - \\frac{22}{3}$"
            ],
            "text/plain": [
              "-22/3"
            ]
          },
          "execution_count": 16,
          "metadata": {},
          "output_type": "execute_result"
        }
      ],
      "source": [
        "# Substitute solutions x2 and x3 into equation 1\n",
        "eq1 = eq1.subs({x2: sol_x2, x3: sol_x3})\n",
        "# Solve equation 1\n",
        "sol_x1 = sp.solve(eq1, x1)[0]\n",
        "sol_x1"
      ]
    },
    {
      "cell_type": "markdown",
      "metadata": {
        "id": "JU5jS9DfE-IC"
      },
      "source": [
        "---\n",
        "\n",
        "## Exercises for Students\n",
        "\n",
        "$$\n",
        "\\left\\{\\begin{array}{c}{x+2 y-2 z=4} \\\\ {2 x+y+z=0} \\\\ {3 x+2 y+z=1}\\end{array}\\right.\\quad\n",
        "\\left\\{\\begin{array}{c}{x+y+z-t=2} \\\\ {2 x+y+z=3} \\\\ {-x+z-t=0} \\\\ {3 x+2 y-z+2 t=-1}\\end{array}\\right.\\quad\n",
        "\\left\\{\\begin{array}{c}{x+y-z-t=0} \\\\ {2 x+3 y-2 z+t=4} \\\\ {3 x+5 z=0} \\\\ {-x+y-3 z+2 t=3}\\end{array}\\right.\n",
        "$$"
      ]
    },
    {
      "cell_type": "markdown",
      "source": [
        "TASK 1\n",
        "\n",
        "\n",
        "\n",
        "\n",
        "$\n",
        "\\begin{aligned}\n",
        "x + 2y - 2z &= 4 \\quad \\text{(1)} \\\\\n",
        "2x + y + z &= 0 \\quad \\text{(2)} \\\\\n",
        "3x + 2y + z &= 1 \\quad \\text{(3)}\n",
        "\\end{aligned}\n",
        "$\n",
        "\n",
        "\n",
        "solutıon\n",
        "\n",
        "\n",
        "$\n",
        "y = -2x - z \\quad \\text{(4)}\n",
        "$\n",
        "\n",
        "\n",
        "$\n",
        "x + 2(-2x - z) - 2z = 4\n",
        "$\n",
        "$\n",
        "x - 4x - 2z - 2z = 4\n",
        "$\n",
        "$\n",
        "-3x - 4z = 4\n",
        "$\n",
        "$\n",
        "3x + 4z = -4 \\quad \\text{(5)}\n",
        "$\n",
        "\n",
        "\n",
        "$\n",
        "3x + 2(-2x - z) + z = 1\n",
        "$\n",
        "$\n",
        "3x - 4x - 2z + z = 1\n",
        "$\n",
        "$\n",
        "-x - z = 1\n",
        "$\n",
        "$\n",
        "x + z = -1 \\quad \\text{(6)}\n",
        "$\n",
        "\n",
        "\n",
        "$\n",
        "3(-1 - z) + 4z = -4\n",
        "$\n",
        "$\n",
        "-3 - 3z + 4z = -4\n",
        "$\n",
        "$\n",
        "-3 + z = -4\n",
        "$\n",
        "$\n",
        "z = -1\n",
        "$\n",
        "\n",
        "\n",
        "$\n",
        "x + (-1) = -1\n",
        "$\n",
        "$\n",
        "x = 0\n",
        "$\n",
        "\n",
        "\n",
        "$\n",
        "y = -2(0) - (-1)\n",
        "$\n",
        "$\n",
        "y = 1\n",
        "$\n",
        "\n",
        "\n",
        "$\n",
        "x = 0, \\quad y = 1, \\quad z = -1\n",
        "$"
      ],
      "metadata": {
        "id": "WSs1HsGmGCq9"
      }
    },
    {
      "cell_type": "code",
      "source": [
        "from sympy import Matrix, symbols, Eq, solve\n",
        "\n",
        "# Define the matrix and free terms\n",
        "matrix = Matrix([[1, 2, -2], [2, 1, 1], [3, 2, 1]])\n",
        "free_terms = Matrix([4, 0, 1])\n",
        "\n",
        "# Solve the system\n",
        "x, y, z = symbols('x, y, z')\n",
        "solution = solve(matrix * Matrix([x, y, z]) - free_terms, [x, y, z])\n",
        "\n",
        "# Print the solution\n",
        "print(solution)"
      ],
      "metadata": {
        "id": "R0HWj8LZIK8F",
        "outputId": "d427ad96-9f9b-47c2-e585-28dec28d9b5b",
        "colab": {
          "base_uri": "https://localhost:8080/"
        }
      },
      "execution_count": null,
      "outputs": [
        {
          "output_type": "stream",
          "name": "stdout",
          "text": [
            "{x: 0, y: 1, z: -1}\n"
          ]
        }
      ]
    },
    {
      "cell_type": "markdown",
      "source": [
        "\n",
        "\n",
        "$\n",
        "\\begin{aligned}\n",
        "1. \\quad & x + y + z - t = 22 \\\\\n",
        "2. \\quad & x + y + z = 3 \\\\\n",
        "3. \\quad & -x + z - t = 0 \\\\\n",
        "4. \\quad & 3x + 2y - z + 2t = -1\n",
        "\\end{aligned}\n",
        "$\n",
        "\n",
        "\n",
        "\n",
        "\n",
        "\n",
        "$\n",
        "\\begin{bmatrix}\n",
        "1 & 1 & 1 & -1 & | & 22 \\\\\n",
        "1 & 1 & 1 & 0  & | & 3 \\\\\n",
        "-1 & 0 & 1 & -1 & | & 0 \\\\\n",
        "3 & 2 & -1 & 2  & | & -1\n",
        "\\end{bmatrix}\n",
        "$\n",
        "\n",
        "\n",
        "\n",
        "1.\n",
        "   $\n",
        "   R_2 \\rightarrow R_2 - R_1: \\quad [1, 1, 1, 0 | 3] - [1, 1, 1, -1 | 22] = [0, 0, 0, 1 | -19]\n",
        "   $\n",
        "\n",
        "2.\n",
        "   $\n",
        "   R_3 \\rightarrow R_3 + R_1: \\quad [-1, 0, 1, -1 | 0] + [1, 1, 1, -1 | 22] = [0, 1, 2, -2 | 22]\n",
        "   $\n",
        "\n",
        "3.\n",
        "   $\n",
        "   R_4 \\rightarrow R_4 - 3R_1: \\quad [3, 2, -1, 2 | -1] - 3[1, 1, 1, -1 | 22] = [0, -1, -4, 5 | -67]\n",
        "   $\n",
        "\n",
        "\n",
        "\n",
        "$\n",
        "\\begin{bmatrix}\n",
        "1 & 1 & 1 & -1 & | & 22 \\\\\n",
        "0 & 0 & 0 & 1  & | & -19 \\\\\n",
        "0 & 1 & 2 & -2 & | & 22 \\\\\n",
        "0 & -1 & -4 & 5  & | & -67\n",
        "\\end{bmatrix}\n",
        "$\n",
        "\n",
        "\n",
        "\n",
        "1.\n",
        "   $\n",
        "   R_3 \\rightarrow R_3 + R_2: \\quad [0, 1, 2, -2 | 22] + [0, 0, 0, 1 | -19] = [0, 1, 2, -1 | 3]\n",
        "   $\n",
        "\n",
        "2.\n",
        "   $\n",
        "   R_4 \\rightarrow R_4 + R_2: \\quad [0, -1, -4, 5 | -67] + [0, 0, 0, 1 | -19] = [0, -1, -4, 6 | -86]\n",
        "   $\n",
        "\n",
        "\n",
        "\n",
        "$\n",
        "\\begin{bmatrix}\n",
        "1 & 1 & 1 & -1 & | & 22 \\\\\n",
        "0 & 0 & 0 & 1  & | & -19 \\\\\n",
        "0 & 1 & 2 & -1 & | & 3 \\\\\n",
        "0 & -1 & -4 & 6  & | & -86\n",
        "\\end{bmatrix}\n",
        "$\n",
        "\n",
        "\n",
        "\n",
        "1.\n",
        "   $\n",
        "   R_4 \\rightarrow R_4 + R_3: \\quad [0, -1, -4, 6 | -86] + [0, 1, 2, -1 | 3] = [0, 0, -2, 5 | -83]\n",
        "   $\n",
        "\n",
        "\n",
        "\n",
        "\n",
        "\\begin{bmatrix}\n",
        "1 & 1 & 1 & -1 & | & 22 \\\\\n",
        "0 & 0 & 0 & 1  & | & -19 \\\\\n",
        "0 & 1 & 2 & -1 & | & 3 \\\\\n",
        "0 & 0 & -2 & 5  & | & -83\n",
        "\\end{bmatrix}\n",
        "\\]\n",
        "\n",
        "\n",
        "\n",
        "\n",
        "\n",
        "$\n",
        "\\begin{aligned}\n",
        "1. \\quad & x + y + z - t = 22 \\\\\n",
        "2. \\quad & t = -19 \\\\\n",
        "3. \\quad & y + 2z - t = 3 \\\\\n",
        "4. \\quad & -2z + 5t = -83\n",
        "\\end{aligned}\n",
        "$\n",
        "\n",
        "\n",
        "\n",
        "From row 2:\n",
        "$\n",
        "t = -19\n",
        "$\n",
        "\n",
        "\n",
        "\n",
        "Substitute \\( t = -19 \\) into row 4:\n",
        "$\n",
        "-2z + 5(-19) = -83\n",
        "$\n",
        "$\n",
        "-2z - 95 = -83\n",
        "$\n",
        "$\n",
        "-2z = 12\n",
        "$\n",
        "$\n",
        "z = -6\n",
        "$\n",
        "\n",
        "\n",
        "\n",
        "Substitute \\( t = -19 \\) and \\( z = -6 \\) into row 3:\n",
        "$\n",
        "y + 2(-6) - (-19) = 3\n",
        "$\n",
        "$\n",
        "y - 12 + 19 = 3\n",
        "$\n",
        "$\n",
        "y + 7 = 3\n",
        "$\n",
        "$\n",
        "y = -4\n",
        "$\n",
        "\n",
        "\n",
        "\n",
        "Substitute \\( y = -4 \\), \\( z = -6 \\), and \\( t = -19 \\) into row 1:\n",
        "$\n",
        "x + (-4) + (-6) - (-19) = 22\n",
        "$\n",
        "$\n",
        "x - 10 + 19 = 22\n",
        "$\n",
        "$\n",
        "x + 9 = 22\n",
        "$\n",
        "$\n",
        "x = 13\n",
        "$\n",
        "\n",
        "\n",
        "\n",
        "$\n",
        "\\boxed{x = 13, \\, y = -4, \\, z = -6, \\, t = -19}\n",
        "$\n",
        "\n"
      ],
      "metadata": {
        "id": "qln60RacYe5H"
      }
    },
    {
      "cell_type": "code",
      "source": [
        "from sympy import Matrix, symbols, Eq, linsolve # Import linsolve\n",
        "\n",
        "# Define the matrix and free terms\n",
        "matrix = Matrix([[1, 1, 1, -1], [2, 1, 1, 0], [-1, 0, 1, -1], [3, 2, -1, 2]])\n",
        "free_terms = Matrix([2, 3, 0, -1])\n",
        "column_labels = [\"x\", \"y\", \"z\", \"t\"]\n",
        "symbols_list = symbols(column_labels)  # Create symbols for variables\n",
        "\n",
        "# Solve the system using linsolve\n",
        "solution = linsolve((matrix, free_terms), symbols_list)\n",
        "\n",
        "# Print the solution\n",
        "print(solution)\n",
        "\n",
        "# Display the equations\n",
        "# The original code had an off-by-one error in the loop range.\n",
        "# It should iterate from 0 to 3, not 0 to 4.\n",
        "# Changed 'len(matrix)' to 'matrix.rows' for clarity and to explicitly iterate over rows\n",
        "for i in range(matrix.rows):\n",
        "    equation = Eq(sum(matrix[i, j] * symbols_list[j] for j in range(len(symbols_list))), free_terms[i])\n",
        "    print(f\"Equation {i + 1}: {equation}\")"
      ],
      "metadata": {
        "id": "JvvDyzs8JRMK",
        "outputId": "e0196bf8-7f80-4084-9136-b1ed58063a77",
        "colab": {
          "base_uri": "https://localhost:8080/"
        }
      },
      "execution_count": 6,
      "outputs": [
        {
          "output_type": "stream",
          "name": "stdout",
          "text": [
            "{(2, -2, 1, -1)}\n",
            "Equation 1: Eq(-t + x + y + z, 2)\n",
            "Equation 2: Eq(2*x + y + z, 3)\n",
            "Equation 3: Eq(-t - x + z, 0)\n",
            "Equation 4: Eq(2*t + 3*x + 2*y - z, -1)\n"
          ]
        }
      ]
    },
    {
      "cell_type": "markdown",
      "metadata": {
        "id": "VlYEsAgRE-IC"
      },
      "source": []
    },
    {
      "cell_type": "markdown",
      "metadata": {
        "id": "upS9yfRGE-IC"
      },
      "source": []
    },
    {
      "cell_type": "markdown",
      "metadata": {
        "id": "vTHwsbgSE-IC"
      },
      "source": []
    }
  ],
  "metadata": {
    "kernelspec": {
      "display_name": ".venv",
      "language": "python",
      "name": "python3"
    },
    "language_info": {
      "codemirror_mode": {
        "name": "ipython",
        "version": 3
      },
      "file_extension": ".py",
      "mimetype": "text/x-python",
      "name": "python",
      "nbconvert_exporter": "python",
      "pygments_lexer": "ipython3",
      "version": "3.11.9"
    },
    "colab": {
      "provenance": [],
      "include_colab_link": true
    }
  },
  "nbformat": 4,
  "nbformat_minor": 0
}