{
  "cells": [
    {
      "cell_type": "markdown",
      "metadata": {
        "id": "rJF6_LHtG4cP"
      },
      "source": [
        "# Introduction to Jupyter Notebook\n",
        "\n",
        "**Jupyter Notebook** is an interactive programming environment that allows you to create and share documents containing code, equations, visualizations, and text. It is a tool for creating reports, presentations, as well as learning programming.\n",
        "\n",
        "Larger portions of text in Jupyter Notebook are written in **Markdown**, which allows for formatting. Below, we'll see some examples of text formatting in [Markdown](https://www.markdownguide.org/cheat-sheet/) (more examples: [here](https://quarto.org/docs/authoring/markdown-basics.html) and [here](https://markdown-it.github.io/)). Mathematical formulas can be introduced using [LaTeX](https://tilburgsciencehub.com/topics/research-skills/templates-dynamic-content/templates/amsmath-latex-cheatsheet/).\n",
        "Remember, you can always ask AI for Markdown or LaTeX syntax!\n",
        "\n",
        "Mathematical calculations can be performed using **Python**. Python's syntax is clear and intuitive, allowing for quick script and program creation. In **Jupyter Notebook** (.ipynb), you can run Python code in code cells.\n",
        "\n",
        "**Colab** is a Google-hosted Jupyter Notebook service that requires no setup and provides free access to computing resources, including GPUs. Colab is particularly well-suited for machine learning, data science, and education.\n",
        "\n",
        "Using AI tools such as [ChatGPT](https://openai.com/chatgpt), [Gemini](https://www.google.com/search?q=gemini+AI), [Claude](https://www.anthropic.com/claude), can greatly facilitate learning math in academic courses. These language models offer quick answers, explanations of difficult concepts, and help with solving problems, enabling interactive learning at any time.\n",
        "\n",
        "## Introduction to Markdown\n",
        "\n",
        "* \"# First Level Heading\"\n",
        "* \"## Second Level Heading\"\n",
        "* \"### Third Level Heading\"\n",
        "\n",
        "This is **bold** text, and this is *italic*. You can also combine both styles like **_bold italic_**.\n",
        "\n",
        "You can insert lists:\n",
        "- Item 1\n",
        "- Item 2\n",
        "  - Sub-item 1\n",
        "  - Sub-item 2\n",
        "\n",
        "Or numbered lists:\n",
        "1. First step\n",
        "2. Second step\n",
        "3. Third step\n",
        "\n",
        "Insert a link: [Visit Google](https://www.google.com)\n",
        "\n",
        "Insert an image:  \n",
        "![Example Image](https://www.mediawiki.org/static/images/icons/mediawikiwiki.svg)\n",
        "\n",
        "Insert an inline code snippet: `print(\"Hello World!\")`\n",
        "\n",
        "Insert a code block:\n",
        "\n",
        "```python\n",
        "def function():\n",
        "    print(\"This is a block of Python code.\")\n",
        "```\n",
        "\n",
        "Mathematical equations in LaTeX:\n",
        "\n",
        "Inline equation: $e^{i\\pi} + 1 = 0$\n",
        "\n",
        "Displayed equation:\n",
        "\n",
        "$$e^{i\\pi} + 1 = 0$$\n",
        "\n",
        "## Introduction to Mathematics in Jupyter Notebooks\n",
        "\n",
        "### Numerical Mathematical Calculations\n",
        "\n",
        "#### Python Standard Math Library"
      ]
    },
    {
      "cell_type": "code",
      "execution_count": 4,
      "metadata": {
        "colab": {
          "base_uri": "https://localhost:8080/"
        },
        "id": "ZM-io9s_G4cR",
        "outputId": "7fe23e79-02f3-4166-b209-436dbc89774b"
      },
      "outputs": [
        {
          "output_type": "execute_result",
          "data": {
            "text/plain": [
              "(1024, 1267650600228229401496703205376)"
            ]
          },
          "metadata": {},
          "execution_count": 4
        }
      ],
      "source": [
        "# Python as a calculator\n",
        "2**10, 2**100"
      ]
    },
    {
      "cell_type": "code",
      "execution_count": 7,
      "metadata": {
        "colab": {
          "base_uri": "https://localhost:8080/"
        },
        "id": "VL4BfKawG4cS",
        "outputId": "2a314d7a-eadd-44ce-da77-e1e6d72f0a97"
      },
      "outputs": [
        {
          "output_type": "stream",
          "name": "stdout",
          "text": [
            "1.2246467991473532e-16\n",
            "1.0\n",
            "1.4142135623730951\n"
          ]
        }
      ],
      "source": [
        "# To calculate more complex expressions, you need additional modules (math, numpy, sympy)\n",
        "\n",
        "import math # math module\n",
        "\n",
        "# Return sine\n",
        "print(math.sin(math.pi))\n",
        "print(math.sin(math.pi/2))\n",
        "print(math.sqrt(2))"
      ]
    },
    {
      "cell_type": "code",
      "source": [
        "math.cos(math.pi/4)"
      ],
      "metadata": {
        "colab": {
          "base_uri": "https://localhost:8080/"
        },
        "id": "avyXr04AMAUg",
        "outputId": "0a1ec1d6-b31e-4844-bd06-a0de920b0141"
      },
      "execution_count": 9,
      "outputs": [
        {
          "output_type": "execute_result",
          "data": {
            "text/plain": [
              "0.7071067811865476"
            ]
          },
          "metadata": {},
          "execution_count": 9
        }
      ]
    },
    {
      "cell_type": "code",
      "execution_count": 10,
      "metadata": {
        "colab": {
          "base_uri": "https://localhost:8080/"
        },
        "id": "dvzCaMRxG4cS",
        "outputId": "c3fb35c8-b188-43a3-f023-8edc2f51a1aa"
      },
      "outputs": [
        {
          "output_type": "stream",
          "name": "stdout",
          "text": [
            "Square root of 2 is 1.4142135623730951\n",
            "Sine of 30 degrees is 0.49999999999999994\n"
          ]
        }
      ],
      "source": [
        "# Presenting results\n",
        "import math # math module\n",
        "print(f\"Square root of 2 is {math.sqrt(2)}\")\n",
        "print(f\"Sine of 30 degrees is {math.sin(math.radians(30))}\")"
      ]
    },
    {
      "cell_type": "markdown",
      "metadata": {
        "id": "jJzbENz-G4cS"
      },
      "source": [
        "#### Numerical Python (NumPy)\n",
        "\n",
        "For more demanding, efficient, and accurate calculations, we use the NumPy library"
      ]
    },
    {
      "cell_type": "code",
      "execution_count": 11,
      "metadata": {
        "colab": {
          "base_uri": "https://localhost:8080/"
        },
        "id": "O0I-YNjCG4cS",
        "outputId": "4d1276ed-812e-462a-9e11-121ad21b568a"
      },
      "outputs": [
        {
          "output_type": "stream",
          "name": "stdout",
          "text": [
            "Sine of 30 degrees is 0.49999999999999994\n",
            "Log base 10 of 2 is 0.3010299956639812\n",
            "Norm of vector [1,1,1,1,1] is 2.23606797749979\n"
          ]
        }
      ],
      "source": [
        "import numpy as np # Numerical Python module\n",
        "print(f\"Sine of 30 degrees is {np.sin(np.radians(30))}\")\n",
        "print(f\"Log base 10 of 2 is {np.log10(2)}\")\n",
        "print(f\"Norm of vector [1,1,1,1,1] is {np.linalg.norm([1, 1, 1, 1, 1])}\")"
      ]
    },
    {
      "cell_type": "code",
      "execution_count": 12,
      "metadata": {
        "colab": {
          "base_uri": "https://localhost:8080/"
        },
        "id": "GPlM3PihG4cS",
        "outputId": "8eae9ba2-b34e-4d52-8df8-be229e23363d"
      },
      "outputs": [
        {
          "output_type": "stream",
          "name": "stdout",
          "text": [
            "Determinant of matrix A is -2.0000000000000004\n"
          ]
        }
      ],
      "source": [
        "# Determinant of a matrix\n",
        "A = np.array([[1, 2], [3, 4]])\n",
        "print(f\"Determinant of matrix A is {np.linalg.det(A)}\")"
      ]
    },
    {
      "cell_type": "code",
      "execution_count": 13,
      "metadata": {
        "colab": {
          "base_uri": "https://localhost:8080/"
        },
        "id": "y1YF_1sXG4cS",
        "outputId": "126721d5-4a9d-4eb2-a4ad-616cd0954a5f"
      },
      "outputs": [
        {
          "output_type": "stream",
          "name": "stdout",
          "text": [
            "Solution to system Ax=b is x=[-3.  4.]\n"
          ]
        }
      ],
      "source": [
        "# Solving systems of equations\n",
        "b = np.array([5, 7])\n",
        "x = np.linalg.solve(A, b)\n",
        "print(f\"Solution to system Ax=b is x={x}\")"
      ]
    },
    {
      "cell_type": "code",
      "execution_count": null,
      "metadata": {
        "id": "G1Ar7BsMG4cT"
      },
      "outputs": [],
      "source": [
        "# Unfortunately, numerical solutions are always approximations, not exact solutions.\n",
        "print(f\"{1/3:.30f}\")"
      ]
    },
    {
      "cell_type": "markdown",
      "metadata": {
        "id": "aPD_mz0oG4cT"
      },
      "source": [
        "#### Symbolic Mathematical Calculations\n",
        "\n",
        "SymPy is a Python library for symbolic calculations, allowing for manipulation of mathematical symbols such as variables, equations, functions, derivatives, integrals, limits, and matrices."
      ]
    },
    {
      "cell_type": "code",
      "execution_count": 14,
      "metadata": {
        "id": "x3Wg6vMIG4cT"
      },
      "outputs": [],
      "source": [
        "# Python allows symbolic calculations\n",
        "import sympy as sp\n",
        "x, y, z = sp.symbols('x y z') # declare variables\n",
        "f, g = sp.symbols('f g', cls=sp.Function) # declare functions"
      ]
    },
    {
      "cell_type": "code",
      "execution_count": 15,
      "metadata": {
        "colab": {
          "base_uri": "https://localhost:8080/",
          "height": 51
        },
        "id": "B_AuCXM4G4cT",
        "outputId": "380807b9-f27e-418e-e9f2-de71c2fdf914"
      },
      "outputs": [
        {
          "output_type": "execute_result",
          "data": {
            "text/plain": [
              "1/2"
            ],
            "text/latex": "$\\displaystyle \\frac{1}{2}$"
          },
          "metadata": {},
          "execution_count": 15
        }
      ],
      "source": [
        "# Sine of 30 degrees\n",
        "sp.sin(sp.rad(30)) # exact result 1/2"
      ]
    },
    {
      "cell_type": "code",
      "source": [
        "sp.Rational(1,3)+sp.Rational(1,3)"
      ],
      "metadata": {
        "id": "VwOpX-9sO7Fp",
        "outputId": "99e70769-b19b-4726-ca23-7b12686ca54a",
        "colab": {
          "base_uri": "https://localhost:8080/",
          "height": 51
        }
      },
      "execution_count": 20,
      "outputs": [
        {
          "output_type": "execute_result",
          "data": {
            "text/plain": [
              "2/3"
            ],
            "text/latex": "$\\displaystyle \\frac{2}{3}$"
          },
          "metadata": {},
          "execution_count": 20
        }
      ]
    },
    {
      "cell_type": "code",
      "execution_count": 23,
      "metadata": {
        "colab": {
          "base_uri": "https://localhost:8080/",
          "height": 37
        },
        "id": "VIOxICoqG4cT",
        "outputId": "0bb5014e-6f2e-47b9-a415-da625b49d92d"
      },
      "outputs": [
        {
          "output_type": "execute_result",
          "data": {
            "text/plain": [
              "1"
            ],
            "text/latex": "$\\displaystyle 1$"
          },
          "metadata": {},
          "execution_count": 23
        }
      ],
      "source": [
        "# Natural logarithm of e\n",
        "sp.log(sp.E)"
      ]
    },
    {
      "cell_type": "code",
      "execution_count": 24,
      "metadata": {
        "colab": {
          "base_uri": "https://localhost:8080/",
          "height": 38
        },
        "id": "JmPw3-ocG4cT",
        "outputId": "f7e5b5b1-0eeb-4caf-b164-3176b80854b6"
      },
      "outputs": [
        {
          "output_type": "execute_result",
          "data": {
            "text/plain": [
              "sqrt(5)"
            ],
            "text/latex": "$\\displaystyle \\sqrt{5}$"
          },
          "metadata": {},
          "execution_count": 24
        }
      ],
      "source": [
        "# Norm of vector [1,1,1,1,1]\n",
        "v = sp.Matrix([1, 1, 1, 1, 1])\n",
        "v.norm()"
      ]
    },
    {
      "cell_type": "code",
      "execution_count": 25,
      "metadata": {
        "id": "RoU47R25G4cT"
      },
      "outputs": [],
      "source": [
        "f = f(x)"
      ]
    },
    {
      "cell_type": "code",
      "execution_count": 26,
      "metadata": {
        "colab": {
          "base_uri": "https://localhost:8080/",
          "height": 39
        },
        "id": "M7FuG6xRG4cU",
        "outputId": "5d56229b-0216-41d4-d92d-2a943d77b73a"
      },
      "outputs": [
        {
          "output_type": "execute_result",
          "data": {
            "text/plain": [
              "x + y"
            ],
            "text/latex": "$\\displaystyle x + y$"
          },
          "metadata": {},
          "execution_count": 26
        }
      ],
      "source": [
        "x + y # operations on variables"
      ]
    },
    {
      "cell_type": "code",
      "execution_count": 27,
      "metadata": {
        "colab": {
          "base_uri": "https://localhost:8080/",
          "height": 39
        },
        "id": "FLdC-tHhG4cU",
        "outputId": "98e440e7-09b5-4d1a-cff3-281628edf73b"
      },
      "outputs": [
        {
          "output_type": "execute_result",
          "data": {
            "text/plain": [
              "x**2 - 2*x*y + y**2"
            ],
            "text/latex": "$\\displaystyle x^{2} - 2 x y + y^{2}$"
          },
          "metadata": {},
          "execution_count": 27
        }
      ],
      "source": [
        "eq1 = ((x - y)**2).expand() # expand expression\n",
        "eq1"
      ]
    },
    {
      "cell_type": "code",
      "execution_count": 28,
      "metadata": {
        "colab": {
          "base_uri": "https://localhost:8080/",
          "height": 39
        },
        "id": "E48Vl0ajG4cU",
        "outputId": "719605a5-f969-464d-bf80-bf6c7de2c2ed"
      },
      "outputs": [
        {
          "output_type": "execute_result",
          "data": {
            "text/plain": [
              "y**2 - 2*y + 1"
            ],
            "text/latex": "$\\displaystyle y^{2} - 2 y + 1$"
          },
          "metadata": {},
          "execution_count": 28
        }
      ],
      "source": [
        "eq2 = eq1.subs(x, 1) # substitute value\n",
        "eq2"
      ]
    },
    {
      "cell_type": "code",
      "execution_count": 29,
      "metadata": {
        "colab": {
          "base_uri": "https://localhost:8080/",
          "height": 37
        },
        "id": "DmSchTzXG4cU",
        "outputId": "4476223a-9f61-4bec-c6af-4680a93f4eaa"
      },
      "outputs": [
        {
          "output_type": "execute_result",
          "data": {
            "text/plain": [
              "{1}"
            ],
            "text/latex": "$\\displaystyle \\left\\{1\\right\\}$"
          },
          "metadata": {},
          "execution_count": 29
        }
      ],
      "source": [
        "# solution of eq2\n",
        "sol = sp.solveset(eq2, y)\n",
        "sol"
      ]
    },
    {
      "cell_type": "code",
      "execution_count": 30,
      "metadata": {
        "colab": {
          "base_uri": "https://localhost:8080/",
          "height": 39
        },
        "id": "8AB-qnYhG4cU",
        "outputId": "de129926-9e49-4399-b1ca-1e01f4817cec"
      },
      "outputs": [
        {
          "output_type": "execute_result",
          "data": {
            "text/plain": [
              "cos(x)"
            ],
            "text/latex": "$\\displaystyle \\cos{\\left(x \\right)}$"
          },
          "metadata": {},
          "execution_count": 30
        }
      ],
      "source": [
        "# differentiation\n",
        "f = sp.sin(x)\n",
        "sp.diff(f, x)"
      ]
    },
    {
      "cell_type": "code",
      "execution_count": 36,
      "metadata": {
        "colab": {
          "base_uri": "https://localhost:8080/",
          "height": 47
        },
        "id": "Zx-UTUu2G4cU",
        "outputId": "35c362fc-9a44-4580-b815-92960af24957"
      },
      "outputs": [
        {
          "output_type": "execute_result",
          "data": {
            "text/plain": [
              "sin(x**cos(x))"
            ],
            "text/latex": "$\\displaystyle \\sin{\\left(x^{\\cos{\\left(x \\right)}} \\right)}$"
          },
          "metadata": {},
          "execution_count": 36
        }
      ],
      "source": [
        "# more complex expressions\n",
        "f = sp.sin(x**sp.cos(x))\n",
        "f"
      ]
    },
    {
      "cell_type": "code",
      "source": [
        "sp.plot(f)"
      ],
      "metadata": {
        "id": "FGguEQkEQvVp",
        "outputId": "b229cf99-d9b6-4494-b1f4-f23d78ecf466",
        "colab": {
          "base_uri": "https://localhost:8080/",
          "height": 504
        }
      },
      "execution_count": 37,
      "outputs": [
        {
          "output_type": "display_data",
          "data": {
            "text/plain": [
              "<Figure size 640x480 with 1 Axes>"
            ],
            "image/png": "[encoded data removed]"
          },
          "metadata": {}
        },
        {
          "output_type": "execute_result",
          "data": {
            "text/plain": [
              "<sympy.plotting.backends.matplotlibbackend.matplotlib.MatplotlibBackend at 0x79bbf3f11570>"
            ]
          },
          "metadata": {},
          "execution_count": 37
        }
      ]
    },
    {
      "cell_type": "code",
      "execution_count": 32,
      "metadata": {
        "colab": {
          "base_uri": "https://localhost:8080/",
          "height": 58
        },
        "id": "i2pxNtLFG4cU",
        "outputId": "19b8fbf8-859c-46db-d280-4bfb4df140e3"
      },
      "outputs": [
        {
          "output_type": "execute_result",
          "data": {
            "text/plain": [
              "x**cos(x)*(-log(x)*sin(x) + cos(x)/x)*cos(x**cos(x))"
            ],
            "text/latex": "$\\displaystyle x^{\\cos{\\left(x \\right)}} \\left(- \\log{\\left(x \\right)} \\sin{\\left(x \\right)} + \\frac{\\cos{\\left(x \\right)}}{x}\\right) \\cos{\\left(x^{\\cos{\\left(x \\right)}} \\right)}$"
          },
          "metadata": {},
          "execution_count": 32
        }
      ],
      "source": [
        "f.diff(x)"
      ]
    },
    {
      "cell_type": "code",
      "execution_count": 33,
      "metadata": {
        "colab": {
          "base_uri": "https://localhost:8080/",
          "height": 55
        },
        "id": "Ns4ijfJJG4cU",
        "outputId": "b0aea316-d33f-4d34-af4a-5d0dbd20a875"
      },
      "outputs": [
        {
          "output_type": "execute_result",
          "data": {
            "text/plain": [
              "x*sin(x)**2/4 - x*cos(x)**2/4 + sin(x)*cos(x)/4"
            ],
            "text/latex": "$\\displaystyle \\frac{x \\sin^{2}{\\left(x \\right)}}{4} - \\frac{x \\cos^{2}{\\left(x \\right)}}{4} + \\frac{\\sin{\\left(x \\right)} \\cos{\\left(x \\right)}}{4}$"
          },
          "metadata": {},
          "execution_count": 33
        }
      ],
      "source": [
        "# integration\n",
        "f = sp.sin(x) * sp.cos(x) * x\n",
        "f.integrate(x)"
      ]
    },
    {
      "cell_type": "code",
      "execution_count": 34,
      "metadata": {
        "colab": {
          "base_uri": "https://localhost:8080/",
          "height": 484
        },
        "id": "V_bSAT4qG4cU",
        "outputId": "55235f4a-4eef-4da0-8502-8d1f7ffe3754"
      },
      "outputs": [
        {
          "output_type": "display_data",
          "data": {
            "text/plain": [
              "<Figure size 640x480 with 1 Axes>"
            ],
            "image/png": "[encoded data removed]"
          },
          "metadata": {}
        }
      ],
      "source": [
        "# plot of a parabola\n",
        "f = x**2\n",
        "sp.plot(f);"
      ]
    },
    {
      "cell_type": "code",
      "execution_count": null,
      "metadata": {
        "id": "ooQSrSKJG4cU"
      },
      "outputs": [],
      "source": [
        "sp.integrate(x**2, x)"
      ]
    }
  ],
  "metadata": {
    "kernelspec": {
      "display_name": "Python 3 (ipykernel)",
      "language": "python",
      "name": "python3",
      "path": "/media/dch/Disk2/Vizja/Math-2024-25-Winter/.venv/share/jupyter/kernels/python3"
    },
    "colab": {
      "provenance": []
    }
  },
  "nbformat": 4,
  "nbformat_minor": 0
}