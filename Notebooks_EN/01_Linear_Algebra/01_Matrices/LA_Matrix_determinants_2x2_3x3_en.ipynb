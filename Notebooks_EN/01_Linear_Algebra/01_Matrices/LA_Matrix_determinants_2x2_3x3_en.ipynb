{
  "cells": [
    {
      "cell_type": "markdown",
      "metadata": {
        "id": "eN_cBoFrPzPx"
      },
      "source": [
        "# Determinants of 2x2 and 3x3 matrices\n",
        "\n",
        "### Determinant of a 2x2 Matrix\n",
        "\n",
        "The general formula for the determinant of a 2x2 matrix, where the matrix looks as follows:\n",
        "\n",
        "$$\n",
        "\\mathbf{A} =\n",
        "\\begin{pmatrix}\n",
        "a_{11} & a_{12} \\\\\n",
        "a_{21} & a_{22}\n",
        "\\end{pmatrix}\n",
        "$$\n",
        "\n",
        "The determinant of a 2x2 matrix is calculated using the formula:\n",
        "\n",
        "$$\n",
        "\\text{det}(A) = a_{11} \\cdot a_{22} - a_{12} \\cdot a_{21}\n",
        "$$\n",
        "\n",
        "### Determinant of a 3x3 Matrix\n",
        "\n",
        "The general formula for the determinant of a 3x3 matrix, where the matrix looks as follows:\n",
        "\n",
        "$$\n",
        "\\mathbf{B} =\n",
        "\\begin{pmatrix}\n",
        "a_{11} & a_{12} & a_{13} \\\\\n",
        "a_{21} & a_{22} & a_{23} \\\\\n",
        "a_{31} & a_{32} & a_{33}\n",
        "\\end{pmatrix}\n",
        "$$\n",
        "\n",
        "The determinant of a 3x3 matrix can be calculated using Sarrus' rule or Laplace expansion. Here, we will use Sarrus' rule:\n",
        "\n",
        "$$\n",
        "\\text{det}(B) = a_{11} \\cdot a_{22} \\cdot a_{33} + a_{12} \\cdot a_{23} \\cdot a_{31} + a_{13} \\cdot a_{21} \\cdot a_{32}\n",
        "- a_{13} \\cdot a_{22} \\cdot a_{31} - a_{12} \\cdot a_{21} \\cdot a_{33} - a_{11} \\cdot a_{23} \\cdot a_{32}\n",
        "$$\n",
        "\n",
        "<img src=\"https://upload.wikimedia.org/wikipedia/commons/c/c0/Sarrus_rule1.svg\" alt=\"Image description\" width=\"300\" align=\"center\"/>\n",
        "\n",
        "Note: Sarrus' rule does not work for matrices larger than 3x3.\n",
        "\n",
        "### Calculating Determinants in Python using SymPy\n",
        "\n",
        "Now, using the SymPy library, we will calculate the determinants for 2x2 and 3x3 matrices."
      ]
    },
    {
      "cell_type": "code",
      "execution_count": null,
      "metadata": {
        "id": "Ir9vKtbsPzP0",
        "outputId": "163db54b-8c07-4ebd-b5e5-764ee902cc16"
      },
      "outputs": [
        {
          "data": {
            "text/latex": [
              "$\\displaystyle \\left[\\begin{matrix}2 & 3\\\\1 & 4\\end{matrix}\\right]$"
            ],
            "text/plain": [
              "Matrix([\n",
              "[2, 3],\n",
              "[1, 4]])"
            ]
          },
          "execution_count": 1,
          "metadata": {},
          "output_type": "execute_result"
        }
      ],
      "source": [
        "import sympy as sp\n",
        "\n",
        "# Define the matrix\n",
        "A = sp.Matrix([[2, 3], [1, 4]])\n",
        "A # display the matrix"
      ]
    },
    {
      "cell_type": "code",
      "execution_count": null,
      "metadata": {
        "notebookRunGroups": {
          "groupValue": "2"
        },
        "id": "IWZiGzK2PzP1",
        "outputId": "d5ba09b3-6814-4191-8fa6-8a59779d7432"
      },
      "outputs": [
        {
          "data": {
            "text/plain": [
              "True"
            ]
          },
          "execution_count": 2,
          "metadata": {},
          "output_type": "execute_result"
        }
      ],
      "source": [
        "# Verify the correctness of the calculations\n",
        "(2*4 - 3*1) == A.det()"
      ]
    },
    {
      "cell_type": "code",
      "execution_count": null,
      "metadata": {
        "id": "tlOyxKIVPzP1",
        "outputId": "3f38646b-8fbb-4137-fd99-e501c95be66c"
      },
      "outputs": [
        {
          "data": {
            "text/latex": [
              "$\\displaystyle \\left[\\begin{matrix}2 & 3 & 1\\\\1 & 4 & 5\\\\3 & 2 & 1\\end{matrix}\\right]$"
            ],
            "text/plain": [
              "Matrix([\n",
              "[2, 3, 1],\n",
              "[1, 4, 5],\n",
              "[3, 2, 1]])"
            ]
          },
          "execution_count": 3,
          "metadata": {},
          "output_type": "execute_result"
        }
      ],
      "source": [
        "# 3x3 Matrix\n",
        "B = sp.Matrix([[2, 3, 1], [1, 4, 5], [3, 2, 1]])\n",
        "B"
      ]
    },
    {
      "cell_type": "code",
      "execution_count": null,
      "metadata": {
        "id": "dujA9g_QPzP1",
        "outputId": "3be0c40c-bcb4-4ba6-d30d-44e71271adbd"
      },
      "outputs": [
        {
          "data": {
            "text/plain": [
              "True"
            ]
          },
          "execution_count": 4,
          "metadata": {},
          "output_type": "execute_result"
        }
      ],
      "source": [
        "# Verify the correctness of the calculations\n",
        "(2*4*1 + 3*5*3 + 1*1*2 - 1*4*3 - 5*2*2 - 3*1*1) == B.det()"
      ]
    },
    {
      "cell_type": "markdown",
      "metadata": {
        "id": "L3SKoIWrPzP2"
      },
      "source": [
        "---\n",
        "\n",
        "## Exercises for Students\n",
        "\n",
        "Calculate the determinants for the 2x2 and 3x3 matrices given below.\n",
        "\n",
        "1. 2x2 Matrices:\n",
        "\n",
        "$$\n",
        "\\mathbf{A} =\n",
        "\\begin{pmatrix}\n",
        "2 & 3 \\\\\n",
        "1 & 4\n",
        "\\end{pmatrix}\n",
        ", \\qquad\n",
        "\\mathbf{B} =\n",
        "\\begin{pmatrix}\n",
        "5 & 6 \\\\\n",
        "7 & 8\n",
        "\\end{pmatrix}\n",
        ", \\qquad\n",
        "\\mathbf{C} =\n",
        "\\begin{pmatrix}\n",
        "-1 & 2 \\\\\n",
        "3 & 0\n",
        "\\end{pmatrix}\n",
        "$$\n",
        "\n",
        "2. 3x3 Matrices:\n",
        "\n",
        "\n",
        "$$\n",
        "\\mathbf{D} =\n",
        "\\begin{pmatrix}\n",
        "1 & 0 & 2 \\\\\n",
        "-1 & 3 & 1 \\\\\n",
        "2 & 4 & -2\n",
        "\\end{pmatrix}\n",
        ", \\qquad\n",
        "\\mathbf{E} =\n",
        "\\begin{pmatrix}\n",
        "3 & 1 & -1 \\\\\n",
        "0 & 2 & 4 \\\\\n",
        "5 & 3 & 2\n",
        "\\end{pmatrix}\n",
        ", \\qquad\n",
        "\\mathbf{F} =\n",
        "\\begin{pmatrix}\n",
        "2 & -3 & 1 \\\\\n",
        "1 & 4 & -2 \\\\\n",
        "1 & 5 & 3\n",
        "\\end{pmatrix}\n",
        "$$"
      ]
    },
    {
      "cell_type": "markdown",
      "source": [
        "Let's perform a few operations on the matrices \\(D\\), \\(E\\), and \\(F\\). We can calculate the sum and product of these matrices and also find their determinants. Here’s a step-by-step solution for each operation.\n",
        "\n",
        "### 1. Matrix Addition\n",
        "\n",
        "To add the matrices \\(D\\), \\(E\\), and \\(F\\), we simply add the corresponding elements.\n",
        "\n",
        "\\[\n",
        "D + E + F = \\begin{pmatrix} 1 & -1 & 2 \\\\ 0 & 3 & 4 \\\\ 2 & 1 & -2 \\end{pmatrix} + \\begin{pmatrix} 3 & 0 & 5 \\\\ 1 & 2 & 3 \\\\ -1 & 4 & 2 \\end{pmatrix} + \\begin{pmatrix} 2 & 1 & 1 \\\\ -3 & 4 & 5 \\\\ 1 & -2 & 3 \\end{pmatrix}\n",
        "\\]\n",
        "\n",
        "Calculating element-wise:\n",
        "\n",
        "\\[\n",
        "= \\begin{pmatrix} 1 + 3 + 2 & -1 + 0 + 1 & 2 + 5 + 1 \\\\ 0 + 1 - 3 & 3 + 2 + 4 & 4 + 3 + 5 \\\\ 2 - 1 + 1 & 1 + 4 - 2 & -2 + 2 + 3 \\end{pmatrix}\n",
        "\\]\n",
        "\n",
        "\\[\n",
        "= \\begin{pmatrix} 6 & 0 & 8 \\\\ -2 & 9 & 12 \\\\ 2 & 3 & 3 \\end{pmatrix}\n",
        "\\]\n",
        "\n",
        "### 2. Matrix Multiplication\n",
        "\n",
        "Let’s multiply matrices \\(D\\) and \\(E\\):\n",
        "\n",
        "\\[\n",
        "D \\cdot E = \\begin{pmatrix} 1 & -1 & 2 \\\\ 0 & 3 & 4 \\\\ 2 & 1 & -2 \\end{pmatrix} \\cdot \\begin{pmatrix} 3 & 0 & 5 \\\\ 1 & 2 & 3 \\\\ -1 & 4 & 2 \\end{pmatrix}\n",
        "\\]\n",
        "\n",
        "Calculating the product:\n",
        "\n",
        "- For the element in the first row, first column:\n",
        "  \\[\n",
        "  1 \\cdot 3 + (-1) \\cdot 1 + 2 \\cdot (-1) = 3 - 1 - 2 = 0\n",
        "  \\]\n",
        "\n",
        "- For the first row, second column:\n",
        "  \\[\n",
        "  1 \\cdot 0 + (-1) \\cdot 2 + 2 \\cdot 4 = 0 - 2 + 8 = 6\n",
        "  \\]\n",
        "\n",
        "- For the first row, third column:\n",
        "  \\[\n",
        "  1 \\cdot 5 + (-1) \\cdot 3 + 2 \\cdot 2 = 5 - 3 + 4 = 6\n",
        "  \\]\n",
        "\n",
        "Continuing this way for the second and third rows, we get:\n",
        "\n",
        "\\[\n",
        "D \\cdot E = \\begin{pmatrix} 0 & 6 & 6 \\\\ 3 & 18 & 30 \\\\ 11 & 8 & 25 \\end{pmatrix}\n",
        "\\]\n",
        "\n",
        "### 3. Determinant Calculation\n",
        "\n",
        "Let's calculate the determinant of matrix \\(D\\):\n",
        "\n",
        "\\[\n",
        "D = \\begin{pmatrix} 1 & -1 & 2 \\\\ 0 & 3 & 4 \\\\ 2 & 1 & -2 \\end{pmatrix}\n",
        "\\]\n",
        "\n",
        "Using the formula for the determinant of a \\(3 \\times 3\\) matrix:\n",
        "\n",
        "\\[\n",
        "\\text{det}(D) = a(ei - fh) - b(di - fg) + c(dh - eg)\n",
        "\\]\n",
        "\n",
        "Where:\n",
        "- \\(a = 1\\), \\(b = -1\\), \\(c = 2\\)\n",
        "- \\(d = 0\\), \\(e = 3\\), \\(f = 4\\)\n",
        "- \\(g = 2\\), \\(h = 1\\), \\(i = -2\\)\n",
        "\n",
        "Calculating:\n",
        "\n",
        "\\[\n",
        "= 1 \\cdot (3 \\cdot (-2) - 4 \\cdot 1) - (-1) \\cdot (0 \\cdot (-2) - 4 \\cdot 2) + 2 \\cdot (0 \\cdot 1 - 3 \\cdot 2)\n",
        "\\]\n",
        "\n",
        "\\[\n",
        "= 1 \\cdot (-6 - 4) + 1 \\cdot (0 - 8) + 2 \\cdot (0 - 6)\n",
        "\\]\n",
        "\n",
        "\\[\n",
        "= -10 + 8 - 12 = -14\n",
        "\\]\n",
        "\n",
        "### Summary\n",
        "\n",
        "1. **Matrix Addition:**\n",
        "   \\[\n",
        "   D + E + F = \\begin{pmatrix} 6 & 0 & 8 \\\\ -2 & 9 & 12 \\\\ 2 & 3 & 3 \\end{pmatrix}\n",
        "   \\]\n",
        "\n",
        "2. **Matrix Multiplication ( \\(D \\cdot E\\) ):**\n",
        "   \\[\n",
        "   D \\cdot E = \\begin{pmatrix} 0 & 6 & 6 \\\\ 3 & 18 & 30 \\\\ 11 & 8 & 25 \\end{pmatrix}\n",
        "   \\]\n",
        "\n",
        "3. **Determinant of \\(D\\):**\n",
        "   \\[\n",
        "   \\text{det}(D) = -14\n",
        "   \\]\n",
        "\n",
        "If you need further calculations or other operations, let me know!"
      ],
      "metadata": {
        "id": "eLXKkWKZUmLY"
      }
    },
    {
      "cell_type": "code",
      "source": [
        "import sympy as sp\n",
        "\n",
        "# Define the matrices\n",
        "A = sp.Matrix([[2, 1], [3, 4]])\n",
        "B = sp.Matrix([[5, 7], [6, 8]])\n",
        "C = sp.Matrix([[-1, 3], [2, 0]])\n",
        "\n",
        "# Calculate the determinants\n",
        "det_A = A.det()\n",
        "det_B = B.det()\n",
        "det_C = C.det()\n",
        "\n",
        "# Print the determinants\n",
        "print(\"Determinant of A:\", det_A)\n",
        "print(\"Determinant of B:\", det_B)\n",
        "print(\"Determinant of C:\", det_C)"
      ],
      "metadata": {
        "id": "KQEKxygWP7Oe"
      },
      "execution_count": null,
      "outputs": []
    },
    {
      "cell_type": "markdown",
      "source": [
        "Let’s perform some operations with the matrices \\(D\\), \\(E\\), and \\(F\\):\n",
        "\n",
        "\\[\n",
        "D = \\begin{pmatrix} 1 & -1 & 2 \\\\ 0 & 3 & 4 \\\\ 2 & 1 & -2 \\end{pmatrix}, \\quad E = \\begin{pmatrix} 3 & 0 & 5 \\\\ 1 & 2 & 3 \\\\ -1 & 4 & 2 \\end{pmatrix}, \\quad F = \\begin{pmatrix} 2 & 1 & 1 \\\\ -3 & 4 & 5 \\\\ 1 & -2 & 3 \\end{pmatrix}\n",
        "\\]\n",
        "\n",
        "### 1. Matrix Addition\n",
        "\n",
        "We will calculate \\(D + E + F\\):\n",
        "\n",
        "\\[\n",
        "D + E + F = \\begin{pmatrix} 1 & -1 & 2 \\\\ 0 & 3 & 4 \\\\ 2 & 1 & -2 \\end{pmatrix} + \\begin{pmatrix} 3 & 0 & 5 \\\\ 1 & 2 & 3 \\\\ -1 & 4 & 2 \\end{pmatrix} + \\begin{pmatrix} 2 & 1 & 1 \\\\ -3 & 4 & 5 \\\\ 1 & -2 & 3 \\end{pmatrix}\n",
        "\\]\n",
        "\n",
        "Calculating element-wise:\n",
        "\n",
        "\\[\n",
        "= \\begin{pmatrix}\n",
        "1 + 3 + 2 & -1 + 0 + 1 & 2 + 5 + 1 \\\\\n",
        "0 + 1 - 3 & 3 + 2 + 4 & 4 + 3 + 5 \\\\\n",
        "2 - 1 + 1 & 1 + 4 - 2 & -2 + 2 + 3\n",
        "\\end{pmatrix}\n",
        "\\]\n",
        "\n",
        "\\[\n",
        "= \\begin{pmatrix}\n",
        "6 & 0 & 8 \\\\\n",
        "-2 & 9 & 12 \\\\\n",
        "2 & 3 & 3\n",
        "\\end{pmatrix}\n",
        "\\]\n",
        "\n",
        "### 2. Matrix Multiplication\n",
        "\n",
        "Next, we will multiply \\(D\\) and \\(E\\):\n",
        "\n",
        "\\[\n",
        "D \\cdot E = \\begin{pmatrix} 1 & -1 & 2 \\\\ 0 & 3 & 4 \\\\ 2 & 1 & -2 \\end{pmatrix} \\cdot \\begin{pmatrix} 3 & 0 & 5 \\\\ 1 & 2 & 3 \\\\ -1 & 4 & 2 \\end{pmatrix}\n",
        "\\]\n",
        "\n",
        "Calculating the product:\n",
        "\n",
        "- First row:\n",
        "  - \\(1 \\cdot 3 + (-1) \\cdot 1 + 2 \\cdot (-1) = 3 - 1 - 2 = 0\\)\n",
        "  - \\(1 \\cdot 0 + (-1) \\cdot 2 + 2 \\cdot 4 = 0 - 2 + 8 = 6\\)\n",
        "  - \\(1 \\cdot 5 + (-1) \\cdot 3 + 2 \\cdot 2 = 5 - 3 + 4 = 6\\)\n",
        "\n",
        "- Second row:\n",
        "  - \\(0 \\cdot 3 + 3 \\cdot 1 + 4 \\cdot (-1) = 0 + 3 - 4 = -1\\)\n",
        "  - \\(0 \\cdot 0 + 3 \\cdot 2 + 4 \\cdot 4 = 0 + 6 + 16 = 22\\)\n",
        "  - \\(0 \\cdot 5 + 3 \\cdot 3 + 4 \\cdot 2 = 0 + 9 + 8 = 17\\)\n",
        "\n",
        "- Third row:\n",
        "  - \\(2 \\cdot 3 + 1 \\cdot 1 + (-2) \\cdot (-1) = 6 + 1 + 2 = 9\\)\n",
        "  - \\(2 \\cdot 0 + 1 \\cdot 2 + (-2) \\cdot 4 = 0 + 2 - 8 = -6\\)\n",
        "  - \\(2 \\cdot 5 + 1 \\cdot 3 + (-2) \\cdot 2 = 10 + 3 - 4 = 9\\)\n",
        "\n",
        "Putting it together:\n",
        "\n",
        "\\[\n",
        "D \\cdot E = \\begin{pmatrix}\n",
        "0 & 6 & 6 \\\\\n",
        "-1 & 22 & 17 \\\\\n",
        "9 & -6 & 9\n",
        "\\end{pmatrix}\n",
        "\\]\n",
        "\n",
        "### 3. Determinant Calculation\n",
        "\n",
        "Let's calculate the determinant of matrix \\(D\\):\n",
        "\n",
        "\\[\n",
        "\\text{det}(D) = 1 \\cdot \\begin{vmatrix} 3 & 4 \\\\ 1 & -2 \\end{vmatrix} - (-1) \\cdot \\begin{vmatrix} 0 & 4 \\\\ 2 & -2 \\end{vmatrix} + 2 \\cdot \\begin{vmatrix} 0 & 3 \\\\ 2 & 1 \\end{vmatrix}\n",
        "\\]\n",
        "\n",
        "Calculating the minors:\n",
        "\n",
        "1. \\(\\begin{vmatrix} 3 & 4 \\\\ 1 & -2 \\end{vmatrix} = 3 \\cdot (-2) - 4 \\cdot 1 = -6 - 4 = -10\\)\n",
        "2. \\(\\begin{vmatrix} 0 & 4 \\\\ 2 & -2 \\end{vmatrix} = 0 \\cdot (-2) - 4 \\cdot 2 = 0 - 8 = -8\\)\n",
        "3. \\(\\begin{vmatrix} 0 & 3 \\\\ 2 & 1 \\end{vmatrix} = 0 \\cdot 1 - 3 \\cdot 2 = 0 - 6 = -6\\)\n",
        "\n",
        "Putting these into the determinant formula:\n",
        "\n",
        "\\[\n",
        "\\text{det}(D) = 1 \\cdot (-10) + 1 \\cdot (-8) + 2 \\cdot (-6) = -10 - 8 - 12 = -30\n",
        "\\]\n",
        "\n",
        "### Summary of Results\n",
        "\n",
        "1. **Matrix Addition:**\n",
        "   \\[\n",
        "   D + E + F = \\begin{pmatrix} 6 & 0 & 8 \\\\ -2 & 9 & 12 \\\\ 2 & 3 & 3 \\end{pmatrix}\n",
        "   \\]\n",
        "\n",
        "2. **Matrix Multiplication (\\(D \\cdot E\\)):**\n",
        "   \\[\n",
        "   D \\cdot E = \\begin{pmatrix} 0 & 6 & 6 \\\\ -1 & 22 & 17 \\\\ 9 & -6 & 9 \\end{pmatrix}\n",
        "   \\]\n",
        "\n",
        "3. **Determinant of \\(D\\):**\n",
        "   \\[\n",
        "   \\text{det}(D) = -30\n",
        "   \\]\n",
        "\n"
      ],
      "metadata": {
        "id": "4EIF4vJvUyTR"
      }
    },
    {
      "cell_type": "code",
      "source": [
        "import sympy as sp\n",
        "\n",
        "# Define the matrices\n",
        "D = sp.Matrix([[1, 0, 2], [-1, 3, 1], [2, 4, -2]])\n",
        "E = sp.Matrix([[3, 1, -1], [0, 2, 4], [5, 3, 2]])\n",
        "F = sp.Matrix([[2, -3, 1], [1, 4, -2], [1, 5, 3]])\n",
        "\n",
        "# Calculate the determinants\n",
        "det_D = D.det()\n",
        "det_E = E.det()\n",
        "det_F = F.det()\n",
        "\n",
        "# Print the determinants\n",
        "print(\"Determinant of D:\", det_D)\n",
        "print(\"Determinant of E:\", det_E)\n",
        "print(\"Determinant of F:\", det_F)"
      ],
      "metadata": {
        "id": "G_qNCfP9P9ZT"
      },
      "execution_count": null,
      "outputs": []
    }
  ],
  "metadata": {
    "kernelspec": {
      "display_name": "Python 3",
      "language": "python",
      "name": "python3"
    },
    "language_info": {
      "codemirror_mode": {
        "name": "ipython",
        "version": 3
      },
      "file_extension": ".py",
      "mimetype": "text/x-python",
      "name": "python",
      "nbconvert_exporter": "python",
      "pygments_lexer": "ipython3",
      "version": "3.11.9"
    },
    "colab": {
      "provenance": []
    }
  },
  "nbformat": 4,
  "nbformat_minor": 0
}